{
 "cells": [
  {
   "cell_type": "code",
   "execution_count": 1,
   "metadata": {},
   "outputs": [
    {
     "data": {
      "text/html": [
       "        <script type=\"text/javascript\">\n",
       "        window.PlotlyConfig = {MathJaxConfig: 'local'};\n",
       "        if (window.MathJax && window.MathJax.Hub && window.MathJax.Hub.Config) {window.MathJax.Hub.Config({SVG: {font: \"STIX-Web\"}});}\n",
       "        if (typeof require !== 'undefined') {\n",
       "        require.undef(\"plotly\");\n",
       "        requirejs.config({\n",
       "            paths: {\n",
       "                'plotly': ['https://cdn.plot.ly/plotly-2.12.1.min']\n",
       "            }\n",
       "        });\n",
       "        require(['plotly'], function(Plotly) {\n",
       "            window._Plotly = Plotly;\n",
       "        });\n",
       "        }\n",
       "        </script>\n",
       "        "
      ]
     },
     "metadata": {},
     "output_type": "display_data"
    }
   ],
   "source": [
    "#------------------------------------#\n",
    "#------------- packages--------------#\n",
    "#------------------------------------#\n",
    "\n",
    "import pandas as pd\n",
    "from datetime import date\n",
    "import plotly.express as px\n",
    "from plotly.subplots import make_subplots\n",
    "import plotly.graph_objects as go\n",
    "import plotly.figure_factory as ff\n",
    "import cufflinks as cf\n",
    "cf.go_offline()\n",
    "\n",
    "import missingno as msno\n",
    "import os"
   ]
  },
  {
   "cell_type": "code",
   "execution_count": null,
   "metadata": {},
   "outputs": [],
   "source": [
    "#------------------------------------#\n",
    "#---------- read par list------------#\n",
    "#------------------------------------#\n",
    "\n",
    "list_par = pd.read_csv(\"/Users/beatriceli/Documents/PhD_Research/GitHub/well-being/StudyParticipants.csv\")\n",
    "# par_dic = dict(zip(list_par[\"Participant ID\"]))"
   ]
  },
  {
   "cell_type": "markdown",
   "metadata": {},
   "source": [
    "## Baseline Survey"
   ]
  },
  {
   "cell_type": "code",
   "execution_count": 21,
   "metadata": {},
   "outputs": [
    {
     "data": {
      "text/html": [
       "<div>\n",
       "<style scoped>\n",
       "    .dataframe tbody tr th:only-of-type {\n",
       "        vertical-align: middle;\n",
       "    }\n",
       "\n",
       "    .dataframe tbody tr th {\n",
       "        vertical-align: top;\n",
       "    }\n",
       "\n",
       "    .dataframe thead th {\n",
       "        text-align: right;\n",
       "    }\n",
       "</style>\n",
       "<table border=\"1\" class=\"dataframe\">\n",
       "  <thead>\n",
       "    <tr style=\"text-align: right;\">\n",
       "      <th></th>\n",
       "      <th>StartDate</th>\n",
       "      <th>EndDate</th>\n",
       "      <th>Duration (in seconds)</th>\n",
       "      <th>RecordedDate</th>\n",
       "      <th>Q2</th>\n",
       "      <th>Q3</th>\n",
       "      <th>Q4</th>\n",
       "      <th>Q5</th>\n",
       "      <th>Q6</th>\n",
       "      <th>Q7</th>\n",
       "      <th>...</th>\n",
       "      <th>Q58_5</th>\n",
       "      <th>Q58_6</th>\n",
       "      <th>Q58_7</th>\n",
       "      <th>Q53_1</th>\n",
       "      <th>Q60_1</th>\n",
       "      <th>Q49_1</th>\n",
       "      <th>Q49_2</th>\n",
       "      <th>pid</th>\n",
       "      <th>date</th>\n",
       "      <th>age</th>\n",
       "    </tr>\n",
       "  </thead>\n",
       "  <tbody>\n",
       "    <tr>\n",
       "      <th>0</th>\n",
       "      <td>2022-04-26 09:03:00</td>\n",
       "      <td>2022-04-26 09:20:00</td>\n",
       "      <td>998</td>\n",
       "      <td>4/26/22 9:20</td>\n",
       "      <td>1994-09-25</td>\n",
       "      <td>Male</td>\n",
       "      <td>Asian</td>\n",
       "      <td>Non-Hispanic</td>\n",
       "      <td>China</td>\n",
       "      <td>Graduate Student</td>\n",
       "      <td>...</td>\n",
       "      <td>Somewhat satisfied</td>\n",
       "      <td>Extremely satisfied</td>\n",
       "      <td>Neither satisfied nor dissatisfied</td>\n",
       "      <td>1.0</td>\n",
       "      <td>3.0</td>\n",
       "      <td>6-8 hours</td>\n",
       "      <td>Less than 2 hours</td>\n",
       "      <td>edr</td>\n",
       "      <td>2022-04-26</td>\n",
       "      <td>27.602740</td>\n",
       "    </tr>\n",
       "    <tr>\n",
       "      <th>1</th>\n",
       "      <td>2022-04-26 18:34:00</td>\n",
       "      <td>2022-04-26 18:43:00</td>\n",
       "      <td>550</td>\n",
       "      <td>4/26/22 18:43</td>\n",
       "      <td>1986-06-02</td>\n",
       "      <td>Male</td>\n",
       "      <td>Caucasian/White</td>\n",
       "      <td>Hispanic/ Latino or of Spanish origin</td>\n",
       "      <td>Brazil</td>\n",
       "      <td>Graduate Student</td>\n",
       "      <td>...</td>\n",
       "      <td>Somewhat satisfied</td>\n",
       "      <td>Somewhat satisfied</td>\n",
       "      <td>Somewhat satisfied</td>\n",
       "      <td>3.0</td>\n",
       "      <td>4.0</td>\n",
       "      <td>6-8 hours</td>\n",
       "      <td>Less than 2 hours</td>\n",
       "      <td>egl</td>\n",
       "      <td>2022-04-26</td>\n",
       "      <td>35.923288</td>\n",
       "    </tr>\n",
       "    <tr>\n",
       "      <th>2</th>\n",
       "      <td>2022-04-27 12:13:00</td>\n",
       "      <td>2022-04-27 12:22:00</td>\n",
       "      <td>539</td>\n",
       "      <td>4/27/22 12:22</td>\n",
       "      <td>1995-08-07</td>\n",
       "      <td>Male</td>\n",
       "      <td>Middle Eastern</td>\n",
       "      <td>Non-Hispanic</td>\n",
       "      <td>Iran</td>\n",
       "      <td>Graduate Student</td>\n",
       "      <td>...</td>\n",
       "      <td>Extremely satisfied</td>\n",
       "      <td>Extremely satisfied</td>\n",
       "      <td>Somewhat dissatisfied</td>\n",
       "      <td>3.0</td>\n",
       "      <td>3.0</td>\n",
       "      <td>4-6 hours</td>\n",
       "      <td>2-4 hours</td>\n",
       "      <td>uja</td>\n",
       "      <td>2022-04-27</td>\n",
       "      <td>26.739726</td>\n",
       "    </tr>\n",
       "    <tr>\n",
       "      <th>3</th>\n",
       "      <td>2022-04-28 14:14:00</td>\n",
       "      <td>2022-04-28 14:22:00</td>\n",
       "      <td>517</td>\n",
       "      <td>4/28/22 14:22</td>\n",
       "      <td>1995-06-28</td>\n",
       "      <td>Male</td>\n",
       "      <td>Asian</td>\n",
       "      <td>Non-Hispanic</td>\n",
       "      <td>China</td>\n",
       "      <td>Graduate Student</td>\n",
       "      <td>...</td>\n",
       "      <td>Extremely satisfied</td>\n",
       "      <td>Extremely satisfied</td>\n",
       "      <td>Extremely dissatisfied</td>\n",
       "      <td>4.0</td>\n",
       "      <td>4.0</td>\n",
       "      <td>2-4 hours</td>\n",
       "      <td>6-8 hours</td>\n",
       "      <td>lpz</td>\n",
       "      <td>2022-04-28</td>\n",
       "      <td>26.852055</td>\n",
       "    </tr>\n",
       "    <tr>\n",
       "      <th>4</th>\n",
       "      <td>2022-04-28 16:38:00</td>\n",
       "      <td>2022-04-28 16:45:00</td>\n",
       "      <td>383</td>\n",
       "      <td>4/28/22 16:45</td>\n",
       "      <td>1996-09-17</td>\n",
       "      <td>Female</td>\n",
       "      <td>Asian</td>\n",
       "      <td>Non-Hispanic</td>\n",
       "      <td>Bangladesh</td>\n",
       "      <td>Graduate Student</td>\n",
       "      <td>...</td>\n",
       "      <td>Extremely dissatisfied</td>\n",
       "      <td>Neither satisfied nor dissatisfied</td>\n",
       "      <td>Extremely dissatisfied</td>\n",
       "      <td>2.0</td>\n",
       "      <td>NaN</td>\n",
       "      <td>4-6 hours</td>\n",
       "      <td>More thank 10 hours</td>\n",
       "      <td>j02</td>\n",
       "      <td>2022-04-28</td>\n",
       "      <td>25.627397</td>\n",
       "    </tr>\n",
       "  </tbody>\n",
       "</table>\n",
       "<p>5 rows × 90 columns</p>\n",
       "</div>"
      ],
      "text/plain": [
       "            StartDate             EndDate  Duration (in seconds)  \\\n",
       "0 2022-04-26 09:03:00 2022-04-26 09:20:00                    998   \n",
       "1 2022-04-26 18:34:00 2022-04-26 18:43:00                    550   \n",
       "2 2022-04-27 12:13:00 2022-04-27 12:22:00                    539   \n",
       "3 2022-04-28 14:14:00 2022-04-28 14:22:00                    517   \n",
       "4 2022-04-28 16:38:00 2022-04-28 16:45:00                    383   \n",
       "\n",
       "    RecordedDate          Q2      Q3               Q4  \\\n",
       "0   4/26/22 9:20  1994-09-25    Male            Asian   \n",
       "1  4/26/22 18:43  1986-06-02    Male  Caucasian/White   \n",
       "2  4/27/22 12:22  1995-08-07    Male   Middle Eastern   \n",
       "3  4/28/22 14:22  1995-06-28    Male            Asian   \n",
       "4  4/28/22 16:45  1996-09-17  Female            Asian   \n",
       "\n",
       "                                      Q5          Q6                Q7  ...  \\\n",
       "0                           Non-Hispanic       China  Graduate Student  ...   \n",
       "1  Hispanic/ Latino or of Spanish origin      Brazil  Graduate Student  ...   \n",
       "2                           Non-Hispanic        Iran  Graduate Student  ...   \n",
       "3                           Non-Hispanic       China  Graduate Student  ...   \n",
       "4                           Non-Hispanic  Bangladesh  Graduate Student  ...   \n",
       "\n",
       "                    Q58_5                               Q58_6  \\\n",
       "0      Somewhat satisfied                 Extremely satisfied   \n",
       "1      Somewhat satisfied                  Somewhat satisfied   \n",
       "2     Extremely satisfied                 Extremely satisfied   \n",
       "3     Extremely satisfied                 Extremely satisfied   \n",
       "4  Extremely dissatisfied  Neither satisfied nor dissatisfied   \n",
       "\n",
       "                                Q58_7  Q53_1  Q60_1      Q49_1  \\\n",
       "0  Neither satisfied nor dissatisfied    1.0    3.0  6-8 hours   \n",
       "1                  Somewhat satisfied    3.0    4.0  6-8 hours   \n",
       "2               Somewhat dissatisfied    3.0    3.0  4-6 hours   \n",
       "3              Extremely dissatisfied    4.0    4.0  2-4 hours   \n",
       "4              Extremely dissatisfied    2.0    NaN  4-6 hours   \n",
       "\n",
       "                 Q49_2  pid        date        age  \n",
       "0    Less than 2 hours  edr  2022-04-26  27.602740  \n",
       "1    Less than 2 hours  egl  2022-04-26  35.923288  \n",
       "2            2-4 hours  uja  2022-04-27  26.739726  \n",
       "3            6-8 hours  lpz  2022-04-28  26.852055  \n",
       "4  More thank 10 hours  j02  2022-04-28  25.627397  \n",
       "\n",
       "[5 rows x 90 columns]"
      ]
     },
     "execution_count": 21,
     "metadata": {},
     "output_type": "execute_result"
    }
   ],
   "source": [
    "# breakdown baseline\n",
    "\n",
    "survey_base = pd.read_csv(\"/Users/beatriceli/Documents/PhD_Research/GitHub/well-being/cleaned-surveys/Baseline.csv\",parse_dates=[\"StartDate\",\"EndDate\"])\n",
    "survey_base[\"date\"] = pd.to_datetime(survey_base[\"StartDate\"]).dt.date\n",
    "\n",
    "# Q2 is the question about age; need to convert to date m/dd/yy \n",
    "survey_base[\"Q2\"] = pd.to_datetime(survey_base[\"Q2\"], format='%m/%d/%y').dt.date\n",
    "\n",
    "# calculate age from Q2 at the time of survey\n",
    "survey_base[\"age\"] = (survey_base[\"date\"] - survey_base[\"Q2\"]).dt.days/365\n",
    "\n",
    "survey_base.head()\n"
   ]
  },
  {
   "cell_type": "code",
   "execution_count": 24,
   "metadata": {},
   "outputs": [
    {
     "data": {
      "text/html": [
       "<div>\n",
       "<style scoped>\n",
       "    .dataframe tbody tr th:only-of-type {\n",
       "        vertical-align: middle;\n",
       "    }\n",
       "\n",
       "    .dataframe tbody tr th {\n",
       "        vertical-align: top;\n",
       "    }\n",
       "\n",
       "    .dataframe thead th {\n",
       "        text-align: right;\n",
       "    }\n",
       "</style>\n",
       "<table border=\"1\" class=\"dataframe\">\n",
       "  <thead>\n",
       "    <tr style=\"text-align: right;\">\n",
       "      <th></th>\n",
       "      <th>pid</th>\n",
       "      <th>age</th>\n",
       "    </tr>\n",
       "  </thead>\n",
       "  <tbody>\n",
       "    <tr>\n",
       "      <th>0</th>\n",
       "      <td>edr</td>\n",
       "      <td>28.0</td>\n",
       "    </tr>\n",
       "    <tr>\n",
       "      <th>1</th>\n",
       "      <td>egl</td>\n",
       "      <td>36.0</td>\n",
       "    </tr>\n",
       "    <tr>\n",
       "      <th>2</th>\n",
       "      <td>uja</td>\n",
       "      <td>27.0</td>\n",
       "    </tr>\n",
       "    <tr>\n",
       "      <th>3</th>\n",
       "      <td>lpz</td>\n",
       "      <td>27.0</td>\n",
       "    </tr>\n",
       "    <tr>\n",
       "      <th>4</th>\n",
       "      <td>j02</td>\n",
       "      <td>26.0</td>\n",
       "    </tr>\n",
       "    <tr>\n",
       "      <th>5</th>\n",
       "      <td>heh</td>\n",
       "      <td>26.0</td>\n",
       "    </tr>\n",
       "    <tr>\n",
       "      <th>6</th>\n",
       "      <td>mr1</td>\n",
       "      <td>28.0</td>\n",
       "    </tr>\n",
       "    <tr>\n",
       "      <th>7</th>\n",
       "      <td>xil</td>\n",
       "      <td>27.0</td>\n",
       "    </tr>\n",
       "    <tr>\n",
       "      <th>8</th>\n",
       "      <td>pgm</td>\n",
       "      <td>34.0</td>\n",
       "    </tr>\n",
       "    <tr>\n",
       "      <th>9</th>\n",
       "      <td>vxx</td>\n",
       "      <td>52.0</td>\n",
       "    </tr>\n",
       "    <tr>\n",
       "      <th>10</th>\n",
       "      <td>h9u</td>\n",
       "      <td>25.0</td>\n",
       "    </tr>\n",
       "    <tr>\n",
       "      <th>11</th>\n",
       "      <td>oyb</td>\n",
       "      <td>33.0</td>\n",
       "    </tr>\n",
       "    <tr>\n",
       "      <th>12</th>\n",
       "      <td>ssg</td>\n",
       "      <td>34.0</td>\n",
       "    </tr>\n",
       "  </tbody>\n",
       "</table>\n",
       "</div>"
      ],
      "text/plain": [
       "    pid   age\n",
       "0   edr  28.0\n",
       "1   egl  36.0\n",
       "2   uja  27.0\n",
       "3   lpz  27.0\n",
       "4   j02  26.0\n",
       "5   heh  26.0\n",
       "6   mr1  28.0\n",
       "7   xil  27.0\n",
       "8   pgm  34.0\n",
       "9   vxx  52.0\n",
       "10  h9u  25.0\n",
       "11  oyb  33.0\n",
       "12  ssg  34.0"
      ]
     },
     "execution_count": 24,
     "metadata": {},
     "output_type": "execute_result"
    }
   ],
   "source": [
    "# get age for each participant and round down to nearest integer\n",
    "survey_base[\"age\"] = survey_base.groupby(\"pid\")[\"age\"].transform(\"min\").round(0)\n",
    "# print out the age for each participant\n",
    "survey_base[[\"pid\",\"age\"]]"
   ]
  },
  {
   "cell_type": "code",
   "execution_count": 32,
   "metadata": {},
   "outputs": [
    {
     "data": {
      "text/plain": [
       "race\n",
       "Asian                               5\n",
       "Caucasian/White                     5\n",
       "Caucasian/White,African American    1\n",
       "Middle Eastern                      2\n",
       "Name: pid, dtype: int64"
      ]
     },
     "execution_count": 32,
     "metadata": {},
     "output_type": "execute_result"
    }
   ],
   "source": [
    "# breakdown of gender\n",
    "gender = survey_base['Q3'].value_counts()\n",
    "\n",
    "# racial background\n",
    "# rename Q4 to race\n",
    "survey_base.rename(columns={\"Q4\":\"race\"},inplace=True)\n",
    "# group particpants by race \n",
    "survey_base.groupby([\"race\"])[\"pid\"].count()"
   ]
  },
  {
   "attachments": {},
   "cell_type": "markdown",
   "metadata": {},
   "source": [
    "## Daily Check-In Survey"
   ]
  },
  {
   "cell_type": "code",
   "execution_count": 97,
   "metadata": {},
   "outputs": [
    {
     "data": {
      "text/html": [
       "<div>\n",
       "<style scoped>\n",
       "    .dataframe tbody tr th:only-of-type {\n",
       "        vertical-align: middle;\n",
       "    }\n",
       "\n",
       "    .dataframe tbody tr th {\n",
       "        vertical-align: top;\n",
       "    }\n",
       "\n",
       "    .dataframe thead th {\n",
       "        text-align: right;\n",
       "    }\n",
       "</style>\n",
       "<table border=\"1\" class=\"dataframe\">\n",
       "  <thead>\n",
       "    <tr style=\"text-align: right;\">\n",
       "      <th></th>\n",
       "      <th>RecordedDate</th>\n",
       "      <th>RecipientLastName</th>\n",
       "      <th>LocationLatitude</th>\n",
       "      <th>LocationLongitude</th>\n",
       "      <th>Q3_1</th>\n",
       "      <th>Q4</th>\n",
       "      <th>Q15</th>\n",
       "      <th>Q6</th>\n",
       "      <th>Q28</th>\n",
       "      <th>Q29</th>\n",
       "      <th>...</th>\n",
       "      <th>Q35_1</th>\n",
       "      <th>Q36_1</th>\n",
       "      <th>Q37_1</th>\n",
       "      <th>Q22_1</th>\n",
       "      <th>Q23_1</th>\n",
       "      <th>Q27_1</th>\n",
       "      <th>Q34</th>\n",
       "      <th>Q34_6_TEXT</th>\n",
       "      <th>Q35</th>\n",
       "      <th>pid</th>\n",
       "    </tr>\n",
       "  </thead>\n",
       "  <tbody>\n",
       "    <tr>\n",
       "      <th>0</th>\n",
       "      <td>2022-04-27</td>\n",
       "      <td>fX3ldshke76h</td>\n",
       "      <td>38.0321</td>\n",
       "      <td>-78.489</td>\n",
       "      <td>5.0</td>\n",
       "      <td>None</td>\n",
       "      <td>4/27/22 0:30</td>\n",
       "      <td>4/27/22 7:20</td>\n",
       "      <td>Did not exercise</td>\n",
       "      <td>My Friends,My colleagues/classsmates/students</td>\n",
       "      <td>...</td>\n",
       "      <td>NaN</td>\n",
       "      <td>NaN</td>\n",
       "      <td>NaN</td>\n",
       "      <td>NaN</td>\n",
       "      <td>4.0</td>\n",
       "      <td>5.0</td>\n",
       "      <td>Neutral,Stressed</td>\n",
       "      <td>NaN</td>\n",
       "      <td>Work</td>\n",
       "      <td>edr</td>\n",
       "    </tr>\n",
       "    <tr>\n",
       "      <th>1</th>\n",
       "      <td>2022-04-27</td>\n",
       "      <td>vUcMWfpPa8sm</td>\n",
       "      <td>38.0321</td>\n",
       "      <td>-78.489</td>\n",
       "      <td>4.0</td>\n",
       "      <td>None</td>\n",
       "      <td>4/27/22 0:40</td>\n",
       "      <td>4/27/22 9:00</td>\n",
       "      <td>In the afternoon</td>\n",
       "      <td>My Friends,My colleagues/classsmates/students</td>\n",
       "      <td>...</td>\n",
       "      <td>NaN</td>\n",
       "      <td>NaN</td>\n",
       "      <td>NaN</td>\n",
       "      <td>NaN</td>\n",
       "      <td>NaN</td>\n",
       "      <td>5.0</td>\n",
       "      <td>Neutral</td>\n",
       "      <td>NaN</td>\n",
       "      <td>Work</td>\n",
       "      <td>egl</td>\n",
       "    </tr>\n",
       "    <tr>\n",
       "      <th>2</th>\n",
       "      <td>2022-04-27</td>\n",
       "      <td>OGkKFHbdNYm8</td>\n",
       "      <td>38.0321</td>\n",
       "      <td>-78.489</td>\n",
       "      <td>NaN</td>\n",
       "      <td>Twice</td>\n",
       "      <td>4/27/22 2:35</td>\n",
       "      <td>4/27/22 10:30</td>\n",
       "      <td>In the evening</td>\n",
       "      <td>My Friends,New people</td>\n",
       "      <td>...</td>\n",
       "      <td>NaN</td>\n",
       "      <td>NaN</td>\n",
       "      <td>5.0</td>\n",
       "      <td>2.0</td>\n",
       "      <td>3.0</td>\n",
       "      <td>3.0</td>\n",
       "      <td>Stressed</td>\n",
       "      <td>NaN</td>\n",
       "      <td>Work</td>\n",
       "      <td>uja</td>\n",
       "    </tr>\n",
       "    <tr>\n",
       "      <th>3</th>\n",
       "      <td>2022-04-28</td>\n",
       "      <td>OGkKFHbdNYm8</td>\n",
       "      <td>38.0321</td>\n",
       "      <td>-78.489</td>\n",
       "      <td>3.0</td>\n",
       "      <td>Twice</td>\n",
       "      <td>4/28/22 3:15</td>\n",
       "      <td>4/28/22 10:30</td>\n",
       "      <td>Did not exercise</td>\n",
       "      <td>My Friends</td>\n",
       "      <td>...</td>\n",
       "      <td>NaN</td>\n",
       "      <td>NaN</td>\n",
       "      <td>NaN</td>\n",
       "      <td>4.0</td>\n",
       "      <td>3.0</td>\n",
       "      <td>3.0</td>\n",
       "      <td>Neutral,Sadness,Frustrated</td>\n",
       "      <td>NaN</td>\n",
       "      <td>Work,Sleep</td>\n",
       "      <td>uja</td>\n",
       "    </tr>\n",
       "    <tr>\n",
       "      <th>4</th>\n",
       "      <td>2022-04-28</td>\n",
       "      <td>fX3ldshke76h</td>\n",
       "      <td>38.0321</td>\n",
       "      <td>-78.489</td>\n",
       "      <td>5.0</td>\n",
       "      <td>None</td>\n",
       "      <td>4/28/22 2:00</td>\n",
       "      <td>4/28/22 10:00</td>\n",
       "      <td>In the evening</td>\n",
       "      <td>My Family,My Friends,My colleagues/classsmates...</td>\n",
       "      <td>...</td>\n",
       "      <td>NaN</td>\n",
       "      <td>NaN</td>\n",
       "      <td>5.0</td>\n",
       "      <td>5.0</td>\n",
       "      <td>NaN</td>\n",
       "      <td>6.0</td>\n",
       "      <td>Neutral,Happiness</td>\n",
       "      <td>NaN</td>\n",
       "      <td>Work,Personal</td>\n",
       "      <td>edr</td>\n",
       "    </tr>\n",
       "  </tbody>\n",
       "</table>\n",
       "<p>5 rows × 22 columns</p>\n",
       "</div>"
      ],
      "text/plain": [
       "  RecordedDate RecipientLastName  LocationLatitude  LocationLongitude  Q3_1  \\\n",
       "0   2022-04-27      fX3ldshke76h           38.0321            -78.489   5.0   \n",
       "1   2022-04-27      vUcMWfpPa8sm           38.0321            -78.489   4.0   \n",
       "2   2022-04-27      OGkKFHbdNYm8           38.0321            -78.489   NaN   \n",
       "3   2022-04-28      OGkKFHbdNYm8           38.0321            -78.489   3.0   \n",
       "4   2022-04-28      fX3ldshke76h           38.0321            -78.489   5.0   \n",
       "\n",
       "      Q4           Q15             Q6               Q28  \\\n",
       "0   None  4/27/22 0:30   4/27/22 7:20  Did not exercise   \n",
       "1   None  4/27/22 0:40   4/27/22 9:00  In the afternoon   \n",
       "2  Twice  4/27/22 2:35  4/27/22 10:30    In the evening   \n",
       "3  Twice  4/28/22 3:15  4/28/22 10:30  Did not exercise   \n",
       "4   None  4/28/22 2:00  4/28/22 10:00    In the evening   \n",
       "\n",
       "                                                 Q29  ...  Q35_1  Q36_1  \\\n",
       "0      My Friends,My colleagues/classsmates/students  ...    NaN    NaN   \n",
       "1      My Friends,My colleagues/classsmates/students  ...    NaN    NaN   \n",
       "2                              My Friends,New people  ...    NaN    NaN   \n",
       "3                                         My Friends  ...    NaN    NaN   \n",
       "4  My Family,My Friends,My colleagues/classsmates...  ...    NaN    NaN   \n",
       "\n",
       "   Q37_1  Q22_1  Q23_1  Q27_1                         Q34  Q34_6_TEXT  \\\n",
       "0    NaN    NaN    4.0    5.0            Neutral,Stressed         NaN   \n",
       "1    NaN    NaN    NaN    5.0                     Neutral         NaN   \n",
       "2    5.0    2.0    3.0    3.0                    Stressed         NaN   \n",
       "3    NaN    4.0    3.0    3.0  Neutral,Sadness,Frustrated         NaN   \n",
       "4    5.0    5.0    NaN    6.0           Neutral,Happiness         NaN   \n",
       "\n",
       "             Q35  pid  \n",
       "0           Work  edr  \n",
       "1           Work  egl  \n",
       "2           Work  uja  \n",
       "3     Work,Sleep  uja  \n",
       "4  Work,Personal  edr  \n",
       "\n",
       "[5 rows x 22 columns]"
      ]
     },
     "execution_count": 97,
     "metadata": {},
     "output_type": "execute_result"
    }
   ],
   "source": [
    "#------------------------------------#\n",
    "#-------read check-in survey---------#\n",
    "#------------------------------------#\n",
    "\n",
    "daily = pd.read_csv(\"/Users/beatriceli/Documents/PhD_Research/GitHub/well-being/cleaned-surveys/daily.csv\",parse_dates=[\"StartDate\",\"EndDate\",\"RecordedDate\"])\n",
    "# drop StartDate, EndDate, Progress, Duration (in seconds), Finished\n",
    "daily.drop([\"StartDate\",\"EndDate\",\"Progress\",\"Duration (in seconds)\",\"Finished\"],axis=1,inplace=True)\n",
    "daily.head()"
   ]
  },
  {
   "cell_type": "code",
   "execution_count": 86,
   "metadata": {},
   "outputs": [
    {
     "data": {
      "text/plain": [
       "pid\n",
       "edr    45\n",
       "egl    52\n",
       "h9u    59\n",
       "heh    59\n",
       "j02    36\n",
       "lpz    58\n",
       "mr1    44\n",
       "oyb    44\n",
       "pgm    35\n",
       "ssg    42\n",
       "uja    48\n",
       "vxx    50\n",
       "xil    43\n",
       "Name: RecordedDate, dtype: int64"
      ]
     },
     "execution_count": 86,
     "metadata": {},
     "output_type": "execute_result"
    }
   ],
   "source": [
    "# get count of rows for each pid\n",
    "daily.groupby([\"pid\"])[\"RecordedDate\"].count()"
   ]
  },
  {
   "cell_type": "code",
   "execution_count": 87,
   "metadata": {},
   "outputs": [
    {
     "name": "stdout",
     "output_type": "stream",
     "text": [
      "<class 'pandas.core.frame.DataFrame'>\n",
      "RangeIndex: 644 entries, 0 to 643\n",
      "Data columns (total 22 columns):\n",
      " #   Column             Non-Null Count  Dtype         \n",
      "---  ------             --------------  -----         \n",
      " 0   RecordedDate       615 non-null    datetime64[ns]\n",
      " 1   RecipientLastName  615 non-null    object        \n",
      " 2   LocationLatitude   615 non-null    float64       \n",
      " 3   LocationLongitude  615 non-null    float64       \n",
      " 4   Q3_1               589 non-null    float64       \n",
      " 5   Q4                 615 non-null    object        \n",
      " 6   Q15                615 non-null    object        \n",
      " 7   Q6                 615 non-null    object        \n",
      " 8   Q28                614 non-null    object        \n",
      " 9   Q29                615 non-null    object        \n",
      " 10  Q33_1              63 non-null     float64       \n",
      " 11  Q34_1              106 non-null    float64       \n",
      " 12  Q35_1              144 non-null    float64       \n",
      " 13  Q36_1              126 non-null    float64       \n",
      " 14  Q37_1              115 non-null    float64       \n",
      " 15  Q22_1              520 non-null    float64       \n",
      " 16  Q23_1              504 non-null    float64       \n",
      " 17  Q27_1              514 non-null    float64       \n",
      " 18  Q34                615 non-null    object        \n",
      " 19  Q34_6_TEXT         36 non-null     object        \n",
      " 20  Q35                613 non-null    object        \n",
      " 21  pid                615 non-null    object        \n",
      "dtypes: datetime64[ns](1), float64(11), object(10)\n",
      "memory usage: 110.8+ KB\n"
     ]
    }
   ],
   "source": [
    "daily.info()"
   ]
  },
  {
   "cell_type": "code",
   "execution_count": 88,
   "metadata": {},
   "outputs": [
    {
     "data": {
      "text/html": [
       "<div>\n",
       "<style scoped>\n",
       "    .dataframe tbody tr th:only-of-type {\n",
       "        vertical-align: middle;\n",
       "    }\n",
       "\n",
       "    .dataframe tbody tr th {\n",
       "        vertical-align: top;\n",
       "    }\n",
       "\n",
       "    .dataframe thead th {\n",
       "        text-align: right;\n",
       "    }\n",
       "</style>\n",
       "<table border=\"1\" class=\"dataframe\">\n",
       "  <thead>\n",
       "    <tr style=\"text-align: right;\">\n",
       "      <th></th>\n",
       "      <th>pid</th>\n",
       "      <th>Q33_1</th>\n",
       "      <th>Q34_1</th>\n",
       "      <th>Q35_1</th>\n",
       "      <th>Q36_1</th>\n",
       "      <th>Q37_1</th>\n",
       "      <th>attention_check</th>\n",
       "    </tr>\n",
       "  </thead>\n",
       "  <tbody>\n",
       "    <tr>\n",
       "      <th>0</th>\n",
       "      <td>edr</td>\n",
       "      <td>NaN</td>\n",
       "      <td>NaN</td>\n",
       "      <td>NaN</td>\n",
       "      <td>NaN</td>\n",
       "      <td>NaN</td>\n",
       "      <td>False</td>\n",
       "    </tr>\n",
       "    <tr>\n",
       "      <th>1</th>\n",
       "      <td>egl</td>\n",
       "      <td>NaN</td>\n",
       "      <td>2.0</td>\n",
       "      <td>NaN</td>\n",
       "      <td>NaN</td>\n",
       "      <td>NaN</td>\n",
       "      <td>True</td>\n",
       "    </tr>\n",
       "    <tr>\n",
       "      <th>2</th>\n",
       "      <td>uja</td>\n",
       "      <td>NaN</td>\n",
       "      <td>NaN</td>\n",
       "      <td>NaN</td>\n",
       "      <td>NaN</td>\n",
       "      <td>5.0</td>\n",
       "      <td>True</td>\n",
       "    </tr>\n",
       "    <tr>\n",
       "      <th>3</th>\n",
       "      <td>uja</td>\n",
       "      <td>1.0</td>\n",
       "      <td>NaN</td>\n",
       "      <td>NaN</td>\n",
       "      <td>NaN</td>\n",
       "      <td>NaN</td>\n",
       "      <td>True</td>\n",
       "    </tr>\n",
       "    <tr>\n",
       "      <th>4</th>\n",
       "      <td>edr</td>\n",
       "      <td>NaN</td>\n",
       "      <td>NaN</td>\n",
       "      <td>NaN</td>\n",
       "      <td>NaN</td>\n",
       "      <td>5.0</td>\n",
       "      <td>True</td>\n",
       "    </tr>\n",
       "    <tr>\n",
       "      <th>...</th>\n",
       "      <td>...</td>\n",
       "      <td>...</td>\n",
       "      <td>...</td>\n",
       "      <td>...</td>\n",
       "      <td>...</td>\n",
       "      <td>...</td>\n",
       "      <td>...</td>\n",
       "    </tr>\n",
       "    <tr>\n",
       "      <th>639</th>\n",
       "      <td>ssg</td>\n",
       "      <td>1.0</td>\n",
       "      <td>NaN</td>\n",
       "      <td>NaN</td>\n",
       "      <td>NaN</td>\n",
       "      <td>NaN</td>\n",
       "      <td>True</td>\n",
       "    </tr>\n",
       "    <tr>\n",
       "      <th>640</th>\n",
       "      <td>h9u</td>\n",
       "      <td>NaN</td>\n",
       "      <td>2.0</td>\n",
       "      <td>NaN</td>\n",
       "      <td>NaN</td>\n",
       "      <td>NaN</td>\n",
       "      <td>True</td>\n",
       "    </tr>\n",
       "    <tr>\n",
       "      <th>641</th>\n",
       "      <td>h9u</td>\n",
       "      <td>NaN</td>\n",
       "      <td>2.0</td>\n",
       "      <td>NaN</td>\n",
       "      <td>NaN</td>\n",
       "      <td>NaN</td>\n",
       "      <td>True</td>\n",
       "    </tr>\n",
       "    <tr>\n",
       "      <th>642</th>\n",
       "      <td>h9u</td>\n",
       "      <td>NaN</td>\n",
       "      <td>2.0</td>\n",
       "      <td>NaN</td>\n",
       "      <td>NaN</td>\n",
       "      <td>NaN</td>\n",
       "      <td>True</td>\n",
       "    </tr>\n",
       "    <tr>\n",
       "      <th>643</th>\n",
       "      <td>ssg</td>\n",
       "      <td>NaN</td>\n",
       "      <td>2.0</td>\n",
       "      <td>NaN</td>\n",
       "      <td>NaN</td>\n",
       "      <td>NaN</td>\n",
       "      <td>True</td>\n",
       "    </tr>\n",
       "  </tbody>\n",
       "</table>\n",
       "<p>644 rows × 7 columns</p>\n",
       "</div>"
      ],
      "text/plain": [
       "     pid  Q33_1  Q34_1  Q35_1  Q36_1  Q37_1  attention_check\n",
       "0    edr    NaN    NaN    NaN    NaN    NaN            False\n",
       "1    egl    NaN    2.0    NaN    NaN    NaN             True\n",
       "2    uja    NaN    NaN    NaN    NaN    5.0             True\n",
       "3    uja    1.0    NaN    NaN    NaN    NaN             True\n",
       "4    edr    NaN    NaN    NaN    NaN    5.0             True\n",
       "..   ...    ...    ...    ...    ...    ...              ...\n",
       "639  ssg    1.0    NaN    NaN    NaN    NaN             True\n",
       "640  h9u    NaN    2.0    NaN    NaN    NaN             True\n",
       "641  h9u    NaN    2.0    NaN    NaN    NaN             True\n",
       "642  h9u    NaN    2.0    NaN    NaN    NaN             True\n",
       "643  ssg    NaN    2.0    NaN    NaN    NaN             True\n",
       "\n",
       "[644 rows x 7 columns]"
      ]
     },
     "execution_count": 88,
     "metadata": {},
     "output_type": "execute_result"
    }
   ],
   "source": [
    "# Q33_1, Q34_1, Q35_1, Q36_1 and Q37_1 are attention check questions\n",
    "# check if each partcipant answered at least one of the attention check questions\n",
    "daily[\"attention_check\"] = daily[[\"Q33_1\",\"Q34_1\",\"Q35_1\",\"Q36_1\",\"Q37_1\"]].notnull().any(axis=1)\n",
    "# get \"pid\", \"Q33_1\", \"Q34_1\", \"Q35_1\", \"Q36_1\", \"Q37_1\", \"attenion_check\" columns\n",
    "daily[[\"pid\",\"Q33_1\",\"Q34_1\",\"Q35_1\",\"Q36_1\",\"Q37_1\",\"attention_check\"]]"
   ]
  },
  {
   "cell_type": "code",
   "execution_count": 89,
   "metadata": {},
   "outputs": [
    {
     "data": {
      "text/plain": [
       "True     554\n",
       "False     90\n",
       "Name: attention_check, dtype: int64"
      ]
     },
     "execution_count": 89,
     "metadata": {},
     "output_type": "execute_result"
    }
   ],
   "source": [
    "# how many responses did not respond to attention check\n",
    "daily[\"attention_check\"].value_counts()\n",
    "\n",
    "# True: 554; False: 90"
   ]
  },
  {
   "cell_type": "code",
   "execution_count": 71,
   "metadata": {},
   "outputs": [
    {
     "data": {
      "text/plain": [
       "0"
      ]
     },
     "execution_count": 71,
     "metadata": {},
     "output_type": "execute_result"
    }
   ],
   "source": [
    "# if there is a response to Q33_1, check if the value is 1\n",
    "attn = daily[\"Q33_1\"]\n",
    "# drop null values\n",
    "attn = attn.dropna()\n",
    "# how many values are not 1\n",
    "attn[attn != 1].count()\n",
    "\n",
    "# if there is a response to Q34_1, check if the value is 2\n",
    "attn = daily[\"Q34_1\"]\n",
    "# drop null values\n",
    "attn = attn.dropna()\n",
    "# how many values are not 2\n",
    "attn[attn != 2].count()\n",
    "\n",
    "# if there is a response to Q35_1, check if the value is 3\n",
    "attn = daily[\"Q35_1\"]\n",
    "# drop null values\n",
    "attn = attn.dropna()\n",
    "# how many values are not 3\n",
    "attn[attn != 3].count()\n",
    "\n",
    "# if there is a response to Q36_1, check if the value is 4\n",
    "attn = daily[\"Q36_1\"]\n",
    "# drop null values\n",
    "attn = attn.dropna()\n",
    "# how many values are not 4\n",
    "attn[attn != 4].count()\n",
    "\n",
    " # if there is a response to Q37_1, check if the value is 5\n",
    "attn = daily[\"Q37_1\"]\n",
    "# drop null values\n",
    "attn = attn.dropna()\n",
    "# how many values are not 5\n",
    "attn[attn != 5].count()\n",
    "\n",
    "## The responses that did not respond to attention check questions probably had the slider issue in qualtrics\n",
    "# The reponses to attention check questions were all correct"
   ]
  },
  {
   "cell_type": "code",
   "execution_count": 90,
   "metadata": {},
   "outputs": [],
   "source": [
    "# remove attention check questions\n",
    "daily.drop(columns=[\"Q33_1\",\"Q34_1\",\"Q35_1\",\"Q36_1\",\"Q37_1\"],inplace=True)"
   ]
  },
  {
   "cell_type": "code",
   "execution_count": 91,
   "metadata": {},
   "outputs": [
    {
     "data": {
      "text/plain": [
       "<AxesSubplot: >"
      ]
     },
     "execution_count": 91,
     "metadata": {},
     "output_type": "execute_result"
    },
    {
     "data": {
      "image/png": "[encoded data removed]",
      "text/plain": [
       "<Figure size 2500x1000 with 2 Axes>"
      ]
     },
     "metadata": {},
     "output_type": "display_data"
    }
   ],
   "source": [
    "# create missing value matrix\n",
    "msno.matrix(daily)"
   ]
  },
  {
   "cell_type": "code",
   "execution_count": 92,
   "metadata": {},
   "outputs": [
    {
     "data": {
      "text/plain": [
       "<AxesSubplot: >"
      ]
     },
     "execution_count": 92,
     "metadata": {},
     "output_type": "execute_result"
    },
    {
     "data": {
      "image/png": "[encoded data removed]",
      "text/plain": [
       "<Figure size 2400x1000 with 3 Axes>"
      ]
     },
     "metadata": {},
     "output_type": "display_data"
    }
   ],
   "source": [
    "msno.bar(daily)"
   ]
  },
  {
   "cell_type": "code",
   "execution_count": 93,
   "metadata": {},
   "outputs": [
    {
     "data": {
      "text/plain": [
       "<AxesSubplot: >"
      ]
     },
     "execution_count": 93,
     "metadata": {},
     "output_type": "execute_result"
    },
    {
     "data": {
      "image/png": "[encoded data removed]",
      "text/plain": [
       "<Figure size 2000x1200 with 2 Axes>"
      ]
     },
     "metadata": {},
     "output_type": "display_data"
    }
   ],
   "source": [
    "# This plot displays a heat map that shows a correlation between variables. \n",
    "# It measures a nullity correlation, an indicator of how strongly the absence of a variable to another variable is.\n",
    "# Nullity correlation ranges from -1 (if one variable appears the other definitely does not) to 0 (variables appearing or not appearing have no effect on one another) \n",
    "# to 1 (if one variable appears the other definitely also does).\n",
    "# https://github.com/ResidentMario/missingno/blob/master/README.md\n",
    "msno.heatmap(daily)"
   ]
  },
  {
   "cell_type": "code",
   "execution_count": 94,
   "metadata": {},
   "outputs": [
    {
     "data": {
      "text/plain": [
       "<AxesSubplot: >"
      ]
     },
     "execution_count": 94,
     "metadata": {},
     "output_type": "execute_result"
    },
    {
     "data": {
      "image/png": "[encoded data removed]",
      "text/plain": [
       "<Figure size 2500x1000 with 1 Axes>"
      ]
     },
     "metadata": {},
     "output_type": "display_data"
    }
   ],
   "source": [
    "msno.dendrogram(daily)"
   ]
  },
  {
   "cell_type": "code",
   "execution_count": 98,
   "metadata": {},
   "outputs": [],
   "source": [
    "#### Lets look into why there are missing values"
   ]
  },
  {
   "cell_type": "code",
   "execution_count": 99,
   "metadata": {},
   "outputs": [],
   "source": [
    "# Q22_1, Q23_1, Q27_1 have the most missing values\n",
    "# Q22_1: stressed(1)-relaxed(5); defeault(3)\n",
    "# Q23_1: distracted(1)-productive(5); default(3)\n",
    "# Q27_1: extremely bad(1)-extremely good(7); default(4)\n",
    "\n",
    "# rename Q22_1 to stress\n",
    "daily.rename(columns={\"Q22_1\":\"stress\"},inplace=True)\n",
    "# rename Q23_1 to productivity\n",
    "daily.rename(columns={\"Q23_1\":\"productivity\"},inplace=True)"
   ]
  },
  {
   "cell_type": "code",
   "execution_count": 100,
   "metadata": {},
   "outputs": [
    {
     "data": {
      "application/vnd.plotly.v1+json": {
       "config": {
        "plotlyServerURL": "https://plot.ly"
       },
       "data": [
        {
         "alignmentgroup": "True",
         "bingroup": "x",
         "hovertemplate": "Participants=edr<br>Stress=%{x}<br>count=%{y}<extra></extra>",
         "legendgroup": "edr",
         "marker": {
          "color": "#636efa",
          "pattern": {
           "shape": ""
          }
         },
         "name": "edr",
         "offsetgroup": "edr",
         "orientation": "v",
         "showlegend": true,
         "type": "histogram",
         "x": [
          null,
          5,
          5,
          4,
          4,
          null,
          2,
          5,
          5,
          5,
          null,
          null,
          2,
          5,
          4,
          4,
          4,
          null,
          3,
          5,
          null,
          5,
          5,
          3,
          5,
          4,
          5,
          5,
          5,
          null,
          null,
          5,
          4,
          4,
          null,
          4,
          3,
          null,
          2,
          4,
          4,
          4,
          4,
          null,
          4
         ],
         "xaxis": "x",
         "yaxis": "y"
        },
        {
         "alignmentgroup": "True",
         "bingroup": "x",
         "hovertemplate": "Participants=egl<br>Stress=%{x}<br>count=%{y}<extra></extra>",
         "legendgroup": "egl",
         "marker": {
          "color": "#EF553B",
          "pattern": {
           "shape": ""
          }
         },
         "name": "egl",
         "offsetgroup": "egl",
         "orientation": "v",
         "showlegend": true,
         "type": "histogram",
         "x": [
          null,
          3,
          4,
          4,
          null,
          4,
          null,
          null,
          null,
          2,
          3,
          2,
          null,
          null,
          3,
          3,
          3,
          3,
          3,
          3,
          3,
          3,
          3,
          null,
          3,
          3,
          3,
          3,
          3,
          3,
          3,
          3,
          3,
          4,
          3,
          3,
          3,
          3,
          3,
          3,
          3,
          3,
          4,
          3,
          3,
          3,
          4,
          4,
          4,
          2,
          3,
          3
         ],
         "xaxis": "x",
         "yaxis": "y"
        },
        {
         "alignmentgroup": "True",
         "bingroup": "x",
         "hovertemplate": "Participants=uja<br>Stress=%{x}<br>count=%{y}<extra></extra>",
         "legendgroup": "uja",
         "marker": {
          "color": "#00cc96",
          "pattern": {
           "shape": ""
          }
         },
         "name": "uja",
         "offsetgroup": "uja",
         "orientation": "v",
         "showlegend": true,
         "type": "histogram",
         "x": [
          2,
          4,
          4,
          4,
          4,
          4,
          2,
          4,
          4,
          4,
          2,
          2,
          4,
          4,
          4,
          4,
          null,
          2,
          3,
          4,
          4,
          4,
          3,
          2,
          3,
          4,
          4,
          5,
          2,
          null,
          null,
          4,
          4,
          2,
          2,
          4,
          4,
          4,
          5,
          2,
          2,
          null,
          4,
          2,
          4,
          4,
          4,
          5
         ],
         "xaxis": "x",
         "yaxis": "y"
        },
        {
         "alignmentgroup": "True",
         "bingroup": "x",
         "hovertemplate": "Participants=j02<br>Stress=%{x}<br>count=%{y}<extra></extra>",
         "legendgroup": "j02",
         "marker": {
          "color": "#ab63fa",
          "pattern": {
           "shape": ""
          }
         },
         "name": "j02",
         "offsetgroup": "j02",
         "orientation": "v",
         "showlegend": true,
         "type": "histogram",
         "x": [
          2,
          1,
          1,
          3,
          1,
          4,
          3,
          3,
          3,
          2,
          2,
          1,
          2,
          3,
          2,
          1,
          3,
          1,
          1,
          1,
          1,
          1,
          3,
          3,
          2,
          1,
          1,
          3,
          3,
          1,
          1,
          1,
          1,
          3,
          1,
          2
         ],
         "xaxis": "x",
         "yaxis": "y"
        },
        {
         "alignmentgroup": "True",
         "bingroup": "x",
         "hovertemplate": "Participants=oyb<br>Stress=%{x}<br>count=%{y}<extra></extra>",
         "legendgroup": "oyb",
         "marker": {
          "color": "#FFA15A",
          "pattern": {
           "shape": ""
          }
         },
         "name": "oyb",
         "offsetgroup": "oyb",
         "orientation": "v",
         "showlegend": true,
         "type": "histogram",
         "x": [
          null,
          5,
          4,
          null,
          5,
          5,
          2,
          4,
          4,
          4,
          5,
          4,
          5,
          null,
          5,
          4,
          5,
          5,
          5,
          5,
          5,
          5,
          5,
          4,
          5,
          5,
          4,
          4,
          4,
          4,
          4,
          4,
          5,
          4,
          4,
          2,
          2,
          4,
          null,
          4,
          4,
          4,
          4,
          4
         ],
         "xaxis": "x",
         "yaxis": "y"
        },
        {
         "alignmentgroup": "True",
         "bingroup": "x",
         "hovertemplate": "Participants=lpz<br>Stress=%{x}<br>count=%{y}<extra></extra>",
         "legendgroup": "lpz",
         "marker": {
          "color": "#19d3f3",
          "pattern": {
           "shape": ""
          }
         },
         "name": "lpz",
         "offsetgroup": "lpz",
         "orientation": "v",
         "showlegend": true,
         "type": "histogram",
         "x": [
          4,
          3,
          3,
          3,
          3,
          4,
          3,
          2,
          3,
          4,
          3,
          4,
          3,
          4,
          4,
          4,
          3,
          3,
          3,
          4,
          3,
          3,
          3,
          2,
          3,
          2,
          4,
          5,
          4,
          4,
          3,
          3,
          3,
          4,
          3,
          2,
          2,
          4,
          4,
          3,
          3,
          2,
          4,
          4,
          3,
          2,
          2,
          3,
          2,
          3,
          3,
          4,
          2,
          2,
          2,
          3,
          3,
          2
         ],
         "xaxis": "x",
         "yaxis": "y"
        },
        {
         "alignmentgroup": "True",
         "bingroup": "x",
         "hovertemplate": "Participants=heh<br>Stress=%{x}<br>count=%{y}<extra></extra>",
         "legendgroup": "heh",
         "marker": {
          "color": "#FF6692",
          "pattern": {
           "shape": ""
          }
         },
         "name": "heh",
         "offsetgroup": "heh",
         "orientation": "v",
         "showlegend": true,
         "type": "histogram",
         "x": [
          2,
          2,
          3,
          1,
          3,
          2,
          3,
          2,
          1,
          1,
          4,
          1,
          2,
          1,
          2,
          2,
          4,
          2,
          4,
          4,
          2,
          2,
          1,
          1,
          1,
          1,
          5,
          4,
          5,
          3,
          2,
          3,
          2,
          1,
          4,
          2,
          5,
          3,
          1,
          4,
          4,
          4,
          2,
          1,
          3,
          3,
          2,
          4,
          4,
          5,
          2,
          4,
          2,
          4,
          1,
          1,
          1,
          4,
          5
         ],
         "xaxis": "x",
         "yaxis": "y"
        },
        {
         "alignmentgroup": "True",
         "bingroup": "x",
         "hovertemplate": "Participants=mr1<br>Stress=%{x}<br>count=%{y}<extra></extra>",
         "legendgroup": "mr1",
         "marker": {
          "color": "#FF97FF",
          "pattern": {
           "shape": ""
          }
         },
         "name": "mr1",
         "offsetgroup": "mr1",
         "orientation": "v",
         "showlegend": true,
         "type": "histogram",
         "x": [
          null,
          4,
          null,
          null,
          null,
          null,
          null,
          null,
          null,
          null,
          null,
          null,
          null,
          null,
          null,
          null,
          null,
          null,
          null,
          null,
          null,
          null,
          null,
          null,
          null,
          null,
          null,
          null,
          null,
          null,
          null,
          null,
          null,
          null,
          null,
          null,
          null,
          null,
          null,
          null,
          null,
          null,
          1,
          null
         ],
         "xaxis": "x",
         "yaxis": "y"
        },
        {
         "alignmentgroup": "True",
         "bingroup": "x",
         "hovertemplate": "Participants=xil<br>Stress=%{x}<br>count=%{y}<extra></extra>",
         "legendgroup": "xil",
         "marker": {
          "color": "#FECB52",
          "pattern": {
           "shape": ""
          }
         },
         "name": "xil",
         "offsetgroup": "xil",
         "orientation": "v",
         "showlegend": true,
         "type": "histogram",
         "x": [
          4,
          null,
          5,
          2,
          2,
          4,
          2,
          5,
          4,
          null,
          4,
          5,
          4,
          3,
          4,
          5,
          5,
          5,
          3,
          4,
          4,
          2,
          4,
          null,
          5,
          null,
          5,
          4,
          3,
          2,
          2,
          4,
          4,
          4,
          5,
          2,
          null,
          4,
          5,
          5,
          4,
          4,
          4
         ],
         "xaxis": "x",
         "yaxis": "y"
        },
        {
         "alignmentgroup": "True",
         "bingroup": "x",
         "hovertemplate": "Participants=pgm<br>Stress=%{x}<br>count=%{y}<extra></extra>",
         "legendgroup": "pgm",
         "marker": {
          "color": "#636efa",
          "pattern": {
           "shape": ""
          }
         },
         "name": "pgm",
         "offsetgroup": "pgm",
         "orientation": "v",
         "showlegend": true,
         "type": "histogram",
         "x": [
          4,
          2,
          null,
          4,
          5,
          null,
          4,
          null,
          2,
          null,
          4,
          2,
          2,
          2,
          2,
          2,
          4,
          2,
          2,
          2,
          2,
          2,
          2,
          2,
          2,
          null,
          4,
          4,
          2,
          4,
          4,
          4,
          2,
          2,
          1
         ],
         "xaxis": "x",
         "yaxis": "y"
        },
        {
         "alignmentgroup": "True",
         "bingroup": "x",
         "hovertemplate": "Participants=h9u<br>Stress=%{x}<br>count=%{y}<extra></extra>",
         "legendgroup": "h9u",
         "marker": {
          "color": "#EF553B",
          "pattern": {
           "shape": ""
          }
         },
         "name": "h9u",
         "offsetgroup": "h9u",
         "orientation": "v",
         "showlegend": true,
         "type": "histogram",
         "x": [
          1,
          1,
          1,
          1,
          1,
          1,
          2,
          1,
          2,
          2,
          1,
          2,
          2,
          null,
          4,
          4,
          2,
          4,
          4,
          3,
          null,
          2,
          null,
          2,
          2,
          2,
          1,
          2,
          2,
          2,
          2,
          2,
          2,
          2,
          2,
          2,
          2,
          2,
          2,
          2,
          1,
          2,
          2,
          null,
          3,
          2,
          2,
          2,
          2,
          2,
          4,
          2,
          2,
          2,
          2,
          2,
          2,
          2,
          5
         ],
         "xaxis": "x",
         "yaxis": "y"
        },
        {
         "alignmentgroup": "True",
         "bingroup": "x",
         "hovertemplate": "Participants=ssg<br>Stress=%{x}<br>count=%{y}<extra></extra>",
         "legendgroup": "ssg",
         "marker": {
          "color": "#00cc96",
          "pattern": {
           "shape": ""
          }
         },
         "name": "ssg",
         "offsetgroup": "ssg",
         "orientation": "v",
         "showlegend": true,
         "type": "histogram",
         "x": [
          null,
          null,
          4,
          2,
          1,
          4,
          5,
          5,
          5,
          4,
          2,
          1,
          4,
          5,
          4,
          3,
          5,
          5,
          4,
          5,
          5,
          5,
          2,
          2,
          2,
          5,
          5,
          5,
          5,
          5,
          5,
          5,
          5,
          4,
          3,
          2,
          5,
          5,
          2,
          5,
          2,
          4
         ],
         "xaxis": "x",
         "yaxis": "y"
        },
        {
         "alignmentgroup": "True",
         "bingroup": "x",
         "hovertemplate": "Participants=vxx<br>Stress=%{x}<br>count=%{y}<extra></extra>",
         "legendgroup": "vxx",
         "marker": {
          "color": "#ab63fa",
          "pattern": {
           "shape": ""
          }
         },
         "name": "vxx",
         "offsetgroup": "vxx",
         "orientation": "v",
         "showlegend": true,
         "type": "histogram",
         "x": [
          4,
          5,
          5,
          5,
          5,
          4,
          4,
          4,
          4,
          4,
          4,
          4,
          null,
          5,
          5,
          null,
          4,
          3,
          null,
          4,
          2,
          4,
          4,
          4,
          4,
          4,
          4,
          4,
          null,
          4,
          null,
          null,
          4,
          4,
          4,
          4,
          4,
          4,
          4,
          4,
          4,
          null,
          4,
          4,
          4,
          null,
          4,
          4,
          null,
          null
         ],
         "xaxis": "x",
         "yaxis": "y"
        }
       ],
       "layout": {
        "barmode": "relative",
        "legend": {
         "title": {
          "text": "Participants"
         },
         "tracegroupgap": 0
        },
        "margin": {
         "t": 60
        },
        "template": {
         "data": {
          "bar": [
           {
            "error_x": {
             "color": "#2a3f5f"
            },
            "error_y": {
             "color": "#2a3f5f"
            },
            "marker": {
             "line": {
              "color": "#E5ECF6",
              "width": 0.5
             },
             "pattern": {
              "fillmode": "overlay",
              "size": 10,
              "solidity": 0.2
             }
            },
            "type": "bar"
           }
          ],
          "barpolar": [
           {
            "marker": {
             "line": {
              "color": "#E5ECF6",
              "width": 0.5
             },
             "pattern": {
              "fillmode": "overlay",
              "size": 10,
              "solidity": 0.2
             }
            },
            "type": "barpolar"
           }
          ],
          "carpet": [
           {
            "aaxis": {
             "endlinecolor": "#2a3f5f",
             "gridcolor": "white",
             "linecolor": "white",
             "minorgridcolor": "white",
             "startlinecolor": "#2a3f5f"
            },
            "baxis": {
             "endlinecolor": "#2a3f5f",
             "gridcolor": "white",
             "linecolor": "white",
             "minorgridcolor": "white",
             "startlinecolor": "#2a3f5f"
            },
            "type": "carpet"
           }
          ],
          "choropleth": [
           {
            "colorbar": {
             "outlinewidth": 0,
             "ticks": ""
            },
            "type": "choropleth"
           }
          ],
          "contour": [
           {
            "colorbar": {
             "outlinewidth": 0,
             "ticks": ""
            },
            "colorscale": [
             [
              0,
              "#0d0887"
             ],
             [
              0.1111111111111111,
              "#46039f"
             ],
             [
              0.2222222222222222,
              "#7201a8"
             ],
             [
              0.3333333333333333,
              "#9c179e"
             ],
             [
              0.4444444444444444,
              "#bd3786"
             ],
             [
              0.5555555555555556,
              "#d8576b"
             ],
             [
              0.6666666666666666,
              "#ed7953"
             ],
             [
              0.7777777777777778,
              "#fb9f3a"
             ],
             [
              0.8888888888888888,
              "#fdca26"
             ],
             [
              1,
              "#f0f921"
             ]
            ],
            "type": "contour"
           }
          ],
          "contourcarpet": [
           {
            "colorbar": {
             "outlinewidth": 0,
             "ticks": ""
            },
            "type": "contourcarpet"
           }
          ],
          "heatmap": [
           {
            "colorbar": {
             "outlinewidth": 0,
             "ticks": ""
            },
            "colorscale": [
             [
              0,
              "#0d0887"
             ],
             [
              0.1111111111111111,
              "#46039f"
             ],
             [
              0.2222222222222222,
              "#7201a8"
             ],
             [
              0.3333333333333333,
              "#9c179e"
             ],
             [
              0.4444444444444444,
              "#bd3786"
             ],
             [
              0.5555555555555556,
              "#d8576b"
             ],
             [
              0.6666666666666666,
              "#ed7953"
             ],
             [
              0.7777777777777778,
              "#fb9f3a"
             ],
             [
              0.8888888888888888,
              "#fdca26"
             ],
             [
              1,
              "#f0f921"
             ]
            ],
            "type": "heatmap"
           }
          ],
          "heatmapgl": [
           {
            "colorbar": {
             "outlinewidth": 0,
             "ticks": ""
            },
            "colorscale": [
             [
              0,
              "#0d0887"
             ],
             [
              0.1111111111111111,
              "#46039f"
             ],
             [
              0.2222222222222222,
              "#7201a8"
             ],
             [
              0.3333333333333333,
              "#9c179e"
             ],
             [
              0.4444444444444444,
              "#bd3786"
             ],
             [
              0.5555555555555556,
              "#d8576b"
             ],
             [
              0.6666666666666666,
              "#ed7953"
             ],
             [
              0.7777777777777778,
              "#fb9f3a"
             ],
             [
              0.8888888888888888,
              "#fdca26"
             ],
             [
              1,
              "#f0f921"
             ]
            ],
            "type": "heatmapgl"
           }
          ],
          "histogram": [
           {
            "marker": {
             "pattern": {
              "fillmode": "overlay",
              "size": 10,
              "solidity": 0.2
             }
            },
            "type": "histogram"
           }
          ],
          "histogram2d": [
           {
            "colorbar": {
             "outlinewidth": 0,
             "ticks": ""
            },
            "colorscale": [
             [
              0,
              "#0d0887"
             ],
             [
              0.1111111111111111,
              "#46039f"
             ],
             [
              0.2222222222222222,
              "#7201a8"
             ],
             [
              0.3333333333333333,
              "#9c179e"
             ],
             [
              0.4444444444444444,
              "#bd3786"
             ],
             [
              0.5555555555555556,
              "#d8576b"
             ],
             [
              0.6666666666666666,
              "#ed7953"
             ],
             [
              0.7777777777777778,
              "#fb9f3a"
             ],
             [
              0.8888888888888888,
              "#fdca26"
             ],
             [
              1,
              "#f0f921"
             ]
            ],
            "type": "histogram2d"
           }
          ],
          "histogram2dcontour": [
           {
            "colorbar": {
             "outlinewidth": 0,
             "ticks": ""
            },
            "colorscale": [
             [
              0,
              "#0d0887"
             ],
             [
              0.1111111111111111,
              "#46039f"
             ],
             [
              0.2222222222222222,
              "#7201a8"
             ],
             [
              0.3333333333333333,
              "#9c179e"
             ],
             [
              0.4444444444444444,
              "#bd3786"
             ],
             [
              0.5555555555555556,
              "#d8576b"
             ],
             [
              0.6666666666666666,
              "#ed7953"
             ],
             [
              0.7777777777777778,
              "#fb9f3a"
             ],
             [
              0.8888888888888888,
              "#fdca26"
             ],
             [
              1,
              "#f0f921"
             ]
            ],
            "type": "histogram2dcontour"
           }
          ],
          "mesh3d": [
           {
            "colorbar": {
             "outlinewidth": 0,
             "ticks": ""
            },
            "type": "mesh3d"
           }
          ],
          "parcoords": [
           {
            "line": {
             "colorbar": {
              "outlinewidth": 0,
              "ticks": ""
             }
            },
            "type": "parcoords"
           }
          ],
          "pie": [
           {
            "automargin": true,
            "type": "pie"
           }
          ],
          "scatter": [
           {
            "fillpattern": {
             "fillmode": "overlay",
             "size": 10,
             "solidity": 0.2
            },
            "type": "scatter"
           }
          ],
          "scatter3d": [
           {
            "line": {
             "colorbar": {
              "outlinewidth": 0,
              "ticks": ""
             }
            },
            "marker": {
             "colorbar": {
              "outlinewidth": 0,
              "ticks": ""
             }
            },
            "type": "scatter3d"
           }
          ],
          "scattercarpet": [
           {
            "marker": {
             "colorbar": {
              "outlinewidth": 0,
              "ticks": ""
             }
            },
            "type": "scattercarpet"
           }
          ],
          "scattergeo": [
           {
            "marker": {
             "colorbar": {
              "outlinewidth": 0,
              "ticks": ""
             }
            },
            "type": "scattergeo"
           }
          ],
          "scattergl": [
           {
            "marker": {
             "colorbar": {
              "outlinewidth": 0,
              "ticks": ""
             }
            },
            "type": "scattergl"
           }
          ],
          "scattermapbox": [
           {
            "marker": {
             "colorbar": {
              "outlinewidth": 0,
              "ticks": ""
             }
            },
            "type": "scattermapbox"
           }
          ],
          "scatterpolar": [
           {
            "marker": {
             "colorbar": {
              "outlinewidth": 0,
              "ticks": ""
             }
            },
            "type": "scatterpolar"
           }
          ],
          "scatterpolargl": [
           {
            "marker": {
             "colorbar": {
              "outlinewidth": 0,
              "ticks": ""
             }
            },
            "type": "scatterpolargl"
           }
          ],
          "scatterternary": [
           {
            "marker": {
             "colorbar": {
              "outlinewidth": 0,
              "ticks": ""
             }
            },
            "type": "scatterternary"
           }
          ],
          "surface": [
           {
            "colorbar": {
             "outlinewidth": 0,
             "ticks": ""
            },
            "colorscale": [
             [
              0,
              "#0d0887"
             ],
             [
              0.1111111111111111,
              "#46039f"
             ],
             [
              0.2222222222222222,
              "#7201a8"
             ],
             [
              0.3333333333333333,
              "#9c179e"
             ],
             [
              0.4444444444444444,
              "#bd3786"
             ],
             [
              0.5555555555555556,
              "#d8576b"
             ],
             [
              0.6666666666666666,
              "#ed7953"
             ],
             [
              0.7777777777777778,
              "#fb9f3a"
             ],
             [
              0.8888888888888888,
              "#fdca26"
             ],
             [
              1,
              "#f0f921"
             ]
            ],
            "type": "surface"
           }
          ],
          "table": [
           {
            "cells": {
             "fill": {
              "color": "#EBF0F8"
             },
             "line": {
              "color": "white"
             }
            },
            "header": {
             "fill": {
              "color": "#C8D4E3"
             },
             "line": {
              "color": "white"
             }
            },
            "type": "table"
           }
          ]
         },
         "layout": {
          "annotationdefaults": {
           "arrowcolor": "#2a3f5f",
           "arrowhead": 0,
           "arrowwidth": 1
          },
          "autotypenumbers": "strict",
          "coloraxis": {
           "colorbar": {
            "outlinewidth": 0,
            "ticks": ""
           }
          },
          "colorscale": {
           "diverging": [
            [
             0,
             "#8e0152"
            ],
            [
             0.1,
             "#c51b7d"
            ],
            [
             0.2,
             "#de77ae"
            ],
            [
             0.3,
             "#f1b6da"
            ],
            [
             0.4,
             "#fde0ef"
            ],
            [
             0.5,
             "#f7f7f7"
            ],
            [
             0.6,
             "#e6f5d0"
            ],
            [
             0.7,
             "#b8e186"
            ],
            [
             0.8,
             "#7fbc41"
            ],
            [
             0.9,
             "#4d9221"
            ],
            [
             1,
             "#276419"
            ]
           ],
           "sequential": [
            [
             0,
             "#0d0887"
            ],
            [
             0.1111111111111111,
             "#46039f"
            ],
            [
             0.2222222222222222,
             "#7201a8"
            ],
            [
             0.3333333333333333,
             "#9c179e"
            ],
            [
             0.4444444444444444,
             "#bd3786"
            ],
            [
             0.5555555555555556,
             "#d8576b"
            ],
            [
             0.6666666666666666,
             "#ed7953"
            ],
            [
             0.7777777777777778,
             "#fb9f3a"
            ],
            [
             0.8888888888888888,
             "#fdca26"
            ],
            [
             1,
             "#f0f921"
            ]
           ],
           "sequentialminus": [
            [
             0,
             "#0d0887"
            ],
            [
             0.1111111111111111,
             "#46039f"
            ],
            [
             0.2222222222222222,
             "#7201a8"
            ],
            [
             0.3333333333333333,
             "#9c179e"
            ],
            [
             0.4444444444444444,
             "#bd3786"
            ],
            [
             0.5555555555555556,
             "#d8576b"
            ],
            [
             0.6666666666666666,
             "#ed7953"
            ],
            [
             0.7777777777777778,
             "#fb9f3a"
            ],
            [
             0.8888888888888888,
             "#fdca26"
            ],
            [
             1,
             "#f0f921"
            ]
           ]
          },
          "colorway": [
           "#636efa",
           "#EF553B",
           "#00cc96",
           "#ab63fa",
           "#FFA15A",
           "#19d3f3",
           "#FF6692",
           "#B6E880",
           "#FF97FF",
           "#FECB52"
          ],
          "font": {
           "color": "#2a3f5f"
          },
          "geo": {
           "bgcolor": "white",
           "lakecolor": "white",
           "landcolor": "#E5ECF6",
           "showlakes": true,
           "showland": true,
           "subunitcolor": "white"
          },
          "hoverlabel": {
           "align": "left"
          },
          "hovermode": "closest",
          "mapbox": {
           "style": "light"
          },
          "paper_bgcolor": "white",
          "plot_bgcolor": "#E5ECF6",
          "polar": {
           "angularaxis": {
            "gridcolor": "white",
            "linecolor": "white",
            "ticks": ""
           },
           "bgcolor": "#E5ECF6",
           "radialaxis": {
            "gridcolor": "white",
            "linecolor": "white",
            "ticks": ""
           }
          },
          "scene": {
           "xaxis": {
            "backgroundcolor": "#E5ECF6",
            "gridcolor": "white",
            "gridwidth": 2,
            "linecolor": "white",
            "showbackground": true,
            "ticks": "",
            "zerolinecolor": "white"
           },
           "yaxis": {
            "backgroundcolor": "#E5ECF6",
            "gridcolor": "white",
            "gridwidth": 2,
            "linecolor": "white",
            "showbackground": true,
            "ticks": "",
            "zerolinecolor": "white"
           },
           "zaxis": {
            "backgroundcolor": "#E5ECF6",
            "gridcolor": "white",
            "gridwidth": 2,
            "linecolor": "white",
            "showbackground": true,
            "ticks": "",
            "zerolinecolor": "white"
           }
          },
          "shapedefaults": {
           "line": {
            "color": "#2a3f5f"
           }
          },
          "ternary": {
           "aaxis": {
            "gridcolor": "white",
            "linecolor": "white",
            "ticks": ""
           },
           "baxis": {
            "gridcolor": "white",
            "linecolor": "white",
            "ticks": ""
           },
           "bgcolor": "#E5ECF6",
           "caxis": {
            "gridcolor": "white",
            "linecolor": "white",
            "ticks": ""
           }
          },
          "title": {
           "x": 0.05
          },
          "xaxis": {
           "automargin": true,
           "gridcolor": "white",
           "linecolor": "white",
           "ticks": "",
           "title": {
            "standoff": 15
           },
           "zerolinecolor": "white",
           "zerolinewidth": 2
          },
          "yaxis": {
           "automargin": true,
           "gridcolor": "white",
           "linecolor": "white",
           "ticks": "",
           "title": {
            "standoff": 15
           },
           "zerolinecolor": "white",
           "zerolinewidth": 2
          }
         }
        },
        "xaxis": {
         "anchor": "y",
         "domain": [
          0,
          1
         ],
         "title": {
          "text": "Stress"
         }
        },
        "yaxis": {
         "anchor": "x",
         "domain": [
          0,
          1
         ],
         "title": {
          "text": "count"
         }
        }
       }
      },
      "text/html": [
       "<div>                            <div id=\"aab2f3b4-b87c-437e-b807-55205c18d7ba\" class=\"plotly-graph-div\" style=\"height:525px; width:100%;\"></div>            <script type=\"text/javascript\">                require([\"plotly\"], function(Plotly) {                    window.PLOTLYENV=window.PLOTLYENV || {};                                    if (document.getElementById(\"aab2f3b4-b87c-437e-b807-55205c18d7ba\")) {                    Plotly.newPlot(                        \"aab2f3b4-b87c-437e-b807-55205c18d7ba\",                        [{\"alignmentgroup\":\"True\",\"bingroup\":\"x\",\"hovertemplate\":\"Participants=edr<br>Stress=%{x}<br>count=%{y}<extra></extra>\",\"legendgroup\":\"edr\",\"marker\":{\"color\":\"#636efa\",\"pattern\":{\"shape\":\"\"}},\"name\":\"edr\",\"offsetgroup\":\"edr\",\"orientation\":\"v\",\"showlegend\":true,\"x\":[null,5.0,5.0,4.0,4.0,null,2.0,5.0,5.0,5.0,null,null,2.0,5.0,4.0,4.0,4.0,null,3.0,5.0,null,5.0,5.0,3.0,5.0,4.0,5.0,5.0,5.0,null,null,5.0,4.0,4.0,null,4.0,3.0,null,2.0,4.0,4.0,4.0,4.0,null,4.0],\"xaxis\":\"x\",\"yaxis\":\"y\",\"type\":\"histogram\"},{\"alignmentgroup\":\"True\",\"bingroup\":\"x\",\"hovertemplate\":\"Participants=egl<br>Stress=%{x}<br>count=%{y}<extra></extra>\",\"legendgroup\":\"egl\",\"marker\":{\"color\":\"#EF553B\",\"pattern\":{\"shape\":\"\"}},\"name\":\"egl\",\"offsetgroup\":\"egl\",\"orientation\":\"v\",\"showlegend\":true,\"x\":[null,3.0,4.0,4.0,null,4.0,null,null,null,2.0,3.0,2.0,null,null,3.0,3.0,3.0,3.0,3.0,3.0,3.0,3.0,3.0,null,3.0,3.0,3.0,3.0,3.0,3.0,3.0,3.0,3.0,4.0,3.0,3.0,3.0,3.0,3.0,3.0,3.0,3.0,4.0,3.0,3.0,3.0,4.0,4.0,4.0,2.0,3.0,3.0],\"xaxis\":\"x\",\"yaxis\":\"y\",\"type\":\"histogram\"},{\"alignmentgroup\":\"True\",\"bingroup\":\"x\",\"hovertemplate\":\"Participants=uja<br>Stress=%{x}<br>count=%{y}<extra></extra>\",\"legendgroup\":\"uja\",\"marker\":{\"color\":\"#00cc96\",\"pattern\":{\"shape\":\"\"}},\"name\":\"uja\",\"offsetgroup\":\"uja\",\"orientation\":\"v\",\"showlegend\":true,\"x\":[2.0,4.0,4.0,4.0,4.0,4.0,2.0,4.0,4.0,4.0,2.0,2.0,4.0,4.0,4.0,4.0,null,2.0,3.0,4.0,4.0,4.0,3.0,2.0,3.0,4.0,4.0,5.0,2.0,null,null,4.0,4.0,2.0,2.0,4.0,4.0,4.0,5.0,2.0,2.0,null,4.0,2.0,4.0,4.0,4.0,5.0],\"xaxis\":\"x\",\"yaxis\":\"y\",\"type\":\"histogram\"},{\"alignmentgroup\":\"True\",\"bingroup\":\"x\",\"hovertemplate\":\"Participants=j02<br>Stress=%{x}<br>count=%{y}<extra></extra>\",\"legendgroup\":\"j02\",\"marker\":{\"color\":\"#ab63fa\",\"pattern\":{\"shape\":\"\"}},\"name\":\"j02\",\"offsetgroup\":\"j02\",\"orientation\":\"v\",\"showlegend\":true,\"x\":[2.0,1.0,1.0,3.0,1.0,4.0,3.0,3.0,3.0,2.0,2.0,1.0,2.0,3.0,2.0,1.0,3.0,1.0,1.0,1.0,1.0,1.0,3.0,3.0,2.0,1.0,1.0,3.0,3.0,1.0,1.0,1.0,1.0,3.0,1.0,2.0],\"xaxis\":\"x\",\"yaxis\":\"y\",\"type\":\"histogram\"},{\"alignmentgroup\":\"True\",\"bingroup\":\"x\",\"hovertemplate\":\"Participants=oyb<br>Stress=%{x}<br>count=%{y}<extra></extra>\",\"legendgroup\":\"oyb\",\"marker\":{\"color\":\"#FFA15A\",\"pattern\":{\"shape\":\"\"}},\"name\":\"oyb\",\"offsetgroup\":\"oyb\",\"orientation\":\"v\",\"showlegend\":true,\"x\":[null,5.0,4.0,null,5.0,5.0,2.0,4.0,4.0,4.0,5.0,4.0,5.0,null,5.0,4.0,5.0,5.0,5.0,5.0,5.0,5.0,5.0,4.0,5.0,5.0,4.0,4.0,4.0,4.0,4.0,4.0,5.0,4.0,4.0,2.0,2.0,4.0,null,4.0,4.0,4.0,4.0,4.0],\"xaxis\":\"x\",\"yaxis\":\"y\",\"type\":\"histogram\"},{\"alignmentgroup\":\"True\",\"bingroup\":\"x\",\"hovertemplate\":\"Participants=lpz<br>Stress=%{x}<br>count=%{y}<extra></extra>\",\"legendgroup\":\"lpz\",\"marker\":{\"color\":\"#19d3f3\",\"pattern\":{\"shape\":\"\"}},\"name\":\"lpz\",\"offsetgroup\":\"lpz\",\"orientation\":\"v\",\"showlegend\":true,\"x\":[4.0,3.0,3.0,3.0,3.0,4.0,3.0,2.0,3.0,4.0,3.0,4.0,3.0,4.0,4.0,4.0,3.0,3.0,3.0,4.0,3.0,3.0,3.0,2.0,3.0,2.0,4.0,5.0,4.0,4.0,3.0,3.0,3.0,4.0,3.0,2.0,2.0,4.0,4.0,3.0,3.0,2.0,4.0,4.0,3.0,2.0,2.0,3.0,2.0,3.0,3.0,4.0,2.0,2.0,2.0,3.0,3.0,2.0],\"xaxis\":\"x\",\"yaxis\":\"y\",\"type\":\"histogram\"},{\"alignmentgroup\":\"True\",\"bingroup\":\"x\",\"hovertemplate\":\"Participants=heh<br>Stress=%{x}<br>count=%{y}<extra></extra>\",\"legendgroup\":\"heh\",\"marker\":{\"color\":\"#FF6692\",\"pattern\":{\"shape\":\"\"}},\"name\":\"heh\",\"offsetgroup\":\"heh\",\"orientation\":\"v\",\"showlegend\":true,\"x\":[2.0,2.0,3.0,1.0,3.0,2.0,3.0,2.0,1.0,1.0,4.0,1.0,2.0,1.0,2.0,2.0,4.0,2.0,4.0,4.0,2.0,2.0,1.0,1.0,1.0,1.0,5.0,4.0,5.0,3.0,2.0,3.0,2.0,1.0,4.0,2.0,5.0,3.0,1.0,4.0,4.0,4.0,2.0,1.0,3.0,3.0,2.0,4.0,4.0,5.0,2.0,4.0,2.0,4.0,1.0,1.0,1.0,4.0,5.0],\"xaxis\":\"x\",\"yaxis\":\"y\",\"type\":\"histogram\"},{\"alignmentgroup\":\"True\",\"bingroup\":\"x\",\"hovertemplate\":\"Participants=mr1<br>Stress=%{x}<br>count=%{y}<extra></extra>\",\"legendgroup\":\"mr1\",\"marker\":{\"color\":\"#FF97FF\",\"pattern\":{\"shape\":\"\"}},\"name\":\"mr1\",\"offsetgroup\":\"mr1\",\"orientation\":\"v\",\"showlegend\":true,\"x\":[null,4.0,null,null,null,null,null,null,null,null,null,null,null,null,null,null,null,null,null,null,null,null,null,null,null,null,null,null,null,null,null,null,null,null,null,null,null,null,null,null,null,null,1.0,null],\"xaxis\":\"x\",\"yaxis\":\"y\",\"type\":\"histogram\"},{\"alignmentgroup\":\"True\",\"bingroup\":\"x\",\"hovertemplate\":\"Participants=xil<br>Stress=%{x}<br>count=%{y}<extra></extra>\",\"legendgroup\":\"xil\",\"marker\":{\"color\":\"#FECB52\",\"pattern\":{\"shape\":\"\"}},\"name\":\"xil\",\"offsetgroup\":\"xil\",\"orientation\":\"v\",\"showlegend\":true,\"x\":[4.0,null,5.0,2.0,2.0,4.0,2.0,5.0,4.0,null,4.0,5.0,4.0,3.0,4.0,5.0,5.0,5.0,3.0,4.0,4.0,2.0,4.0,null,5.0,null,5.0,4.0,3.0,2.0,2.0,4.0,4.0,4.0,5.0,2.0,null,4.0,5.0,5.0,4.0,4.0,4.0],\"xaxis\":\"x\",\"yaxis\":\"y\",\"type\":\"histogram\"},{\"alignmentgroup\":\"True\",\"bingroup\":\"x\",\"hovertemplate\":\"Participants=pgm<br>Stress=%{x}<br>count=%{y}<extra></extra>\",\"legendgroup\":\"pgm\",\"marker\":{\"color\":\"#636efa\",\"pattern\":{\"shape\":\"\"}},\"name\":\"pgm\",\"offsetgroup\":\"pgm\",\"orientation\":\"v\",\"showlegend\":true,\"x\":[4.0,2.0,null,4.0,5.0,null,4.0,null,2.0,null,4.0,2.0,2.0,2.0,2.0,2.0,4.0,2.0,2.0,2.0,2.0,2.0,2.0,2.0,2.0,null,4.0,4.0,2.0,4.0,4.0,4.0,2.0,2.0,1.0],\"xaxis\":\"x\",\"yaxis\":\"y\",\"type\":\"histogram\"},{\"alignmentgroup\":\"True\",\"bingroup\":\"x\",\"hovertemplate\":\"Participants=h9u<br>Stress=%{x}<br>count=%{y}<extra></extra>\",\"legendgroup\":\"h9u\",\"marker\":{\"color\":\"#EF553B\",\"pattern\":{\"shape\":\"\"}},\"name\":\"h9u\",\"offsetgroup\":\"h9u\",\"orientation\":\"v\",\"showlegend\":true,\"x\":[1.0,1.0,1.0,1.0,1.0,1.0,2.0,1.0,2.0,2.0,1.0,2.0,2.0,null,4.0,4.0,2.0,4.0,4.0,3.0,null,2.0,null,2.0,2.0,2.0,1.0,2.0,2.0,2.0,2.0,2.0,2.0,2.0,2.0,2.0,2.0,2.0,2.0,2.0,1.0,2.0,2.0,null,3.0,2.0,2.0,2.0,2.0,2.0,4.0,2.0,2.0,2.0,2.0,2.0,2.0,2.0,5.0],\"xaxis\":\"x\",\"yaxis\":\"y\",\"type\":\"histogram\"},{\"alignmentgroup\":\"True\",\"bingroup\":\"x\",\"hovertemplate\":\"Participants=ssg<br>Stress=%{x}<br>count=%{y}<extra></extra>\",\"legendgroup\":\"ssg\",\"marker\":{\"color\":\"#00cc96\",\"pattern\":{\"shape\":\"\"}},\"name\":\"ssg\",\"offsetgroup\":\"ssg\",\"orientation\":\"v\",\"showlegend\":true,\"x\":[null,null,4.0,2.0,1.0,4.0,5.0,5.0,5.0,4.0,2.0,1.0,4.0,5.0,4.0,3.0,5.0,5.0,4.0,5.0,5.0,5.0,2.0,2.0,2.0,5.0,5.0,5.0,5.0,5.0,5.0,5.0,5.0,4.0,3.0,2.0,5.0,5.0,2.0,5.0,2.0,4.0],\"xaxis\":\"x\",\"yaxis\":\"y\",\"type\":\"histogram\"},{\"alignmentgroup\":\"True\",\"bingroup\":\"x\",\"hovertemplate\":\"Participants=vxx<br>Stress=%{x}<br>count=%{y}<extra></extra>\",\"legendgroup\":\"vxx\",\"marker\":{\"color\":\"#ab63fa\",\"pattern\":{\"shape\":\"\"}},\"name\":\"vxx\",\"offsetgroup\":\"vxx\",\"orientation\":\"v\",\"showlegend\":true,\"x\":[4.0,5.0,5.0,5.0,5.0,4.0,4.0,4.0,4.0,4.0,4.0,4.0,null,5.0,5.0,null,4.0,3.0,null,4.0,2.0,4.0,4.0,4.0,4.0,4.0,4.0,4.0,null,4.0,null,null,4.0,4.0,4.0,4.0,4.0,4.0,4.0,4.0,4.0,null,4.0,4.0,4.0,null,4.0,4.0,null,null],\"xaxis\":\"x\",\"yaxis\":\"y\",\"type\":\"histogram\"}],                        {\"template\":{\"data\":{\"histogram2dcontour\":[{\"type\":\"histogram2dcontour\",\"colorbar\":{\"outlinewidth\":0,\"ticks\":\"\"},\"colorscale\":[[0.0,\"#0d0887\"],[0.1111111111111111,\"#46039f\"],[0.2222222222222222,\"#7201a8\"],[0.3333333333333333,\"#9c179e\"],[0.4444444444444444,\"#bd3786\"],[0.5555555555555556,\"#d8576b\"],[0.6666666666666666,\"#ed7953\"],[0.7777777777777778,\"#fb9f3a\"],[0.8888888888888888,\"#fdca26\"],[1.0,\"#f0f921\"]]}],\"choropleth\":[{\"type\":\"choropleth\",\"colorbar\":{\"outlinewidth\":0,\"ticks\":\"\"}}],\"histogram2d\":[{\"type\":\"histogram2d\",\"colorbar\":{\"outlinewidth\":0,\"ticks\":\"\"},\"colorscale\":[[0.0,\"#0d0887\"],[0.1111111111111111,\"#46039f\"],[0.2222222222222222,\"#7201a8\"],[0.3333333333333333,\"#9c179e\"],[0.4444444444444444,\"#bd3786\"],[0.5555555555555556,\"#d8576b\"],[0.6666666666666666,\"#ed7953\"],[0.7777777777777778,\"#fb9f3a\"],[0.8888888888888888,\"#fdca26\"],[1.0,\"#f0f921\"]]}],\"heatmap\":[{\"type\":\"heatmap\",\"colorbar\":{\"outlinewidth\":0,\"ticks\":\"\"},\"colorscale\":[[0.0,\"#0d0887\"],[0.1111111111111111,\"#46039f\"],[0.2222222222222222,\"#7201a8\"],[0.3333333333333333,\"#9c179e\"],[0.4444444444444444,\"#bd3786\"],[0.5555555555555556,\"#d8576b\"],[0.6666666666666666,\"#ed7953\"],[0.7777777777777778,\"#fb9f3a\"],[0.8888888888888888,\"#fdca26\"],[1.0,\"#f0f921\"]]}],\"heatmapgl\":[{\"type\":\"heatmapgl\",\"colorbar\":{\"outlinewidth\":0,\"ticks\":\"\"},\"colorscale\":[[0.0,\"#0d0887\"],[0.1111111111111111,\"#46039f\"],[0.2222222222222222,\"#7201a8\"],[0.3333333333333333,\"#9c179e\"],[0.4444444444444444,\"#bd3786\"],[0.5555555555555556,\"#d8576b\"],[0.6666666666666666,\"#ed7953\"],[0.7777777777777778,\"#fb9f3a\"],[0.8888888888888888,\"#fdca26\"],[1.0,\"#f0f921\"]]}],\"contourcarpet\":[{\"type\":\"contourcarpet\",\"colorbar\":{\"outlinewidth\":0,\"ticks\":\"\"}}],\"contour\":[{\"type\":\"contour\",\"colorbar\":{\"outlinewidth\":0,\"ticks\":\"\"},\"colorscale\":[[0.0,\"#0d0887\"],[0.1111111111111111,\"#46039f\"],[0.2222222222222222,\"#7201a8\"],[0.3333333333333333,\"#9c179e\"],[0.4444444444444444,\"#bd3786\"],[0.5555555555555556,\"#d8576b\"],[0.6666666666666666,\"#ed7953\"],[0.7777777777777778,\"#fb9f3a\"],[0.8888888888888888,\"#fdca26\"],[1.0,\"#f0f921\"]]}],\"surface\":[{\"type\":\"surface\",\"colorbar\":{\"outlinewidth\":0,\"ticks\":\"\"},\"colorscale\":[[0.0,\"#0d0887\"],[0.1111111111111111,\"#46039f\"],[0.2222222222222222,\"#7201a8\"],[0.3333333333333333,\"#9c179e\"],[0.4444444444444444,\"#bd3786\"],[0.5555555555555556,\"#d8576b\"],[0.6666666666666666,\"#ed7953\"],[0.7777777777777778,\"#fb9f3a\"],[0.8888888888888888,\"#fdca26\"],[1.0,\"#f0f921\"]]}],\"mesh3d\":[{\"type\":\"mesh3d\",\"colorbar\":{\"outlinewidth\":0,\"ticks\":\"\"}}],\"scatter\":[{\"fillpattern\":{\"fillmode\":\"overlay\",\"size\":10,\"solidity\":0.2},\"type\":\"scatter\"}],\"parcoords\":[{\"type\":\"parcoords\",\"line\":{\"colorbar\":{\"outlinewidth\":0,\"ticks\":\"\"}}}],\"scatterpolargl\":[{\"type\":\"scatterpolargl\",\"marker\":{\"colorbar\":{\"outlinewidth\":0,\"ticks\":\"\"}}}],\"bar\":[{\"error_x\":{\"color\":\"#2a3f5f\"},\"error_y\":{\"color\":\"#2a3f5f\"},\"marker\":{\"line\":{\"color\":\"#E5ECF6\",\"width\":0.5},\"pattern\":{\"fillmode\":\"overlay\",\"size\":10,\"solidity\":0.2}},\"type\":\"bar\"}],\"scattergeo\":[{\"type\":\"scattergeo\",\"marker\":{\"colorbar\":{\"outlinewidth\":0,\"ticks\":\"\"}}}],\"scatterpolar\":[{\"type\":\"scatterpolar\",\"marker\":{\"colorbar\":{\"outlinewidth\":0,\"ticks\":\"\"}}}],\"histogram\":[{\"marker\":{\"pattern\":{\"fillmode\":\"overlay\",\"size\":10,\"solidity\":0.2}},\"type\":\"histogram\"}],\"scattergl\":[{\"type\":\"scattergl\",\"marker\":{\"colorbar\":{\"outlinewidth\":0,\"ticks\":\"\"}}}],\"scatter3d\":[{\"type\":\"scatter3d\",\"line\":{\"colorbar\":{\"outlinewidth\":0,\"ticks\":\"\"}},\"marker\":{\"colorbar\":{\"outlinewidth\":0,\"ticks\":\"\"}}}],\"scattermapbox\":[{\"type\":\"scattermapbox\",\"marker\":{\"colorbar\":{\"outlinewidth\":0,\"ticks\":\"\"}}}],\"scatterternary\":[{\"type\":\"scatterternary\",\"marker\":{\"colorbar\":{\"outlinewidth\":0,\"ticks\":\"\"}}}],\"scattercarpet\":[{\"type\":\"scattercarpet\",\"marker\":{\"colorbar\":{\"outlinewidth\":0,\"ticks\":\"\"}}}],\"carpet\":[{\"aaxis\":{\"endlinecolor\":\"#2a3f5f\",\"gridcolor\":\"white\",\"linecolor\":\"white\",\"minorgridcolor\":\"white\",\"startlinecolor\":\"#2a3f5f\"},\"baxis\":{\"endlinecolor\":\"#2a3f5f\",\"gridcolor\":\"white\",\"linecolor\":\"white\",\"minorgridcolor\":\"white\",\"startlinecolor\":\"#2a3f5f\"},\"type\":\"carpet\"}],\"table\":[{\"cells\":{\"fill\":{\"color\":\"#EBF0F8\"},\"line\":{\"color\":\"white\"}},\"header\":{\"fill\":{\"color\":\"#C8D4E3\"},\"line\":{\"color\":\"white\"}},\"type\":\"table\"}],\"barpolar\":[{\"marker\":{\"line\":{\"color\":\"#E5ECF6\",\"width\":0.5},\"pattern\":{\"fillmode\":\"overlay\",\"size\":10,\"solidity\":0.2}},\"type\":\"barpolar\"}],\"pie\":[{\"automargin\":true,\"type\":\"pie\"}]},\"layout\":{\"autotypenumbers\":\"strict\",\"colorway\":[\"#636efa\",\"#EF553B\",\"#00cc96\",\"#ab63fa\",\"#FFA15A\",\"#19d3f3\",\"#FF6692\",\"#B6E880\",\"#FF97FF\",\"#FECB52\"],\"font\":{\"color\":\"#2a3f5f\"},\"hovermode\":\"closest\",\"hoverlabel\":{\"align\":\"left\"},\"paper_bgcolor\":\"white\",\"plot_bgcolor\":\"#E5ECF6\",\"polar\":{\"bgcolor\":\"#E5ECF6\",\"angularaxis\":{\"gridcolor\":\"white\",\"linecolor\":\"white\",\"ticks\":\"\"},\"radialaxis\":{\"gridcolor\":\"white\",\"linecolor\":\"white\",\"ticks\":\"\"}},\"ternary\":{\"bgcolor\":\"#E5ECF6\",\"aaxis\":{\"gridcolor\":\"white\",\"linecolor\":\"white\",\"ticks\":\"\"},\"baxis\":{\"gridcolor\":\"white\",\"linecolor\":\"white\",\"ticks\":\"\"},\"caxis\":{\"gridcolor\":\"white\",\"linecolor\":\"white\",\"ticks\":\"\"}},\"coloraxis\":{\"colorbar\":{\"outlinewidth\":0,\"ticks\":\"\"}},\"colorscale\":{\"sequential\":[[0.0,\"#0d0887\"],[0.1111111111111111,\"#46039f\"],[0.2222222222222222,\"#7201a8\"],[0.3333333333333333,\"#9c179e\"],[0.4444444444444444,\"#bd3786\"],[0.5555555555555556,\"#d8576b\"],[0.6666666666666666,\"#ed7953\"],[0.7777777777777778,\"#fb9f3a\"],[0.8888888888888888,\"#fdca26\"],[1.0,\"#f0f921\"]],\"sequentialminus\":[[0.0,\"#0d0887\"],[0.1111111111111111,\"#46039f\"],[0.2222222222222222,\"#7201a8\"],[0.3333333333333333,\"#9c179e\"],[0.4444444444444444,\"#bd3786\"],[0.5555555555555556,\"#d8576b\"],[0.6666666666666666,\"#ed7953\"],[0.7777777777777778,\"#fb9f3a\"],[0.8888888888888888,\"#fdca26\"],[1.0,\"#f0f921\"]],\"diverging\":[[0,\"#8e0152\"],[0.1,\"#c51b7d\"],[0.2,\"#de77ae\"],[0.3,\"#f1b6da\"],[0.4,\"#fde0ef\"],[0.5,\"#f7f7f7\"],[0.6,\"#e6f5d0\"],[0.7,\"#b8e186\"],[0.8,\"#7fbc41\"],[0.9,\"#4d9221\"],[1,\"#276419\"]]},\"xaxis\":{\"gridcolor\":\"white\",\"linecolor\":\"white\",\"ticks\":\"\",\"title\":{\"standoff\":15},\"zerolinecolor\":\"white\",\"automargin\":true,\"zerolinewidth\":2},\"yaxis\":{\"gridcolor\":\"white\",\"linecolor\":\"white\",\"ticks\":\"\",\"title\":{\"standoff\":15},\"zerolinecolor\":\"white\",\"automargin\":true,\"zerolinewidth\":2},\"scene\":{\"xaxis\":{\"backgroundcolor\":\"#E5ECF6\",\"gridcolor\":\"white\",\"linecolor\":\"white\",\"showbackground\":true,\"ticks\":\"\",\"zerolinecolor\":\"white\",\"gridwidth\":2},\"yaxis\":{\"backgroundcolor\":\"#E5ECF6\",\"gridcolor\":\"white\",\"linecolor\":\"white\",\"showbackground\":true,\"ticks\":\"\",\"zerolinecolor\":\"white\",\"gridwidth\":2},\"zaxis\":{\"backgroundcolor\":\"#E5ECF6\",\"gridcolor\":\"white\",\"linecolor\":\"white\",\"showbackground\":true,\"ticks\":\"\",\"zerolinecolor\":\"white\",\"gridwidth\":2}},\"shapedefaults\":{\"line\":{\"color\":\"#2a3f5f\"}},\"annotationdefaults\":{\"arrowcolor\":\"#2a3f5f\",\"arrowhead\":0,\"arrowwidth\":1},\"geo\":{\"bgcolor\":\"white\",\"landcolor\":\"#E5ECF6\",\"subunitcolor\":\"white\",\"showland\":true,\"showlakes\":true,\"lakecolor\":\"white\"},\"title\":{\"x\":0.05},\"mapbox\":{\"style\":\"light\"}}},\"xaxis\":{\"anchor\":\"y\",\"domain\":[0.0,1.0],\"title\":{\"text\":\"Stress\"}},\"yaxis\":{\"anchor\":\"x\",\"domain\":[0.0,1.0],\"title\":{\"text\":\"count\"}},\"legend\":{\"title\":{\"text\":\"Participants\"},\"tracegroupgap\":0},\"margin\":{\"t\":60},\"barmode\":\"relative\"},                        {\"responsive\": true}                    ).then(function(){\n",
       "                            \n",
       "var gd = document.getElementById('aab2f3b4-b87c-437e-b807-55205c18d7ba');\n",
       "var x = new MutationObserver(function (mutations, observer) {{\n",
       "        var display = window.getComputedStyle(gd).display;\n",
       "        if (!display || display === 'none') {{\n",
       "            console.log([gd, 'removed!']);\n",
       "            Plotly.purge(gd);\n",
       "            observer.disconnect();\n",
       "        }}\n",
       "}});\n",
       "\n",
       "// Listen for the removal of the full notebook cells\n",
       "var notebookContainer = gd.closest('#notebook-container');\n",
       "if (notebookContainer) {{\n",
       "    x.observe(notebookContainer, {childList: true});\n",
       "}}\n",
       "\n",
       "// Listen for the clearing of the current output cell\n",
       "var outputEl = gd.closest('.output');\n",
       "if (outputEl) {{\n",
       "    x.observe(outputEl, {childList: true});\n",
       "}}\n",
       "\n",
       "                        })                };                });            </script>        </div>"
      ]
     },
     "metadata": {},
     "output_type": "display_data"
    }
   ],
   "source": [
    "# stress and productivity were defaulted to 3 and so that may be why there are NAs\n",
    "# distribution of stress (Q22_1) for each participant with stress as x axis and count as y axis\n",
    "fig = px.histogram(daily, x=\"stress\", color=\"pid\",\n",
    "                labels={\n",
    "                    \"stress\": \"Stress\",\n",
    "                    \"pid\": \"Participants\"\n",
    "                })\n",
    "fig.show()"
   ]
  },
  {
   "cell_type": "code",
   "execution_count": 101,
   "metadata": {},
   "outputs": [
    {
     "data": {
      "application/vnd.plotly.v1+json": {
       "config": {
        "plotlyServerURL": "https://plot.ly"
       },
       "data": [
        {
         "alignmentgroup": "True",
         "bingroup": "x",
         "hovertemplate": "Participants=edr<br>Productivity=%{x}<br>count=%{y}<extra></extra>",
         "legendgroup": "edr",
         "marker": {
          "color": "#636efa",
          "pattern": {
           "shape": ""
          }
         },
         "name": "edr",
         "offsetgroup": "edr",
         "orientation": "v",
         "showlegend": true,
         "type": "histogram",
         "x": [
          4,
          null,
          null,
          null,
          4,
          null,
          4,
          2,
          4,
          1,
          null,
          4,
          4,
          4,
          null,
          2,
          4,
          5,
          5,
          null,
          null,
          2,
          2,
          5,
          2,
          2,
          3,
          1,
          2,
          4,
          3,
          3,
          4,
          4,
          4,
          4,
          4,
          4,
          2,
          5,
          2,
          4,
          4,
          4,
          4
         ],
         "xaxis": "x",
         "yaxis": "y"
        },
        {
         "alignmentgroup": "True",
         "bingroup": "x",
         "hovertemplate": "Participants=egl<br>Productivity=%{x}<br>count=%{y}<extra></extra>",
         "legendgroup": "egl",
         "marker": {
          "color": "#EF553B",
          "pattern": {
           "shape": ""
          }
         },
         "name": "egl",
         "offsetgroup": "egl",
         "orientation": "v",
         "showlegend": true,
         "type": "histogram",
         "x": [
          null,
          3,
          3,
          null,
          null,
          null,
          null,
          null,
          3,
          2,
          3,
          3,
          3,
          3,
          3,
          3,
          3,
          3,
          3,
          3,
          3,
          3,
          3,
          3,
          2,
          3,
          2,
          3,
          3,
          3,
          3,
          3,
          3,
          null,
          3,
          3,
          3,
          3,
          3,
          3,
          3,
          3,
          4,
          3,
          3,
          2,
          3,
          3,
          3,
          3,
          3,
          null
         ],
         "xaxis": "x",
         "yaxis": "y"
        },
        {
         "alignmentgroup": "True",
         "bingroup": "x",
         "hovertemplate": "Participants=uja<br>Productivity=%{x}<br>count=%{y}<extra></extra>",
         "legendgroup": "uja",
         "marker": {
          "color": "#00cc96",
          "pattern": {
           "shape": ""
          }
         },
         "name": "uja",
         "offsetgroup": "uja",
         "orientation": "v",
         "showlegend": true,
         "type": "histogram",
         "x": [
          3,
          3,
          3,
          4,
          2,
          null,
          2,
          4,
          2,
          4,
          3,
          4,
          2,
          null,
          2,
          3,
          null,
          4,
          4,
          4,
          null,
          4,
          3,
          2,
          null,
          4,
          3,
          3,
          2,
          2,
          2,
          4,
          null,
          2,
          3,
          3,
          4,
          4,
          3,
          2,
          2,
          2,
          2,
          4,
          2,
          4,
          3,
          3
         ],
         "xaxis": "x",
         "yaxis": "y"
        },
        {
         "alignmentgroup": "True",
         "bingroup": "x",
         "hovertemplate": "Participants=j02<br>Productivity=%{x}<br>count=%{y}<extra></extra>",
         "legendgroup": "j02",
         "marker": {
          "color": "#ab63fa",
          "pattern": {
           "shape": ""
          }
         },
         "name": "j02",
         "offsetgroup": "j02",
         "orientation": "v",
         "showlegend": true,
         "type": "histogram",
         "x": [
          3,
          1,
          2,
          3,
          null,
          3,
          3,
          null,
          null,
          null,
          3,
          1,
          3,
          3,
          3,
          3,
          null,
          1,
          3,
          3,
          1,
          3,
          3,
          3,
          1,
          1,
          null,
          3,
          3,
          1,
          2,
          1,
          1,
          3,
          2,
          1
         ],
         "xaxis": "x",
         "yaxis": "y"
        },
        {
         "alignmentgroup": "True",
         "bingroup": "x",
         "hovertemplate": "Participants=oyb<br>Productivity=%{x}<br>count=%{y}<extra></extra>",
         "legendgroup": "oyb",
         "marker": {
          "color": "#FFA15A",
          "pattern": {
           "shape": ""
          }
         },
         "name": "oyb",
         "offsetgroup": "oyb",
         "orientation": "v",
         "showlegend": true,
         "type": "histogram",
         "x": [
          1,
          4,
          4,
          2,
          4,
          null,
          null,
          null,
          3,
          1,
          4,
          5,
          4,
          2,
          5,
          4,
          4,
          4,
          3,
          4,
          4,
          4,
          3,
          2,
          4,
          5,
          2,
          2,
          4,
          4,
          1,
          1,
          1,
          2,
          4,
          2,
          2,
          2,
          4,
          2,
          2,
          1,
          3,
          4
         ],
         "xaxis": "x",
         "yaxis": "y"
        },
        {
         "alignmentgroup": "True",
         "bingroup": "x",
         "hovertemplate": "Participants=lpz<br>Productivity=%{x}<br>count=%{y}<extra></extra>",
         "legendgroup": "lpz",
         "marker": {
          "color": "#19d3f3",
          "pattern": {
           "shape": ""
          }
         },
         "name": "lpz",
         "offsetgroup": "lpz",
         "orientation": "v",
         "showlegend": true,
         "type": "histogram",
         "x": [
          4,
          3,
          3,
          4,
          4,
          3,
          3,
          3,
          3,
          3,
          3,
          3,
          3,
          3,
          3,
          4,
          4,
          4,
          4,
          3,
          3,
          3,
          4,
          4,
          3,
          3,
          4,
          3,
          3,
          3,
          3,
          3,
          2,
          4,
          3,
          4,
          4,
          3,
          4,
          3,
          4,
          2,
          3,
          3,
          2,
          2,
          3,
          2,
          4,
          3,
          4,
          3,
          2,
          3,
          2,
          3,
          2,
          3
         ],
         "xaxis": "x",
         "yaxis": "y"
        },
        {
         "alignmentgroup": "True",
         "bingroup": "x",
         "hovertemplate": "Participants=heh<br>Productivity=%{x}<br>count=%{y}<extra></extra>",
         "legendgroup": "heh",
         "marker": {
          "color": "#FF6692",
          "pattern": {
           "shape": ""
          }
         },
         "name": "heh",
         "offsetgroup": "heh",
         "orientation": "v",
         "showlegend": true,
         "type": "histogram",
         "x": [
          2,
          3,
          3,
          2,
          5,
          4,
          3,
          4,
          2,
          1,
          4,
          2,
          4,
          2,
          3,
          3,
          4,
          3,
          4,
          3,
          4,
          2,
          3,
          3,
          2,
          3,
          4,
          2,
          3,
          3,
          4,
          4,
          4,
          2,
          4,
          2,
          5,
          2,
          2,
          4,
          4,
          4,
          2,
          2,
          4,
          4,
          4,
          5,
          4,
          4,
          4,
          4,
          4,
          4,
          1,
          1,
          1,
          4,
          5
         ],
         "xaxis": "x",
         "yaxis": "y"
        },
        {
         "alignmentgroup": "True",
         "bingroup": "x",
         "hovertemplate": "Participants=mr1<br>Productivity=%{x}<br>count=%{y}<extra></extra>",
         "legendgroup": "mr1",
         "marker": {
          "color": "#FF97FF",
          "pattern": {
           "shape": ""
          }
         },
         "name": "mr1",
         "offsetgroup": "mr1",
         "orientation": "v",
         "showlegend": true,
         "type": "histogram",
         "x": [
          null,
          null,
          null,
          null,
          null,
          null,
          null,
          null,
          null,
          null,
          null,
          null,
          null,
          null,
          null,
          null,
          null,
          null,
          null,
          null,
          null,
          null,
          null,
          null,
          null,
          null,
          null,
          null,
          null,
          null,
          null,
          null,
          null,
          null,
          null,
          null,
          null,
          null,
          null,
          null,
          null,
          null,
          1,
          1
         ],
         "xaxis": "x",
         "yaxis": "y"
        },
        {
         "alignmentgroup": "True",
         "bingroup": "x",
         "hovertemplate": "Participants=xil<br>Productivity=%{x}<br>count=%{y}<extra></extra>",
         "legendgroup": "xil",
         "marker": {
          "color": "#FECB52",
          "pattern": {
           "shape": ""
          }
         },
         "name": "xil",
         "offsetgroup": "xil",
         "orientation": "v",
         "showlegend": true,
         "type": "histogram",
         "x": [
          4,
          1,
          2,
          4,
          4,
          4,
          4,
          3,
          4,
          null,
          4,
          1,
          2,
          1,
          2,
          2,
          1,
          2,
          3,
          2,
          2,
          2,
          2,
          4,
          4,
          null,
          4,
          2,
          2,
          3,
          2,
          4,
          3,
          null,
          2,
          2,
          null,
          2,
          1,
          1,
          3,
          1,
          2
         ],
         "xaxis": "x",
         "yaxis": "y"
        },
        {
         "alignmentgroup": "True",
         "bingroup": "x",
         "hovertemplate": "Participants=pgm<br>Productivity=%{x}<br>count=%{y}<extra></extra>",
         "legendgroup": "pgm",
         "marker": {
          "color": "#636efa",
          "pattern": {
           "shape": ""
          }
         },
         "name": "pgm",
         "offsetgroup": "pgm",
         "orientation": "v",
         "showlegend": true,
         "type": "histogram",
         "x": [
          5,
          null,
          4,
          2,
          null,
          5,
          null,
          2,
          2,
          null,
          null,
          2,
          4,
          2,
          null,
          2,
          2,
          null,
          2,
          2,
          null,
          2,
          2,
          2,
          null,
          2,
          null,
          4,
          4,
          2,
          2,
          null,
          2,
          null,
          2
         ],
         "xaxis": "x",
         "yaxis": "y"
        },
        {
         "alignmentgroup": "True",
         "bingroup": "x",
         "hovertemplate": "Participants=h9u<br>Productivity=%{x}<br>count=%{y}<extra></extra>",
         "legendgroup": "h9u",
         "marker": {
          "color": "#EF553B",
          "pattern": {
           "shape": ""
          }
         },
         "name": "h9u",
         "offsetgroup": "h9u",
         "orientation": "v",
         "showlegend": true,
         "type": "histogram",
         "x": [
          4,
          3,
          2,
          2,
          5,
          3,
          2,
          3,
          2,
          3,
          2,
          null,
          null,
          null,
          4,
          4,
          null,
          3,
          1,
          1,
          1,
          null,
          4,
          2,
          2,
          null,
          null,
          2,
          2,
          2,
          2,
          2,
          2,
          4,
          3,
          1,
          2,
          1,
          3,
          2,
          3,
          2,
          null,
          null,
          null,
          2,
          4,
          4,
          2,
          5,
          5,
          4,
          5,
          2,
          4,
          2,
          3,
          3,
          4
         ],
         "xaxis": "x",
         "yaxis": "y"
        },
        {
         "alignmentgroup": "True",
         "bingroup": "x",
         "hovertemplate": "Participants=ssg<br>Productivity=%{x}<br>count=%{y}<extra></extra>",
         "legendgroup": "ssg",
         "marker": {
          "color": "#00cc96",
          "pattern": {
           "shape": ""
          }
         },
         "name": "ssg",
         "offsetgroup": "ssg",
         "orientation": "v",
         "showlegend": true,
         "type": "histogram",
         "x": [
          1,
          1,
          3,
          2,
          4,
          4,
          2,
          2,
          3,
          4,
          3,
          5,
          4,
          1,
          3,
          4,
          4,
          4,
          1,
          4,
          2,
          5,
          2,
          1,
          2,
          3,
          1,
          2,
          1,
          1,
          3,
          1,
          2,
          1,
          2,
          4,
          4,
          2,
          4,
          1,
          4,
          4
         ],
         "xaxis": "x",
         "yaxis": "y"
        },
        {
         "alignmentgroup": "True",
         "bingroup": "x",
         "hovertemplate": "Participants=vxx<br>Productivity=%{x}<br>count=%{y}<extra></extra>",
         "legendgroup": "vxx",
         "marker": {
          "color": "#ab63fa",
          "pattern": {
           "shape": ""
          }
         },
         "name": "vxx",
         "offsetgroup": "vxx",
         "orientation": "v",
         "showlegend": true,
         "type": "histogram",
         "x": [
          4,
          4,
          4,
          4,
          4,
          4,
          4,
          4,
          4,
          4,
          4,
          4,
          null,
          5,
          4,
          null,
          4,
          null,
          2,
          4,
          2,
          4,
          null,
          4,
          null,
          4,
          4,
          4,
          null,
          4,
          null,
          null,
          4,
          4,
          4,
          4,
          4,
          4,
          4,
          4,
          4,
          null,
          4,
          null,
          4,
          4,
          4,
          4,
          null,
          null
         ],
         "xaxis": "x",
         "yaxis": "y"
        }
       ],
       "layout": {
        "barmode": "relative",
        "legend": {
         "title": {
          "text": "Participants"
         },
         "tracegroupgap": 0
        },
        "margin": {
         "t": 60
        },
        "template": {
         "data": {
          "bar": [
           {
            "error_x": {
             "color": "#2a3f5f"
            },
            "error_y": {
             "color": "#2a3f5f"
            },
            "marker": {
             "line": {
              "color": "#E5ECF6",
              "width": 0.5
             },
             "pattern": {
              "fillmode": "overlay",
              "size": 10,
              "solidity": 0.2
             }
            },
            "type": "bar"
           }
          ],
          "barpolar": [
           {
            "marker": {
             "line": {
              "color": "#E5ECF6",
              "width": 0.5
             },
             "pattern": {
              "fillmode": "overlay",
              "size": 10,
              "solidity": 0.2
             }
            },
            "type": "barpolar"
           }
          ],
          "carpet": [
           {
            "aaxis": {
             "endlinecolor": "#2a3f5f",
             "gridcolor": "white",
             "linecolor": "white",
             "minorgridcolor": "white",
             "startlinecolor": "#2a3f5f"
            },
            "baxis": {
             "endlinecolor": "#2a3f5f",
             "gridcolor": "white",
             "linecolor": "white",
             "minorgridcolor": "white",
             "startlinecolor": "#2a3f5f"
            },
            "type": "carpet"
           }
          ],
          "choropleth": [
           {
            "colorbar": {
             "outlinewidth": 0,
             "ticks": ""
            },
            "type": "choropleth"
           }
          ],
          "contour": [
           {
            "colorbar": {
             "outlinewidth": 0,
             "ticks": ""
            },
            "colorscale": [
             [
              0,
              "#0d0887"
             ],
             [
              0.1111111111111111,
              "#46039f"
             ],
             [
              0.2222222222222222,
              "#7201a8"
             ],
             [
              0.3333333333333333,
              "#9c179e"
             ],
             [
              0.4444444444444444,
              "#bd3786"
             ],
             [
              0.5555555555555556,
              "#d8576b"
             ],
             [
              0.6666666666666666,
              "#ed7953"
             ],
             [
              0.7777777777777778,
              "#fb9f3a"
             ],
             [
              0.8888888888888888,
              "#fdca26"
             ],
             [
              1,
              "#f0f921"
             ]
            ],
            "type": "contour"
           }
          ],
          "contourcarpet": [
           {
            "colorbar": {
             "outlinewidth": 0,
             "ticks": ""
            },
            "type": "contourcarpet"
           }
          ],
          "heatmap": [
           {
            "colorbar": {
             "outlinewidth": 0,
             "ticks": ""
            },
            "colorscale": [
             [
              0,
              "#0d0887"
             ],
             [
              0.1111111111111111,
              "#46039f"
             ],
             [
              0.2222222222222222,
              "#7201a8"
             ],
             [
              0.3333333333333333,
              "#9c179e"
             ],
             [
              0.4444444444444444,
              "#bd3786"
             ],
             [
              0.5555555555555556,
              "#d8576b"
             ],
             [
              0.6666666666666666,
              "#ed7953"
             ],
             [
              0.7777777777777778,
              "#fb9f3a"
             ],
             [
              0.8888888888888888,
              "#fdca26"
             ],
             [
              1,
              "#f0f921"
             ]
            ],
            "type": "heatmap"
           }
          ],
          "heatmapgl": [
           {
            "colorbar": {
             "outlinewidth": 0,
             "ticks": ""
            },
            "colorscale": [
             [
              0,
              "#0d0887"
             ],
             [
              0.1111111111111111,
              "#46039f"
             ],
             [
              0.2222222222222222,
              "#7201a8"
             ],
             [
              0.3333333333333333,
              "#9c179e"
             ],
             [
              0.4444444444444444,
              "#bd3786"
             ],
             [
              0.5555555555555556,
              "#d8576b"
             ],
             [
              0.6666666666666666,
              "#ed7953"
             ],
             [
              0.7777777777777778,
              "#fb9f3a"
             ],
             [
              0.8888888888888888,
              "#fdca26"
             ],
             [
              1,
              "#f0f921"
             ]
            ],
            "type": "heatmapgl"
           }
          ],
          "histogram": [
           {
            "marker": {
             "pattern": {
              "fillmode": "overlay",
              "size": 10,
              "solidity": 0.2
             }
            },
            "type": "histogram"
           }
          ],
          "histogram2d": [
           {
            "colorbar": {
             "outlinewidth": 0,
             "ticks": ""
            },
            "colorscale": [
             [
              0,
              "#0d0887"
             ],
             [
              0.1111111111111111,
              "#46039f"
             ],
             [
              0.2222222222222222,
              "#7201a8"
             ],
             [
              0.3333333333333333,
              "#9c179e"
             ],
             [
              0.4444444444444444,
              "#bd3786"
             ],
             [
              0.5555555555555556,
              "#d8576b"
             ],
             [
              0.6666666666666666,
              "#ed7953"
             ],
             [
              0.7777777777777778,
              "#fb9f3a"
             ],
             [
              0.8888888888888888,
              "#fdca26"
             ],
             [
              1,
              "#f0f921"
             ]
            ],
            "type": "histogram2d"
           }
          ],
          "histogram2dcontour": [
           {
            "colorbar": {
             "outlinewidth": 0,
             "ticks": ""
            },
            "colorscale": [
             [
              0,
              "#0d0887"
             ],
             [
              0.1111111111111111,
              "#46039f"
             ],
             [
              0.2222222222222222,
              "#7201a8"
             ],
             [
              0.3333333333333333,
              "#9c179e"
             ],
             [
              0.4444444444444444,
              "#bd3786"
             ],
             [
              0.5555555555555556,
              "#d8576b"
             ],
             [
              0.6666666666666666,
              "#ed7953"
             ],
             [
              0.7777777777777778,
              "#fb9f3a"
             ],
             [
              0.8888888888888888,
              "#fdca26"
             ],
             [
              1,
              "#f0f921"
             ]
            ],
            "type": "histogram2dcontour"
           }
          ],
          "mesh3d": [
           {
            "colorbar": {
             "outlinewidth": 0,
             "ticks": ""
            },
            "type": "mesh3d"
           }
          ],
          "parcoords": [
           {
            "line": {
             "colorbar": {
              "outlinewidth": 0,
              "ticks": ""
             }
            },
            "type": "parcoords"
           }
          ],
          "pie": [
           {
            "automargin": true,
            "type": "pie"
           }
          ],
          "scatter": [
           {
            "fillpattern": {
             "fillmode": "overlay",
             "size": 10,
             "solidity": 0.2
            },
            "type": "scatter"
           }
          ],
          "scatter3d": [
           {
            "line": {
             "colorbar": {
              "outlinewidth": 0,
              "ticks": ""
             }
            },
            "marker": {
             "colorbar": {
              "outlinewidth": 0,
              "ticks": ""
             }
            },
            "type": "scatter3d"
           }
          ],
          "scattercarpet": [
           {
            "marker": {
             "colorbar": {
              "outlinewidth": 0,
              "ticks": ""
             }
            },
            "type": "scattercarpet"
           }
          ],
          "scattergeo": [
           {
            "marker": {
             "colorbar": {
              "outlinewidth": 0,
              "ticks": ""
             }
            },
            "type": "scattergeo"
           }
          ],
          "scattergl": [
           {
            "marker": {
             "colorbar": {
              "outlinewidth": 0,
              "ticks": ""
             }
            },
            "type": "scattergl"
           }
          ],
          "scattermapbox": [
           {
            "marker": {
             "colorbar": {
              "outlinewidth": 0,
              "ticks": ""
             }
            },
            "type": "scattermapbox"
           }
          ],
          "scatterpolar": [
           {
            "marker": {
             "colorbar": {
              "outlinewidth": 0,
              "ticks": ""
             }
            },
            "type": "scatterpolar"
           }
          ],
          "scatterpolargl": [
           {
            "marker": {
             "colorbar": {
              "outlinewidth": 0,
              "ticks": ""
             }
            },
            "type": "scatterpolargl"
           }
          ],
          "scatterternary": [
           {
            "marker": {
             "colorbar": {
              "outlinewidth": 0,
              "ticks": ""
             }
            },
            "type": "scatterternary"
           }
          ],
          "surface": [
           {
            "colorbar": {
             "outlinewidth": 0,
             "ticks": ""
            },
            "colorscale": [
             [
              0,
              "#0d0887"
             ],
             [
              0.1111111111111111,
              "#46039f"
             ],
             [
              0.2222222222222222,
              "#7201a8"
             ],
             [
              0.3333333333333333,
              "#9c179e"
             ],
             [
              0.4444444444444444,
              "#bd3786"
             ],
             [
              0.5555555555555556,
              "#d8576b"
             ],
             [
              0.6666666666666666,
              "#ed7953"
             ],
             [
              0.7777777777777778,
              "#fb9f3a"
             ],
             [
              0.8888888888888888,
              "#fdca26"
             ],
             [
              1,
              "#f0f921"
             ]
            ],
            "type": "surface"
           }
          ],
          "table": [
           {
            "cells": {
             "fill": {
              "color": "#EBF0F8"
             },
             "line": {
              "color": "white"
             }
            },
            "header": {
             "fill": {
              "color": "#C8D4E3"
             },
             "line": {
              "color": "white"
             }
            },
            "type": "table"
           }
          ]
         },
         "layout": {
          "annotationdefaults": {
           "arrowcolor": "#2a3f5f",
           "arrowhead": 0,
           "arrowwidth": 1
          },
          "autotypenumbers": "strict",
          "coloraxis": {
           "colorbar": {
            "outlinewidth": 0,
            "ticks": ""
           }
          },
          "colorscale": {
           "diverging": [
            [
             0,
             "#8e0152"
            ],
            [
             0.1,
             "#c51b7d"
            ],
            [
             0.2,
             "#de77ae"
            ],
            [
             0.3,
             "#f1b6da"
            ],
            [
             0.4,
             "#fde0ef"
            ],
            [
             0.5,
             "#f7f7f7"
            ],
            [
             0.6,
             "#e6f5d0"
            ],
            [
             0.7,
             "#b8e186"
            ],
            [
             0.8,
             "#7fbc41"
            ],
            [
             0.9,
             "#4d9221"
            ],
            [
             1,
             "#276419"
            ]
           ],
           "sequential": [
            [
             0,
             "#0d0887"
            ],
            [
             0.1111111111111111,
             "#46039f"
            ],
            [
             0.2222222222222222,
             "#7201a8"
            ],
            [
             0.3333333333333333,
             "#9c179e"
            ],
            [
             0.4444444444444444,
             "#bd3786"
            ],
            [
             0.5555555555555556,
             "#d8576b"
            ],
            [
             0.6666666666666666,
             "#ed7953"
            ],
            [
             0.7777777777777778,
             "#fb9f3a"
            ],
            [
             0.8888888888888888,
             "#fdca26"
            ],
            [
             1,
             "#f0f921"
            ]
           ],
           "sequentialminus": [
            [
             0,
             "#0d0887"
            ],
            [
             0.1111111111111111,
             "#46039f"
            ],
            [
             0.2222222222222222,
             "#7201a8"
            ],
            [
             0.3333333333333333,
             "#9c179e"
            ],
            [
             0.4444444444444444,
             "#bd3786"
            ],
            [
             0.5555555555555556,
             "#d8576b"
            ],
            [
             0.6666666666666666,
             "#ed7953"
            ],
            [
             0.7777777777777778,
             "#fb9f3a"
            ],
            [
             0.8888888888888888,
             "#fdca26"
            ],
            [
             1,
             "#f0f921"
            ]
           ]
          },
          "colorway": [
           "#636efa",
           "#EF553B",
           "#00cc96",
           "#ab63fa",
           "#FFA15A",
           "#19d3f3",
           "#FF6692",
           "#B6E880",
           "#FF97FF",
           "#FECB52"
          ],
          "font": {
           "color": "#2a3f5f"
          },
          "geo": {
           "bgcolor": "white",
           "lakecolor": "white",
           "landcolor": "#E5ECF6",
           "showlakes": true,
           "showland": true,
           "subunitcolor": "white"
          },
          "hoverlabel": {
           "align": "left"
          },
          "hovermode": "closest",
          "mapbox": {
           "style": "light"
          },
          "paper_bgcolor": "white",
          "plot_bgcolor": "#E5ECF6",
          "polar": {
           "angularaxis": {
            "gridcolor": "white",
            "linecolor": "white",
            "ticks": ""
           },
           "bgcolor": "#E5ECF6",
           "radialaxis": {
            "gridcolor": "white",
            "linecolor": "white",
            "ticks": ""
           }
          },
          "scene": {
           "xaxis": {
            "backgroundcolor": "#E5ECF6",
            "gridcolor": "white",
            "gridwidth": 2,
            "linecolor": "white",
            "showbackground": true,
            "ticks": "",
            "zerolinecolor": "white"
           },
           "yaxis": {
            "backgroundcolor": "#E5ECF6",
            "gridcolor": "white",
            "gridwidth": 2,
            "linecolor": "white",
            "showbackground": true,
            "ticks": "",
            "zerolinecolor": "white"
           },
           "zaxis": {
            "backgroundcolor": "#E5ECF6",
            "gridcolor": "white",
            "gridwidth": 2,
            "linecolor": "white",
            "showbackground": true,
            "ticks": "",
            "zerolinecolor": "white"
           }
          },
          "shapedefaults": {
           "line": {
            "color": "#2a3f5f"
           }
          },
          "ternary": {
           "aaxis": {
            "gridcolor": "white",
            "linecolor": "white",
            "ticks": ""
           },
           "baxis": {
            "gridcolor": "white",
            "linecolor": "white",
            "ticks": ""
           },
           "bgcolor": "#E5ECF6",
           "caxis": {
            "gridcolor": "white",
            "linecolor": "white",
            "ticks": ""
           }
          },
          "title": {
           "x": 0.05
          },
          "xaxis": {
           "automargin": true,
           "gridcolor": "white",
           "linecolor": "white",
           "ticks": "",
           "title": {
            "standoff": 15
           },
           "zerolinecolor": "white",
           "zerolinewidth": 2
          },
          "yaxis": {
           "automargin": true,
           "gridcolor": "white",
           "linecolor": "white",
           "ticks": "",
           "title": {
            "standoff": 15
           },
           "zerolinecolor": "white",
           "zerolinewidth": 2
          }
         }
        },
        "xaxis": {
         "anchor": "y",
         "domain": [
          0,
          1
         ],
         "title": {
          "text": "Productivity"
         }
        },
        "yaxis": {
         "anchor": "x",
         "domain": [
          0,
          1
         ],
         "title": {
          "text": "count"
         }
        }
       }
      },
      "text/html": [
       "<div>                            <div id=\"3dd8eed3-e0bb-426d-acdc-f868153cf29f\" class=\"plotly-graph-div\" style=\"height:525px; width:100%;\"></div>            <script type=\"text/javascript\">                require([\"plotly\"], function(Plotly) {                    window.PLOTLYENV=window.PLOTLYENV || {};                                    if (document.getElementById(\"3dd8eed3-e0bb-426d-acdc-f868153cf29f\")) {                    Plotly.newPlot(                        \"3dd8eed3-e0bb-426d-acdc-f868153cf29f\",                        [{\"alignmentgroup\":\"True\",\"bingroup\":\"x\",\"hovertemplate\":\"Participants=edr<br>Productivity=%{x}<br>count=%{y}<extra></extra>\",\"legendgroup\":\"edr\",\"marker\":{\"color\":\"#636efa\",\"pattern\":{\"shape\":\"\"}},\"name\":\"edr\",\"offsetgroup\":\"edr\",\"orientation\":\"v\",\"showlegend\":true,\"x\":[4.0,null,null,null,4.0,null,4.0,2.0,4.0,1.0,null,4.0,4.0,4.0,null,2.0,4.0,5.0,5.0,null,null,2.0,2.0,5.0,2.0,2.0,3.0,1.0,2.0,4.0,3.0,3.0,4.0,4.0,4.0,4.0,4.0,4.0,2.0,5.0,2.0,4.0,4.0,4.0,4.0],\"xaxis\":\"x\",\"yaxis\":\"y\",\"type\":\"histogram\"},{\"alignmentgroup\":\"True\",\"bingroup\":\"x\",\"hovertemplate\":\"Participants=egl<br>Productivity=%{x}<br>count=%{y}<extra></extra>\",\"legendgroup\":\"egl\",\"marker\":{\"color\":\"#EF553B\",\"pattern\":{\"shape\":\"\"}},\"name\":\"egl\",\"offsetgroup\":\"egl\",\"orientation\":\"v\",\"showlegend\":true,\"x\":[null,3.0,3.0,null,null,null,null,null,3.0,2.0,3.0,3.0,3.0,3.0,3.0,3.0,3.0,3.0,3.0,3.0,3.0,3.0,3.0,3.0,2.0,3.0,2.0,3.0,3.0,3.0,3.0,3.0,3.0,null,3.0,3.0,3.0,3.0,3.0,3.0,3.0,3.0,4.0,3.0,3.0,2.0,3.0,3.0,3.0,3.0,3.0,null],\"xaxis\":\"x\",\"yaxis\":\"y\",\"type\":\"histogram\"},{\"alignmentgroup\":\"True\",\"bingroup\":\"x\",\"hovertemplate\":\"Participants=uja<br>Productivity=%{x}<br>count=%{y}<extra></extra>\",\"legendgroup\":\"uja\",\"marker\":{\"color\":\"#00cc96\",\"pattern\":{\"shape\":\"\"}},\"name\":\"uja\",\"offsetgroup\":\"uja\",\"orientation\":\"v\",\"showlegend\":true,\"x\":[3.0,3.0,3.0,4.0,2.0,null,2.0,4.0,2.0,4.0,3.0,4.0,2.0,null,2.0,3.0,null,4.0,4.0,4.0,null,4.0,3.0,2.0,null,4.0,3.0,3.0,2.0,2.0,2.0,4.0,null,2.0,3.0,3.0,4.0,4.0,3.0,2.0,2.0,2.0,2.0,4.0,2.0,4.0,3.0,3.0],\"xaxis\":\"x\",\"yaxis\":\"y\",\"type\":\"histogram\"},{\"alignmentgroup\":\"True\",\"bingroup\":\"x\",\"hovertemplate\":\"Participants=j02<br>Productivity=%{x}<br>count=%{y}<extra></extra>\",\"legendgroup\":\"j02\",\"marker\":{\"color\":\"#ab63fa\",\"pattern\":{\"shape\":\"\"}},\"name\":\"j02\",\"offsetgroup\":\"j02\",\"orientation\":\"v\",\"showlegend\":true,\"x\":[3.0,1.0,2.0,3.0,null,3.0,3.0,null,null,null,3.0,1.0,3.0,3.0,3.0,3.0,null,1.0,3.0,3.0,1.0,3.0,3.0,3.0,1.0,1.0,null,3.0,3.0,1.0,2.0,1.0,1.0,3.0,2.0,1.0],\"xaxis\":\"x\",\"yaxis\":\"y\",\"type\":\"histogram\"},{\"alignmentgroup\":\"True\",\"bingroup\":\"x\",\"hovertemplate\":\"Participants=oyb<br>Productivity=%{x}<br>count=%{y}<extra></extra>\",\"legendgroup\":\"oyb\",\"marker\":{\"color\":\"#FFA15A\",\"pattern\":{\"shape\":\"\"}},\"name\":\"oyb\",\"offsetgroup\":\"oyb\",\"orientation\":\"v\",\"showlegend\":true,\"x\":[1.0,4.0,4.0,2.0,4.0,null,null,null,3.0,1.0,4.0,5.0,4.0,2.0,5.0,4.0,4.0,4.0,3.0,4.0,4.0,4.0,3.0,2.0,4.0,5.0,2.0,2.0,4.0,4.0,1.0,1.0,1.0,2.0,4.0,2.0,2.0,2.0,4.0,2.0,2.0,1.0,3.0,4.0],\"xaxis\":\"x\",\"yaxis\":\"y\",\"type\":\"histogram\"},{\"alignmentgroup\":\"True\",\"bingroup\":\"x\",\"hovertemplate\":\"Participants=lpz<br>Productivity=%{x}<br>count=%{y}<extra></extra>\",\"legendgroup\":\"lpz\",\"marker\":{\"color\":\"#19d3f3\",\"pattern\":{\"shape\":\"\"}},\"name\":\"lpz\",\"offsetgroup\":\"lpz\",\"orientation\":\"v\",\"showlegend\":true,\"x\":[4.0,3.0,3.0,4.0,4.0,3.0,3.0,3.0,3.0,3.0,3.0,3.0,3.0,3.0,3.0,4.0,4.0,4.0,4.0,3.0,3.0,3.0,4.0,4.0,3.0,3.0,4.0,3.0,3.0,3.0,3.0,3.0,2.0,4.0,3.0,4.0,4.0,3.0,4.0,3.0,4.0,2.0,3.0,3.0,2.0,2.0,3.0,2.0,4.0,3.0,4.0,3.0,2.0,3.0,2.0,3.0,2.0,3.0],\"xaxis\":\"x\",\"yaxis\":\"y\",\"type\":\"histogram\"},{\"alignmentgroup\":\"True\",\"bingroup\":\"x\",\"hovertemplate\":\"Participants=heh<br>Productivity=%{x}<br>count=%{y}<extra></extra>\",\"legendgroup\":\"heh\",\"marker\":{\"color\":\"#FF6692\",\"pattern\":{\"shape\":\"\"}},\"name\":\"heh\",\"offsetgroup\":\"heh\",\"orientation\":\"v\",\"showlegend\":true,\"x\":[2.0,3.0,3.0,2.0,5.0,4.0,3.0,4.0,2.0,1.0,4.0,2.0,4.0,2.0,3.0,3.0,4.0,3.0,4.0,3.0,4.0,2.0,3.0,3.0,2.0,3.0,4.0,2.0,3.0,3.0,4.0,4.0,4.0,2.0,4.0,2.0,5.0,2.0,2.0,4.0,4.0,4.0,2.0,2.0,4.0,4.0,4.0,5.0,4.0,4.0,4.0,4.0,4.0,4.0,1.0,1.0,1.0,4.0,5.0],\"xaxis\":\"x\",\"yaxis\":\"y\",\"type\":\"histogram\"},{\"alignmentgroup\":\"True\",\"bingroup\":\"x\",\"hovertemplate\":\"Participants=mr1<br>Productivity=%{x}<br>count=%{y}<extra></extra>\",\"legendgroup\":\"mr1\",\"marker\":{\"color\":\"#FF97FF\",\"pattern\":{\"shape\":\"\"}},\"name\":\"mr1\",\"offsetgroup\":\"mr1\",\"orientation\":\"v\",\"showlegend\":true,\"x\":[null,null,null,null,null,null,null,null,null,null,null,null,null,null,null,null,null,null,null,null,null,null,null,null,null,null,null,null,null,null,null,null,null,null,null,null,null,null,null,null,null,null,1.0,1.0],\"xaxis\":\"x\",\"yaxis\":\"y\",\"type\":\"histogram\"},{\"alignmentgroup\":\"True\",\"bingroup\":\"x\",\"hovertemplate\":\"Participants=xil<br>Productivity=%{x}<br>count=%{y}<extra></extra>\",\"legendgroup\":\"xil\",\"marker\":{\"color\":\"#FECB52\",\"pattern\":{\"shape\":\"\"}},\"name\":\"xil\",\"offsetgroup\":\"xil\",\"orientation\":\"v\",\"showlegend\":true,\"x\":[4.0,1.0,2.0,4.0,4.0,4.0,4.0,3.0,4.0,null,4.0,1.0,2.0,1.0,2.0,2.0,1.0,2.0,3.0,2.0,2.0,2.0,2.0,4.0,4.0,null,4.0,2.0,2.0,3.0,2.0,4.0,3.0,null,2.0,2.0,null,2.0,1.0,1.0,3.0,1.0,2.0],\"xaxis\":\"x\",\"yaxis\":\"y\",\"type\":\"histogram\"},{\"alignmentgroup\":\"True\",\"bingroup\":\"x\",\"hovertemplate\":\"Participants=pgm<br>Productivity=%{x}<br>count=%{y}<extra></extra>\",\"legendgroup\":\"pgm\",\"marker\":{\"color\":\"#636efa\",\"pattern\":{\"shape\":\"\"}},\"name\":\"pgm\",\"offsetgroup\":\"pgm\",\"orientation\":\"v\",\"showlegend\":true,\"x\":[5.0,null,4.0,2.0,null,5.0,null,2.0,2.0,null,null,2.0,4.0,2.0,null,2.0,2.0,null,2.0,2.0,null,2.0,2.0,2.0,null,2.0,null,4.0,4.0,2.0,2.0,null,2.0,null,2.0],\"xaxis\":\"x\",\"yaxis\":\"y\",\"type\":\"histogram\"},{\"alignmentgroup\":\"True\",\"bingroup\":\"x\",\"hovertemplate\":\"Participants=h9u<br>Productivity=%{x}<br>count=%{y}<extra></extra>\",\"legendgroup\":\"h9u\",\"marker\":{\"color\":\"#EF553B\",\"pattern\":{\"shape\":\"\"}},\"name\":\"h9u\",\"offsetgroup\":\"h9u\",\"orientation\":\"v\",\"showlegend\":true,\"x\":[4.0,3.0,2.0,2.0,5.0,3.0,2.0,3.0,2.0,3.0,2.0,null,null,null,4.0,4.0,null,3.0,1.0,1.0,1.0,null,4.0,2.0,2.0,null,null,2.0,2.0,2.0,2.0,2.0,2.0,4.0,3.0,1.0,2.0,1.0,3.0,2.0,3.0,2.0,null,null,null,2.0,4.0,4.0,2.0,5.0,5.0,4.0,5.0,2.0,4.0,2.0,3.0,3.0,4.0],\"xaxis\":\"x\",\"yaxis\":\"y\",\"type\":\"histogram\"},{\"alignmentgroup\":\"True\",\"bingroup\":\"x\",\"hovertemplate\":\"Participants=ssg<br>Productivity=%{x}<br>count=%{y}<extra></extra>\",\"legendgroup\":\"ssg\",\"marker\":{\"color\":\"#00cc96\",\"pattern\":{\"shape\":\"\"}},\"name\":\"ssg\",\"offsetgroup\":\"ssg\",\"orientation\":\"v\",\"showlegend\":true,\"x\":[1.0,1.0,3.0,2.0,4.0,4.0,2.0,2.0,3.0,4.0,3.0,5.0,4.0,1.0,3.0,4.0,4.0,4.0,1.0,4.0,2.0,5.0,2.0,1.0,2.0,3.0,1.0,2.0,1.0,1.0,3.0,1.0,2.0,1.0,2.0,4.0,4.0,2.0,4.0,1.0,4.0,4.0],\"xaxis\":\"x\",\"yaxis\":\"y\",\"type\":\"histogram\"},{\"alignmentgroup\":\"True\",\"bingroup\":\"x\",\"hovertemplate\":\"Participants=vxx<br>Productivity=%{x}<br>count=%{y}<extra></extra>\",\"legendgroup\":\"vxx\",\"marker\":{\"color\":\"#ab63fa\",\"pattern\":{\"shape\":\"\"}},\"name\":\"vxx\",\"offsetgroup\":\"vxx\",\"orientation\":\"v\",\"showlegend\":true,\"x\":[4.0,4.0,4.0,4.0,4.0,4.0,4.0,4.0,4.0,4.0,4.0,4.0,null,5.0,4.0,null,4.0,null,2.0,4.0,2.0,4.0,null,4.0,null,4.0,4.0,4.0,null,4.0,null,null,4.0,4.0,4.0,4.0,4.0,4.0,4.0,4.0,4.0,null,4.0,null,4.0,4.0,4.0,4.0,null,null],\"xaxis\":\"x\",\"yaxis\":\"y\",\"type\":\"histogram\"}],                        {\"template\":{\"data\":{\"histogram2dcontour\":[{\"type\":\"histogram2dcontour\",\"colorbar\":{\"outlinewidth\":0,\"ticks\":\"\"},\"colorscale\":[[0.0,\"#0d0887\"],[0.1111111111111111,\"#46039f\"],[0.2222222222222222,\"#7201a8\"],[0.3333333333333333,\"#9c179e\"],[0.4444444444444444,\"#bd3786\"],[0.5555555555555556,\"#d8576b\"],[0.6666666666666666,\"#ed7953\"],[0.7777777777777778,\"#fb9f3a\"],[0.8888888888888888,\"#fdca26\"],[1.0,\"#f0f921\"]]}],\"choropleth\":[{\"type\":\"choropleth\",\"colorbar\":{\"outlinewidth\":0,\"ticks\":\"\"}}],\"histogram2d\":[{\"type\":\"histogram2d\",\"colorbar\":{\"outlinewidth\":0,\"ticks\":\"\"},\"colorscale\":[[0.0,\"#0d0887\"],[0.1111111111111111,\"#46039f\"],[0.2222222222222222,\"#7201a8\"],[0.3333333333333333,\"#9c179e\"],[0.4444444444444444,\"#bd3786\"],[0.5555555555555556,\"#d8576b\"],[0.6666666666666666,\"#ed7953\"],[0.7777777777777778,\"#fb9f3a\"],[0.8888888888888888,\"#fdca26\"],[1.0,\"#f0f921\"]]}],\"heatmap\":[{\"type\":\"heatmap\",\"colorbar\":{\"outlinewidth\":0,\"ticks\":\"\"},\"colorscale\":[[0.0,\"#0d0887\"],[0.1111111111111111,\"#46039f\"],[0.2222222222222222,\"#7201a8\"],[0.3333333333333333,\"#9c179e\"],[0.4444444444444444,\"#bd3786\"],[0.5555555555555556,\"#d8576b\"],[0.6666666666666666,\"#ed7953\"],[0.7777777777777778,\"#fb9f3a\"],[0.8888888888888888,\"#fdca26\"],[1.0,\"#f0f921\"]]}],\"heatmapgl\":[{\"type\":\"heatmapgl\",\"colorbar\":{\"outlinewidth\":0,\"ticks\":\"\"},\"colorscale\":[[0.0,\"#0d0887\"],[0.1111111111111111,\"#46039f\"],[0.2222222222222222,\"#7201a8\"],[0.3333333333333333,\"#9c179e\"],[0.4444444444444444,\"#bd3786\"],[0.5555555555555556,\"#d8576b\"],[0.6666666666666666,\"#ed7953\"],[0.7777777777777778,\"#fb9f3a\"],[0.8888888888888888,\"#fdca26\"],[1.0,\"#f0f921\"]]}],\"contourcarpet\":[{\"type\":\"contourcarpet\",\"colorbar\":{\"outlinewidth\":0,\"ticks\":\"\"}}],\"contour\":[{\"type\":\"contour\",\"colorbar\":{\"outlinewidth\":0,\"ticks\":\"\"},\"colorscale\":[[0.0,\"#0d0887\"],[0.1111111111111111,\"#46039f\"],[0.2222222222222222,\"#7201a8\"],[0.3333333333333333,\"#9c179e\"],[0.4444444444444444,\"#bd3786\"],[0.5555555555555556,\"#d8576b\"],[0.6666666666666666,\"#ed7953\"],[0.7777777777777778,\"#fb9f3a\"],[0.8888888888888888,\"#fdca26\"],[1.0,\"#f0f921\"]]}],\"surface\":[{\"type\":\"surface\",\"colorbar\":{\"outlinewidth\":0,\"ticks\":\"\"},\"colorscale\":[[0.0,\"#0d0887\"],[0.1111111111111111,\"#46039f\"],[0.2222222222222222,\"#7201a8\"],[0.3333333333333333,\"#9c179e\"],[0.4444444444444444,\"#bd3786\"],[0.5555555555555556,\"#d8576b\"],[0.6666666666666666,\"#ed7953\"],[0.7777777777777778,\"#fb9f3a\"],[0.8888888888888888,\"#fdca26\"],[1.0,\"#f0f921\"]]}],\"mesh3d\":[{\"type\":\"mesh3d\",\"colorbar\":{\"outlinewidth\":0,\"ticks\":\"\"}}],\"scatter\":[{\"fillpattern\":{\"fillmode\":\"overlay\",\"size\":10,\"solidity\":0.2},\"type\":\"scatter\"}],\"parcoords\":[{\"type\":\"parcoords\",\"line\":{\"colorbar\":{\"outlinewidth\":0,\"ticks\":\"\"}}}],\"scatterpolargl\":[{\"type\":\"scatterpolargl\",\"marker\":{\"colorbar\":{\"outlinewidth\":0,\"ticks\":\"\"}}}],\"bar\":[{\"error_x\":{\"color\":\"#2a3f5f\"},\"error_y\":{\"color\":\"#2a3f5f\"},\"marker\":{\"line\":{\"color\":\"#E5ECF6\",\"width\":0.5},\"pattern\":{\"fillmode\":\"overlay\",\"size\":10,\"solidity\":0.2}},\"type\":\"bar\"}],\"scattergeo\":[{\"type\":\"scattergeo\",\"marker\":{\"colorbar\":{\"outlinewidth\":0,\"ticks\":\"\"}}}],\"scatterpolar\":[{\"type\":\"scatterpolar\",\"marker\":{\"colorbar\":{\"outlinewidth\":0,\"ticks\":\"\"}}}],\"histogram\":[{\"marker\":{\"pattern\":{\"fillmode\":\"overlay\",\"size\":10,\"solidity\":0.2}},\"type\":\"histogram\"}],\"scattergl\":[{\"type\":\"scattergl\",\"marker\":{\"colorbar\":{\"outlinewidth\":0,\"ticks\":\"\"}}}],\"scatter3d\":[{\"type\":\"scatter3d\",\"line\":{\"colorbar\":{\"outlinewidth\":0,\"ticks\":\"\"}},\"marker\":{\"colorbar\":{\"outlinewidth\":0,\"ticks\":\"\"}}}],\"scattermapbox\":[{\"type\":\"scattermapbox\",\"marker\":{\"colorbar\":{\"outlinewidth\":0,\"ticks\":\"\"}}}],\"scatterternary\":[{\"type\":\"scatterternary\",\"marker\":{\"colorbar\":{\"outlinewidth\":0,\"ticks\":\"\"}}}],\"scattercarpet\":[{\"type\":\"scattercarpet\",\"marker\":{\"colorbar\":{\"outlinewidth\":0,\"ticks\":\"\"}}}],\"carpet\":[{\"aaxis\":{\"endlinecolor\":\"#2a3f5f\",\"gridcolor\":\"white\",\"linecolor\":\"white\",\"minorgridcolor\":\"white\",\"startlinecolor\":\"#2a3f5f\"},\"baxis\":{\"endlinecolor\":\"#2a3f5f\",\"gridcolor\":\"white\",\"linecolor\":\"white\",\"minorgridcolor\":\"white\",\"startlinecolor\":\"#2a3f5f\"},\"type\":\"carpet\"}],\"table\":[{\"cells\":{\"fill\":{\"color\":\"#EBF0F8\"},\"line\":{\"color\":\"white\"}},\"header\":{\"fill\":{\"color\":\"#C8D4E3\"},\"line\":{\"color\":\"white\"}},\"type\":\"table\"}],\"barpolar\":[{\"marker\":{\"line\":{\"color\":\"#E5ECF6\",\"width\":0.5},\"pattern\":{\"fillmode\":\"overlay\",\"size\":10,\"solidity\":0.2}},\"type\":\"barpolar\"}],\"pie\":[{\"automargin\":true,\"type\":\"pie\"}]},\"layout\":{\"autotypenumbers\":\"strict\",\"colorway\":[\"#636efa\",\"#EF553B\",\"#00cc96\",\"#ab63fa\",\"#FFA15A\",\"#19d3f3\",\"#FF6692\",\"#B6E880\",\"#FF97FF\",\"#FECB52\"],\"font\":{\"color\":\"#2a3f5f\"},\"hovermode\":\"closest\",\"hoverlabel\":{\"align\":\"left\"},\"paper_bgcolor\":\"white\",\"plot_bgcolor\":\"#E5ECF6\",\"polar\":{\"bgcolor\":\"#E5ECF6\",\"angularaxis\":{\"gridcolor\":\"white\",\"linecolor\":\"white\",\"ticks\":\"\"},\"radialaxis\":{\"gridcolor\":\"white\",\"linecolor\":\"white\",\"ticks\":\"\"}},\"ternary\":{\"bgcolor\":\"#E5ECF6\",\"aaxis\":{\"gridcolor\":\"white\",\"linecolor\":\"white\",\"ticks\":\"\"},\"baxis\":{\"gridcolor\":\"white\",\"linecolor\":\"white\",\"ticks\":\"\"},\"caxis\":{\"gridcolor\":\"white\",\"linecolor\":\"white\",\"ticks\":\"\"}},\"coloraxis\":{\"colorbar\":{\"outlinewidth\":0,\"ticks\":\"\"}},\"colorscale\":{\"sequential\":[[0.0,\"#0d0887\"],[0.1111111111111111,\"#46039f\"],[0.2222222222222222,\"#7201a8\"],[0.3333333333333333,\"#9c179e\"],[0.4444444444444444,\"#bd3786\"],[0.5555555555555556,\"#d8576b\"],[0.6666666666666666,\"#ed7953\"],[0.7777777777777778,\"#fb9f3a\"],[0.8888888888888888,\"#fdca26\"],[1.0,\"#f0f921\"]],\"sequentialminus\":[[0.0,\"#0d0887\"],[0.1111111111111111,\"#46039f\"],[0.2222222222222222,\"#7201a8\"],[0.3333333333333333,\"#9c179e\"],[0.4444444444444444,\"#bd3786\"],[0.5555555555555556,\"#d8576b\"],[0.6666666666666666,\"#ed7953\"],[0.7777777777777778,\"#fb9f3a\"],[0.8888888888888888,\"#fdca26\"],[1.0,\"#f0f921\"]],\"diverging\":[[0,\"#8e0152\"],[0.1,\"#c51b7d\"],[0.2,\"#de77ae\"],[0.3,\"#f1b6da\"],[0.4,\"#fde0ef\"],[0.5,\"#f7f7f7\"],[0.6,\"#e6f5d0\"],[0.7,\"#b8e186\"],[0.8,\"#7fbc41\"],[0.9,\"#4d9221\"],[1,\"#276419\"]]},\"xaxis\":{\"gridcolor\":\"white\",\"linecolor\":\"white\",\"ticks\":\"\",\"title\":{\"standoff\":15},\"zerolinecolor\":\"white\",\"automargin\":true,\"zerolinewidth\":2},\"yaxis\":{\"gridcolor\":\"white\",\"linecolor\":\"white\",\"ticks\":\"\",\"title\":{\"standoff\":15},\"zerolinecolor\":\"white\",\"automargin\":true,\"zerolinewidth\":2},\"scene\":{\"xaxis\":{\"backgroundcolor\":\"#E5ECF6\",\"gridcolor\":\"white\",\"linecolor\":\"white\",\"showbackground\":true,\"ticks\":\"\",\"zerolinecolor\":\"white\",\"gridwidth\":2},\"yaxis\":{\"backgroundcolor\":\"#E5ECF6\",\"gridcolor\":\"white\",\"linecolor\":\"white\",\"showbackground\":true,\"ticks\":\"\",\"zerolinecolor\":\"white\",\"gridwidth\":2},\"zaxis\":{\"backgroundcolor\":\"#E5ECF6\",\"gridcolor\":\"white\",\"linecolor\":\"white\",\"showbackground\":true,\"ticks\":\"\",\"zerolinecolor\":\"white\",\"gridwidth\":2}},\"shapedefaults\":{\"line\":{\"color\":\"#2a3f5f\"}},\"annotationdefaults\":{\"arrowcolor\":\"#2a3f5f\",\"arrowhead\":0,\"arrowwidth\":1},\"geo\":{\"bgcolor\":\"white\",\"landcolor\":\"#E5ECF6\",\"subunitcolor\":\"white\",\"showland\":true,\"showlakes\":true,\"lakecolor\":\"white\"},\"title\":{\"x\":0.05},\"mapbox\":{\"style\":\"light\"}}},\"xaxis\":{\"anchor\":\"y\",\"domain\":[0.0,1.0],\"title\":{\"text\":\"Productivity\"}},\"yaxis\":{\"anchor\":\"x\",\"domain\":[0.0,1.0],\"title\":{\"text\":\"count\"}},\"legend\":{\"title\":{\"text\":\"Participants\"},\"tracegroupgap\":0},\"margin\":{\"t\":60},\"barmode\":\"relative\"},                        {\"responsive\": true}                    ).then(function(){\n",
       "                            \n",
       "var gd = document.getElementById('3dd8eed3-e0bb-426d-acdc-f868153cf29f');\n",
       "var x = new MutationObserver(function (mutations, observer) {{\n",
       "        var display = window.getComputedStyle(gd).display;\n",
       "        if (!display || display === 'none') {{\n",
       "            console.log([gd, 'removed!']);\n",
       "            Plotly.purge(gd);\n",
       "            observer.disconnect();\n",
       "        }}\n",
       "}});\n",
       "\n",
       "// Listen for the removal of the full notebook cells\n",
       "var notebookContainer = gd.closest('#notebook-container');\n",
       "if (notebookContainer) {{\n",
       "    x.observe(notebookContainer, {childList: true});\n",
       "}}\n",
       "\n",
       "// Listen for the clearing of the current output cell\n",
       "var outputEl = gd.closest('.output');\n",
       "if (outputEl) {{\n",
       "    x.observe(outputEl, {childList: true});\n",
       "}}\n",
       "\n",
       "                        })                };                });            </script>        </div>"
      ]
     },
     "metadata": {},
     "output_type": "display_data"
    }
   ],
   "source": [
    "# stress and productivity were defaulted to 3 and so that may be why there are NAs\n",
    "# distribution of productivity for each participant with stress as x axis and count as y axis\n",
    "fig = px.histogram(daily, x=\"productivity\", color=\"pid\",\n",
    "                labels={\n",
    "                    \"productivity\": \"Productivity\",\n",
    "                    \"pid\": \"Participants\"\n",
    "                })\n",
    "fig.show()"
   ]
  },
  {
   "cell_type": "code",
   "execution_count": 102,
   "metadata": {},
   "outputs": [
    {
     "data": {
      "application/vnd.plotly.v1+json": {
       "config": {
        "plotlyServerURL": "https://plot.ly"
       },
       "data": [
        {
         "alignmentgroup": "True",
         "bingroup": "x",
         "hovertemplate": "Participants=edr<br>Mood=%{x}<br>count=%{y}<extra></extra>",
         "legendgroup": "edr",
         "marker": {
          "color": "#636efa",
          "pattern": {
           "shape": ""
          }
         },
         "name": "edr",
         "offsetgroup": "edr",
         "orientation": "v",
         "showlegend": true,
         "type": "histogram",
         "x": [
          5,
          6,
          null,
          6,
          6,
          3,
          3,
          6,
          7,
          6,
          6,
          5,
          null,
          6,
          5,
          6,
          6,
          6,
          4,
          6,
          3,
          6,
          6,
          5,
          3,
          null,
          5,
          5,
          5,
          null,
          null,
          5,
          5,
          5,
          5,
          5,
          5,
          null,
          2,
          5,
          null,
          5,
          5,
          5,
          5
         ],
         "xaxis": "x",
         "yaxis": "y"
        },
        {
         "alignmentgroup": "True",
         "bingroup": "x",
         "hovertemplate": "Participants=egl<br>Mood=%{x}<br>count=%{y}<extra></extra>",
         "legendgroup": "egl",
         "marker": {
          "color": "#EF553B",
          "pattern": {
           "shape": ""
          }
         },
         "name": "egl",
         "offsetgroup": "egl",
         "orientation": "v",
         "showlegend": true,
         "type": "histogram",
         "x": [
          5,
          null,
          5,
          6,
          null,
          5,
          null,
          null,
          5,
          4,
          4,
          3,
          6,
          6,
          5,
          5,
          5,
          4,
          4,
          4,
          5,
          5,
          5,
          3,
          5,
          5,
          4,
          4,
          4,
          4,
          4,
          4,
          4,
          5,
          5,
          4,
          4,
          4,
          4,
          4,
          4,
          4,
          5,
          4,
          3,
          4,
          4,
          4,
          4,
          3,
          4,
          null
         ],
         "xaxis": "x",
         "yaxis": "y"
        },
        {
         "alignmentgroup": "True",
         "bingroup": "x",
         "hovertemplate": "Participants=uja<br>Mood=%{x}<br>count=%{y}<extra></extra>",
         "legendgroup": "uja",
         "marker": {
          "color": "#00cc96",
          "pattern": {
           "shape": ""
          }
         },
         "name": "uja",
         "offsetgroup": "uja",
         "orientation": "v",
         "showlegend": true,
         "type": "histogram",
         "x": [
          3,
          3,
          4,
          6,
          5,
          6,
          3,
          6,
          6,
          6,
          4,
          null,
          6,
          5,
          5,
          6,
          6,
          6,
          5,
          6,
          6,
          6,
          6,
          3,
          3,
          6,
          5,
          6,
          4,
          5,
          6,
          6,
          5,
          6,
          4,
          5,
          6,
          6,
          5,
          5,
          4,
          5,
          5,
          3,
          5,
          6,
          null,
          6
         ],
         "xaxis": "x",
         "yaxis": "y"
        },
        {
         "alignmentgroup": "True",
         "bingroup": "x",
         "hovertemplate": "Participants=j02<br>Mood=%{x}<br>count=%{y}<extra></extra>",
         "legendgroup": "j02",
         "marker": {
          "color": "#ab63fa",
          "pattern": {
           "shape": ""
          }
         },
         "name": "j02",
         "offsetgroup": "j02",
         "orientation": "v",
         "showlegend": true,
         "type": "histogram",
         "x": [
          2,
          1,
          3,
          5,
          5,
          5,
          5,
          4,
          5,
          3,
          3,
          2,
          5,
          5,
          4,
          4,
          5,
          3,
          3,
          4,
          3,
          3,
          4,
          null,
          3,
          4,
          2,
          4,
          4,
          1,
          2,
          4,
          null,
          null,
          2,
          3
         ],
         "xaxis": "x",
         "yaxis": "y"
        },
        {
         "alignmentgroup": "True",
         "bingroup": "x",
         "hovertemplate": "Participants=oyb<br>Mood=%{x}<br>count=%{y}<extra></extra>",
         "legendgroup": "oyb",
         "marker": {
          "color": "#FFA15A",
          "pattern": {
           "shape": ""
          }
         },
         "name": "oyb",
         "offsetgroup": "oyb",
         "orientation": "v",
         "showlegend": true,
         "type": "histogram",
         "x": [
          null,
          6,
          6,
          3,
          6,
          5,
          3,
          3,
          null,
          3,
          7,
          7,
          6,
          4,
          6,
          7,
          6,
          5,
          6,
          6,
          6,
          6,
          null,
          6,
          5,
          6,
          5,
          null,
          5,
          6,
          2,
          null,
          null,
          3,
          5,
          null,
          null,
          5,
          5,
          null,
          5,
          2,
          5,
          6
         ],
         "xaxis": "x",
         "yaxis": "y"
        },
        {
         "alignmentgroup": "True",
         "bingroup": "x",
         "hovertemplate": "Participants=lpz<br>Mood=%{x}<br>count=%{y}<extra></extra>",
         "legendgroup": "lpz",
         "marker": {
          "color": "#19d3f3",
          "pattern": {
           "shape": ""
          }
         },
         "name": "lpz",
         "offsetgroup": "lpz",
         "orientation": "v",
         "showlegend": true,
         "type": "histogram",
         "x": [
          6,
          5,
          4,
          5,
          5,
          5,
          5,
          4,
          6,
          5,
          5,
          6,
          5,
          6,
          5,
          5,
          5,
          5,
          5,
          5,
          4,
          4,
          4,
          4,
          4,
          4,
          5,
          6,
          5,
          4,
          4,
          4,
          4,
          4,
          4,
          4,
          4,
          5,
          5,
          4,
          4,
          3,
          5,
          4,
          4,
          3,
          4,
          4,
          4,
          4,
          4,
          4,
          3,
          3,
          4,
          4,
          3,
          3
         ],
         "xaxis": "x",
         "yaxis": "y"
        },
        {
         "alignmentgroup": "True",
         "bingroup": "x",
         "hovertemplate": "Participants=heh<br>Mood=%{x}<br>count=%{y}<extra></extra>",
         "legendgroup": "heh",
         "marker": {
          "color": "#FF6692",
          "pattern": {
           "shape": ""
          }
         },
         "name": "heh",
         "offsetgroup": "heh",
         "orientation": "v",
         "showlegend": true,
         "type": "histogram",
         "x": [
          3,
          5,
          7,
          2,
          5,
          4,
          5,
          6,
          2,
          1,
          5,
          2,
          3,
          2,
          4,
          3,
          6,
          5,
          5,
          4,
          3,
          3,
          1,
          1,
          1,
          2,
          6,
          4,
          4,
          4,
          3,
          5,
          2,
          2,
          3,
          1,
          4,
          2,
          2,
          3,
          5,
          5,
          2,
          2,
          3,
          2,
          1,
          4,
          4,
          5,
          3,
          5,
          3,
          3,
          1,
          1,
          1,
          5,
          6
         ],
         "xaxis": "x",
         "yaxis": "y"
        },
        {
         "alignmentgroup": "True",
         "bingroup": "x",
         "hovertemplate": "Participants=mr1<br>Mood=%{x}<br>count=%{y}<extra></extra>",
         "legendgroup": "mr1",
         "marker": {
          "color": "#FF97FF",
          "pattern": {
           "shape": ""
          }
         },
         "name": "mr1",
         "offsetgroup": "mr1",
         "orientation": "v",
         "showlegend": true,
         "type": "histogram",
         "x": [
          5,
          5,
          null,
          null,
          null,
          null,
          null,
          null,
          null,
          null,
          null,
          null,
          null,
          null,
          null,
          null,
          null,
          null,
          null,
          null,
          null,
          null,
          null,
          null,
          null,
          null,
          null,
          null,
          null,
          null,
          null,
          null,
          null,
          null,
          null,
          null,
          null,
          null,
          null,
          null,
          null,
          null,
          1,
          2
         ],
         "xaxis": "x",
         "yaxis": "y"
        },
        {
         "alignmentgroup": "True",
         "bingroup": "x",
         "hovertemplate": "Participants=xil<br>Mood=%{x}<br>count=%{y}<extra></extra>",
         "legendgroup": "xil",
         "marker": {
          "color": "#FECB52",
          "pattern": {
           "shape": ""
          }
         },
         "name": "xil",
         "offsetgroup": "xil",
         "orientation": "v",
         "showlegend": true,
         "type": "histogram",
         "x": [
          5,
          3,
          6,
          3,
          5,
          6,
          null,
          6,
          6,
          5,
          6,
          6,
          6,
          5,
          5,
          6,
          5,
          6,
          5,
          5,
          5,
          4,
          5,
          6,
          7,
          null,
          7,
          5,
          5,
          null,
          3,
          5,
          6,
          7,
          6,
          4,
          5,
          6,
          6,
          7,
          6,
          5,
          6
         ],
         "xaxis": "x",
         "yaxis": "y"
        },
        {
         "alignmentgroup": "True",
         "bingroup": "x",
         "hovertemplate": "Participants=pgm<br>Mood=%{x}<br>count=%{y}<extra></extra>",
         "legendgroup": "pgm",
         "marker": {
          "color": "#636efa",
          "pattern": {
           "shape": ""
          }
         },
         "name": "pgm",
         "offsetgroup": "pgm",
         "orientation": "v",
         "showlegend": true,
         "type": "histogram",
         "x": [
          5,
          null,
          6,
          5,
          6,
          5,
          6,
          6,
          3,
          5,
          null,
          3,
          3,
          null,
          3,
          null,
          4,
          3,
          null,
          3,
          5,
          3,
          null,
          3,
          3,
          5,
          6,
          5,
          3,
          5,
          5,
          null,
          3,
          5,
          2
         ],
         "xaxis": "x",
         "yaxis": "y"
        },
        {
         "alignmentgroup": "True",
         "bingroup": "x",
         "hovertemplate": "Participants=h9u<br>Mood=%{x}<br>count=%{y}<extra></extra>",
         "legendgroup": "h9u",
         "marker": {
          "color": "#EF553B",
          "pattern": {
           "shape": ""
          }
         },
         "name": "h9u",
         "offsetgroup": "h9u",
         "orientation": "v",
         "showlegend": true,
         "type": "histogram",
         "x": [
          4,
          3,
          4,
          3,
          6,
          null,
          5,
          null,
          null,
          3,
          3,
          null,
          null,
          5,
          6,
          6,
          5,
          5,
          5,
          5,
          null,
          3,
          6,
          5,
          5,
          3,
          2,
          1,
          1,
          2,
          2,
          3,
          3,
          null,
          5,
          5,
          null,
          5,
          4,
          4,
          null,
          null,
          5,
          null,
          null,
          null,
          null,
          5,
          null,
          4,
          5,
          null,
          null,
          3,
          null,
          3,
          null,
          3,
          5
         ],
         "xaxis": "x",
         "yaxis": "y"
        },
        {
         "alignmentgroup": "True",
         "bingroup": "x",
         "hovertemplate": "Participants=ssg<br>Mood=%{x}<br>count=%{y}<extra></extra>",
         "legendgroup": "ssg",
         "marker": {
          "color": "#00cc96",
          "pattern": {
           "shape": ""
          }
         },
         "name": "ssg",
         "offsetgroup": "ssg",
         "orientation": "v",
         "showlegend": true,
         "type": "histogram",
         "x": [
          6,
          6,
          7,
          4,
          2,
          6,
          6,
          7,
          6,
          6,
          2,
          2,
          5,
          2,
          6,
          5,
          6,
          6,
          6,
          6,
          6,
          7,
          2,
          3,
          2,
          6,
          6,
          5,
          7,
          7,
          6,
          7,
          6,
          2,
          3,
          5,
          6,
          6,
          5,
          3,
          3,
          6
         ],
         "xaxis": "x",
         "yaxis": "y"
        },
        {
         "alignmentgroup": "True",
         "bingroup": "x",
         "hovertemplate": "Participants=vxx<br>Mood=%{x}<br>count=%{y}<extra></extra>",
         "legendgroup": "vxx",
         "marker": {
          "color": "#ab63fa",
          "pattern": {
           "shape": ""
          }
         },
         "name": "vxx",
         "offsetgroup": "vxx",
         "orientation": "v",
         "showlegend": true,
         "type": "histogram",
         "x": [
          6,
          6,
          6,
          6,
          6,
          6,
          6,
          6,
          6,
          6,
          6,
          6,
          5,
          7,
          7,
          3,
          6,
          null,
          3,
          5,
          3,
          6,
          null,
          5,
          5,
          6,
          6,
          5,
          null,
          5,
          null,
          5,
          5,
          5,
          5,
          5,
          5,
          5,
          6,
          6,
          6,
          null,
          6,
          5,
          5,
          6,
          5,
          5,
          null,
          5
         ],
         "xaxis": "x",
         "yaxis": "y"
        }
       ],
       "layout": {
        "barmode": "relative",
        "legend": {
         "title": {
          "text": "Participants"
         },
         "tracegroupgap": 0
        },
        "margin": {
         "t": 60
        },
        "template": {
         "data": {
          "bar": [
           {
            "error_x": {
             "color": "#2a3f5f"
            },
            "error_y": {
             "color": "#2a3f5f"
            },
            "marker": {
             "line": {
              "color": "#E5ECF6",
              "width": 0.5
             },
             "pattern": {
              "fillmode": "overlay",
              "size": 10,
              "solidity": 0.2
             }
            },
            "type": "bar"
           }
          ],
          "barpolar": [
           {
            "marker": {
             "line": {
              "color": "#E5ECF6",
              "width": 0.5
             },
             "pattern": {
              "fillmode": "overlay",
              "size": 10,
              "solidity": 0.2
             }
            },
            "type": "barpolar"
           }
          ],
          "carpet": [
           {
            "aaxis": {
             "endlinecolor": "#2a3f5f",
             "gridcolor": "white",
             "linecolor": "white",
             "minorgridcolor": "white",
             "startlinecolor": "#2a3f5f"
            },
            "baxis": {
             "endlinecolor": "#2a3f5f",
             "gridcolor": "white",
             "linecolor": "white",
             "minorgridcolor": "white",
             "startlinecolor": "#2a3f5f"
            },
            "type": "carpet"
           }
          ],
          "choropleth": [
           {
            "colorbar": {
             "outlinewidth": 0,
             "ticks": ""
            },
            "type": "choropleth"
           }
          ],
          "contour": [
           {
            "colorbar": {
             "outlinewidth": 0,
             "ticks": ""
            },
            "colorscale": [
             [
              0,
              "#0d0887"
             ],
             [
              0.1111111111111111,
              "#46039f"
             ],
             [
              0.2222222222222222,
              "#7201a8"
             ],
             [
              0.3333333333333333,
              "#9c179e"
             ],
             [
              0.4444444444444444,
              "#bd3786"
             ],
             [
              0.5555555555555556,
              "#d8576b"
             ],
             [
              0.6666666666666666,
              "#ed7953"
             ],
             [
              0.7777777777777778,
              "#fb9f3a"
             ],
             [
              0.8888888888888888,
              "#fdca26"
             ],
             [
              1,
              "#f0f921"
             ]
            ],
            "type": "contour"
           }
          ],
          "contourcarpet": [
           {
            "colorbar": {
             "outlinewidth": 0,
             "ticks": ""
            },
            "type": "contourcarpet"
           }
          ],
          "heatmap": [
           {
            "colorbar": {
             "outlinewidth": 0,
             "ticks": ""
            },
            "colorscale": [
             [
              0,
              "#0d0887"
             ],
             [
              0.1111111111111111,
              "#46039f"
             ],
             [
              0.2222222222222222,
              "#7201a8"
             ],
             [
              0.3333333333333333,
              "#9c179e"
             ],
             [
              0.4444444444444444,
              "#bd3786"
             ],
             [
              0.5555555555555556,
              "#d8576b"
             ],
             [
              0.6666666666666666,
              "#ed7953"
             ],
             [
              0.7777777777777778,
              "#fb9f3a"
             ],
             [
              0.8888888888888888,
              "#fdca26"
             ],
             [
              1,
              "#f0f921"
             ]
            ],
            "type": "heatmap"
           }
          ],
          "heatmapgl": [
           {
            "colorbar": {
             "outlinewidth": 0,
             "ticks": ""
            },
            "colorscale": [
             [
              0,
              "#0d0887"
             ],
             [
              0.1111111111111111,
              "#46039f"
             ],
             [
              0.2222222222222222,
              "#7201a8"
             ],
             [
              0.3333333333333333,
              "#9c179e"
             ],
             [
              0.4444444444444444,
              "#bd3786"
             ],
             [
              0.5555555555555556,
              "#d8576b"
             ],
             [
              0.6666666666666666,
              "#ed7953"
             ],
             [
              0.7777777777777778,
              "#fb9f3a"
             ],
             [
              0.8888888888888888,
              "#fdca26"
             ],
             [
              1,
              "#f0f921"
             ]
            ],
            "type": "heatmapgl"
           }
          ],
          "histogram": [
           {
            "marker": {
             "pattern": {
              "fillmode": "overlay",
              "size": 10,
              "solidity": 0.2
             }
            },
            "type": "histogram"
           }
          ],
          "histogram2d": [
           {
            "colorbar": {
             "outlinewidth": 0,
             "ticks": ""
            },
            "colorscale": [
             [
              0,
              "#0d0887"
             ],
             [
              0.1111111111111111,
              "#46039f"
             ],
             [
              0.2222222222222222,
              "#7201a8"
             ],
             [
              0.3333333333333333,
              "#9c179e"
             ],
             [
              0.4444444444444444,
              "#bd3786"
             ],
             [
              0.5555555555555556,
              "#d8576b"
             ],
             [
              0.6666666666666666,
              "#ed7953"
             ],
             [
              0.7777777777777778,
              "#fb9f3a"
             ],
             [
              0.8888888888888888,
              "#fdca26"
             ],
             [
              1,
              "#f0f921"
             ]
            ],
            "type": "histogram2d"
           }
          ],
          "histogram2dcontour": [
           {
            "colorbar": {
             "outlinewidth": 0,
             "ticks": ""
            },
            "colorscale": [
             [
              0,
              "#0d0887"
             ],
             [
              0.1111111111111111,
              "#46039f"
             ],
             [
              0.2222222222222222,
              "#7201a8"
             ],
             [
              0.3333333333333333,
              "#9c179e"
             ],
             [
              0.4444444444444444,
              "#bd3786"
             ],
             [
              0.5555555555555556,
              "#d8576b"
             ],
             [
              0.6666666666666666,
              "#ed7953"
             ],
             [
              0.7777777777777778,
              "#fb9f3a"
             ],
             [
              0.8888888888888888,
              "#fdca26"
             ],
             [
              1,
              "#f0f921"
             ]
            ],
            "type": "histogram2dcontour"
           }
          ],
          "mesh3d": [
           {
            "colorbar": {
             "outlinewidth": 0,
             "ticks": ""
            },
            "type": "mesh3d"
           }
          ],
          "parcoords": [
           {
            "line": {
             "colorbar": {
              "outlinewidth": 0,
              "ticks": ""
             }
            },
            "type": "parcoords"
           }
          ],
          "pie": [
           {
            "automargin": true,
            "type": "pie"
           }
          ],
          "scatter": [
           {
            "fillpattern": {
             "fillmode": "overlay",
             "size": 10,
             "solidity": 0.2
            },
            "type": "scatter"
           }
          ],
          "scatter3d": [
           {
            "line": {
             "colorbar": {
              "outlinewidth": 0,
              "ticks": ""
             }
            },
            "marker": {
             "colorbar": {
              "outlinewidth": 0,
              "ticks": ""
             }
            },
            "type": "scatter3d"
           }
          ],
          "scattercarpet": [
           {
            "marker": {
             "colorbar": {
              "outlinewidth": 0,
              "ticks": ""
             }
            },
            "type": "scattercarpet"
           }
          ],
          "scattergeo": [
           {
            "marker": {
             "colorbar": {
              "outlinewidth": 0,
              "ticks": ""
             }
            },
            "type": "scattergeo"
           }
          ],
          "scattergl": [
           {
            "marker": {
             "colorbar": {
              "outlinewidth": 0,
              "ticks": ""
             }
            },
            "type": "scattergl"
           }
          ],
          "scattermapbox": [
           {
            "marker": {
             "colorbar": {
              "outlinewidth": 0,
              "ticks": ""
             }
            },
            "type": "scattermapbox"
           }
          ],
          "scatterpolar": [
           {
            "marker": {
             "colorbar": {
              "outlinewidth": 0,
              "ticks": ""
             }
            },
            "type": "scatterpolar"
           }
          ],
          "scatterpolargl": [
           {
            "marker": {
             "colorbar": {
              "outlinewidth": 0,
              "ticks": ""
             }
            },
            "type": "scatterpolargl"
           }
          ],
          "scatterternary": [
           {
            "marker": {
             "colorbar": {
              "outlinewidth": 0,
              "ticks": ""
             }
            },
            "type": "scatterternary"
           }
          ],
          "surface": [
           {
            "colorbar": {
             "outlinewidth": 0,
             "ticks": ""
            },
            "colorscale": [
             [
              0,
              "#0d0887"
             ],
             [
              0.1111111111111111,
              "#46039f"
             ],
             [
              0.2222222222222222,
              "#7201a8"
             ],
             [
              0.3333333333333333,
              "#9c179e"
             ],
             [
              0.4444444444444444,
              "#bd3786"
             ],
             [
              0.5555555555555556,
              "#d8576b"
             ],
             [
              0.6666666666666666,
              "#ed7953"
             ],
             [
              0.7777777777777778,
              "#fb9f3a"
             ],
             [
              0.8888888888888888,
              "#fdca26"
             ],
             [
              1,
              "#f0f921"
             ]
            ],
            "type": "surface"
           }
          ],
          "table": [
           {
            "cells": {
             "fill": {
              "color": "#EBF0F8"
             },
             "line": {
              "color": "white"
             }
            },
            "header": {
             "fill": {
              "color": "#C8D4E3"
             },
             "line": {
              "color": "white"
             }
            },
            "type": "table"
           }
          ]
         },
         "layout": {
          "annotationdefaults": {
           "arrowcolor": "#2a3f5f",
           "arrowhead": 0,
           "arrowwidth": 1
          },
          "autotypenumbers": "strict",
          "coloraxis": {
           "colorbar": {
            "outlinewidth": 0,
            "ticks": ""
           }
          },
          "colorscale": {
           "diverging": [
            [
             0,
             "#8e0152"
            ],
            [
             0.1,
             "#c51b7d"
            ],
            [
             0.2,
             "#de77ae"
            ],
            [
             0.3,
             "#f1b6da"
            ],
            [
             0.4,
             "#fde0ef"
            ],
            [
             0.5,
             "#f7f7f7"
            ],
            [
             0.6,
             "#e6f5d0"
            ],
            [
             0.7,
             "#b8e186"
            ],
            [
             0.8,
             "#7fbc41"
            ],
            [
             0.9,
             "#4d9221"
            ],
            [
             1,
             "#276419"
            ]
           ],
           "sequential": [
            [
             0,
             "#0d0887"
            ],
            [
             0.1111111111111111,
             "#46039f"
            ],
            [
             0.2222222222222222,
             "#7201a8"
            ],
            [
             0.3333333333333333,
             "#9c179e"
            ],
            [
             0.4444444444444444,
             "#bd3786"
            ],
            [
             0.5555555555555556,
             "#d8576b"
            ],
            [
             0.6666666666666666,
             "#ed7953"
            ],
            [
             0.7777777777777778,
             "#fb9f3a"
            ],
            [
             0.8888888888888888,
             "#fdca26"
            ],
            [
             1,
             "#f0f921"
            ]
           ],
           "sequentialminus": [
            [
             0,
             "#0d0887"
            ],
            [
             0.1111111111111111,
             "#46039f"
            ],
            [
             0.2222222222222222,
             "#7201a8"
            ],
            [
             0.3333333333333333,
             "#9c179e"
            ],
            [
             0.4444444444444444,
             "#bd3786"
            ],
            [
             0.5555555555555556,
             "#d8576b"
            ],
            [
             0.6666666666666666,
             "#ed7953"
            ],
            [
             0.7777777777777778,
             "#fb9f3a"
            ],
            [
             0.8888888888888888,
             "#fdca26"
            ],
            [
             1,
             "#f0f921"
            ]
           ]
          },
          "colorway": [
           "#636efa",
           "#EF553B",
           "#00cc96",
           "#ab63fa",
           "#FFA15A",
           "#19d3f3",
           "#FF6692",
           "#B6E880",
           "#FF97FF",
           "#FECB52"
          ],
          "font": {
           "color": "#2a3f5f"
          },
          "geo": {
           "bgcolor": "white",
           "lakecolor": "white",
           "landcolor": "#E5ECF6",
           "showlakes": true,
           "showland": true,
           "subunitcolor": "white"
          },
          "hoverlabel": {
           "align": "left"
          },
          "hovermode": "closest",
          "mapbox": {
           "style": "light"
          },
          "paper_bgcolor": "white",
          "plot_bgcolor": "#E5ECF6",
          "polar": {
           "angularaxis": {
            "gridcolor": "white",
            "linecolor": "white",
            "ticks": ""
           },
           "bgcolor": "#E5ECF6",
           "radialaxis": {
            "gridcolor": "white",
            "linecolor": "white",
            "ticks": ""
           }
          },
          "scene": {
           "xaxis": {
            "backgroundcolor": "#E5ECF6",
            "gridcolor": "white",
            "gridwidth": 2,
            "linecolor": "white",
            "showbackground": true,
            "ticks": "",
            "zerolinecolor": "white"
           },
           "yaxis": {
            "backgroundcolor": "#E5ECF6",
            "gridcolor": "white",
            "gridwidth": 2,
            "linecolor": "white",
            "showbackground": true,
            "ticks": "",
            "zerolinecolor": "white"
           },
           "zaxis": {
            "backgroundcolor": "#E5ECF6",
            "gridcolor": "white",
            "gridwidth": 2,
            "linecolor": "white",
            "showbackground": true,
            "ticks": "",
            "zerolinecolor": "white"
           }
          },
          "shapedefaults": {
           "line": {
            "color": "#2a3f5f"
           }
          },
          "ternary": {
           "aaxis": {
            "gridcolor": "white",
            "linecolor": "white",
            "ticks": ""
           },
           "baxis": {
            "gridcolor": "white",
            "linecolor": "white",
            "ticks": ""
           },
           "bgcolor": "#E5ECF6",
           "caxis": {
            "gridcolor": "white",
            "linecolor": "white",
            "ticks": ""
           }
          },
          "title": {
           "x": 0.05
          },
          "xaxis": {
           "automargin": true,
           "gridcolor": "white",
           "linecolor": "white",
           "ticks": "",
           "title": {
            "standoff": 15
           },
           "zerolinecolor": "white",
           "zerolinewidth": 2
          },
          "yaxis": {
           "automargin": true,
           "gridcolor": "white",
           "linecolor": "white",
           "ticks": "",
           "title": {
            "standoff": 15
           },
           "zerolinecolor": "white",
           "zerolinewidth": 2
          }
         }
        },
        "xaxis": {
         "anchor": "y",
         "domain": [
          0,
          1
         ],
         "title": {
          "text": "Mood"
         }
        },
        "yaxis": {
         "anchor": "x",
         "domain": [
          0,
          1
         ],
         "title": {
          "text": "count"
         }
        }
       }
      },
      "text/html": [
       "<div>                            <div id=\"6868699b-5869-4c2b-bff2-cf4acf1a305d\" class=\"plotly-graph-div\" style=\"height:525px; width:100%;\"></div>            <script type=\"text/javascript\">                require([\"plotly\"], function(Plotly) {                    window.PLOTLYENV=window.PLOTLYENV || {};                                    if (document.getElementById(\"6868699b-5869-4c2b-bff2-cf4acf1a305d\")) {                    Plotly.newPlot(                        \"6868699b-5869-4c2b-bff2-cf4acf1a305d\",                        [{\"alignmentgroup\":\"True\",\"bingroup\":\"x\",\"hovertemplate\":\"Participants=edr<br>Mood=%{x}<br>count=%{y}<extra></extra>\",\"legendgroup\":\"edr\",\"marker\":{\"color\":\"#636efa\",\"pattern\":{\"shape\":\"\"}},\"name\":\"edr\",\"offsetgroup\":\"edr\",\"orientation\":\"v\",\"showlegend\":true,\"x\":[5.0,6.0,null,6.0,6.0,3.0,3.0,6.0,7.0,6.0,6.0,5.0,null,6.0,5.0,6.0,6.0,6.0,4.0,6.0,3.0,6.0,6.0,5.0,3.0,null,5.0,5.0,5.0,null,null,5.0,5.0,5.0,5.0,5.0,5.0,null,2.0,5.0,null,5.0,5.0,5.0,5.0],\"xaxis\":\"x\",\"yaxis\":\"y\",\"type\":\"histogram\"},{\"alignmentgroup\":\"True\",\"bingroup\":\"x\",\"hovertemplate\":\"Participants=egl<br>Mood=%{x}<br>count=%{y}<extra></extra>\",\"legendgroup\":\"egl\",\"marker\":{\"color\":\"#EF553B\",\"pattern\":{\"shape\":\"\"}},\"name\":\"egl\",\"offsetgroup\":\"egl\",\"orientation\":\"v\",\"showlegend\":true,\"x\":[5.0,null,5.0,6.0,null,5.0,null,null,5.0,4.0,4.0,3.0,6.0,6.0,5.0,5.0,5.0,4.0,4.0,4.0,5.0,5.0,5.0,3.0,5.0,5.0,4.0,4.0,4.0,4.0,4.0,4.0,4.0,5.0,5.0,4.0,4.0,4.0,4.0,4.0,4.0,4.0,5.0,4.0,3.0,4.0,4.0,4.0,4.0,3.0,4.0,null],\"xaxis\":\"x\",\"yaxis\":\"y\",\"type\":\"histogram\"},{\"alignmentgroup\":\"True\",\"bingroup\":\"x\",\"hovertemplate\":\"Participants=uja<br>Mood=%{x}<br>count=%{y}<extra></extra>\",\"legendgroup\":\"uja\",\"marker\":{\"color\":\"#00cc96\",\"pattern\":{\"shape\":\"\"}},\"name\":\"uja\",\"offsetgroup\":\"uja\",\"orientation\":\"v\",\"showlegend\":true,\"x\":[3.0,3.0,4.0,6.0,5.0,6.0,3.0,6.0,6.0,6.0,4.0,null,6.0,5.0,5.0,6.0,6.0,6.0,5.0,6.0,6.0,6.0,6.0,3.0,3.0,6.0,5.0,6.0,4.0,5.0,6.0,6.0,5.0,6.0,4.0,5.0,6.0,6.0,5.0,5.0,4.0,5.0,5.0,3.0,5.0,6.0,null,6.0],\"xaxis\":\"x\",\"yaxis\":\"y\",\"type\":\"histogram\"},{\"alignmentgroup\":\"True\",\"bingroup\":\"x\",\"hovertemplate\":\"Participants=j02<br>Mood=%{x}<br>count=%{y}<extra></extra>\",\"legendgroup\":\"j02\",\"marker\":{\"color\":\"#ab63fa\",\"pattern\":{\"shape\":\"\"}},\"name\":\"j02\",\"offsetgroup\":\"j02\",\"orientation\":\"v\",\"showlegend\":true,\"x\":[2.0,1.0,3.0,5.0,5.0,5.0,5.0,4.0,5.0,3.0,3.0,2.0,5.0,5.0,4.0,4.0,5.0,3.0,3.0,4.0,3.0,3.0,4.0,null,3.0,4.0,2.0,4.0,4.0,1.0,2.0,4.0,null,null,2.0,3.0],\"xaxis\":\"x\",\"yaxis\":\"y\",\"type\":\"histogram\"},{\"alignmentgroup\":\"True\",\"bingroup\":\"x\",\"hovertemplate\":\"Participants=oyb<br>Mood=%{x}<br>count=%{y}<extra></extra>\",\"legendgroup\":\"oyb\",\"marker\":{\"color\":\"#FFA15A\",\"pattern\":{\"shape\":\"\"}},\"name\":\"oyb\",\"offsetgroup\":\"oyb\",\"orientation\":\"v\",\"showlegend\":true,\"x\":[null,6.0,6.0,3.0,6.0,5.0,3.0,3.0,null,3.0,7.0,7.0,6.0,4.0,6.0,7.0,6.0,5.0,6.0,6.0,6.0,6.0,null,6.0,5.0,6.0,5.0,null,5.0,6.0,2.0,null,null,3.0,5.0,null,null,5.0,5.0,null,5.0,2.0,5.0,6.0],\"xaxis\":\"x\",\"yaxis\":\"y\",\"type\":\"histogram\"},{\"alignmentgroup\":\"True\",\"bingroup\":\"x\",\"hovertemplate\":\"Participants=lpz<br>Mood=%{x}<br>count=%{y}<extra></extra>\",\"legendgroup\":\"lpz\",\"marker\":{\"color\":\"#19d3f3\",\"pattern\":{\"shape\":\"\"}},\"name\":\"lpz\",\"offsetgroup\":\"lpz\",\"orientation\":\"v\",\"showlegend\":true,\"x\":[6.0,5.0,4.0,5.0,5.0,5.0,5.0,4.0,6.0,5.0,5.0,6.0,5.0,6.0,5.0,5.0,5.0,5.0,5.0,5.0,4.0,4.0,4.0,4.0,4.0,4.0,5.0,6.0,5.0,4.0,4.0,4.0,4.0,4.0,4.0,4.0,4.0,5.0,5.0,4.0,4.0,3.0,5.0,4.0,4.0,3.0,4.0,4.0,4.0,4.0,4.0,4.0,3.0,3.0,4.0,4.0,3.0,3.0],\"xaxis\":\"x\",\"yaxis\":\"y\",\"type\":\"histogram\"},{\"alignmentgroup\":\"True\",\"bingroup\":\"x\",\"hovertemplate\":\"Participants=heh<br>Mood=%{x}<br>count=%{y}<extra></extra>\",\"legendgroup\":\"heh\",\"marker\":{\"color\":\"#FF6692\",\"pattern\":{\"shape\":\"\"}},\"name\":\"heh\",\"offsetgroup\":\"heh\",\"orientation\":\"v\",\"showlegend\":true,\"x\":[3.0,5.0,7.0,2.0,5.0,4.0,5.0,6.0,2.0,1.0,5.0,2.0,3.0,2.0,4.0,3.0,6.0,5.0,5.0,4.0,3.0,3.0,1.0,1.0,1.0,2.0,6.0,4.0,4.0,4.0,3.0,5.0,2.0,2.0,3.0,1.0,4.0,2.0,2.0,3.0,5.0,5.0,2.0,2.0,3.0,2.0,1.0,4.0,4.0,5.0,3.0,5.0,3.0,3.0,1.0,1.0,1.0,5.0,6.0],\"xaxis\":\"x\",\"yaxis\":\"y\",\"type\":\"histogram\"},{\"alignmentgroup\":\"True\",\"bingroup\":\"x\",\"hovertemplate\":\"Participants=mr1<br>Mood=%{x}<br>count=%{y}<extra></extra>\",\"legendgroup\":\"mr1\",\"marker\":{\"color\":\"#FF97FF\",\"pattern\":{\"shape\":\"\"}},\"name\":\"mr1\",\"offsetgroup\":\"mr1\",\"orientation\":\"v\",\"showlegend\":true,\"x\":[5.0,5.0,null,null,null,null,null,null,null,null,null,null,null,null,null,null,null,null,null,null,null,null,null,null,null,null,null,null,null,null,null,null,null,null,null,null,null,null,null,null,null,null,1.0,2.0],\"xaxis\":\"x\",\"yaxis\":\"y\",\"type\":\"histogram\"},{\"alignmentgroup\":\"True\",\"bingroup\":\"x\",\"hovertemplate\":\"Participants=xil<br>Mood=%{x}<br>count=%{y}<extra></extra>\",\"legendgroup\":\"xil\",\"marker\":{\"color\":\"#FECB52\",\"pattern\":{\"shape\":\"\"}},\"name\":\"xil\",\"offsetgroup\":\"xil\",\"orientation\":\"v\",\"showlegend\":true,\"x\":[5.0,3.0,6.0,3.0,5.0,6.0,null,6.0,6.0,5.0,6.0,6.0,6.0,5.0,5.0,6.0,5.0,6.0,5.0,5.0,5.0,4.0,5.0,6.0,7.0,null,7.0,5.0,5.0,null,3.0,5.0,6.0,7.0,6.0,4.0,5.0,6.0,6.0,7.0,6.0,5.0,6.0],\"xaxis\":\"x\",\"yaxis\":\"y\",\"type\":\"histogram\"},{\"alignmentgroup\":\"True\",\"bingroup\":\"x\",\"hovertemplate\":\"Participants=pgm<br>Mood=%{x}<br>count=%{y}<extra></extra>\",\"legendgroup\":\"pgm\",\"marker\":{\"color\":\"#636efa\",\"pattern\":{\"shape\":\"\"}},\"name\":\"pgm\",\"offsetgroup\":\"pgm\",\"orientation\":\"v\",\"showlegend\":true,\"x\":[5.0,null,6.0,5.0,6.0,5.0,6.0,6.0,3.0,5.0,null,3.0,3.0,null,3.0,null,4.0,3.0,null,3.0,5.0,3.0,null,3.0,3.0,5.0,6.0,5.0,3.0,5.0,5.0,null,3.0,5.0,2.0],\"xaxis\":\"x\",\"yaxis\":\"y\",\"type\":\"histogram\"},{\"alignmentgroup\":\"True\",\"bingroup\":\"x\",\"hovertemplate\":\"Participants=h9u<br>Mood=%{x}<br>count=%{y}<extra></extra>\",\"legendgroup\":\"h9u\",\"marker\":{\"color\":\"#EF553B\",\"pattern\":{\"shape\":\"\"}},\"name\":\"h9u\",\"offsetgroup\":\"h9u\",\"orientation\":\"v\",\"showlegend\":true,\"x\":[4.0,3.0,4.0,3.0,6.0,null,5.0,null,null,3.0,3.0,null,null,5.0,6.0,6.0,5.0,5.0,5.0,5.0,null,3.0,6.0,5.0,5.0,3.0,2.0,1.0,1.0,2.0,2.0,3.0,3.0,null,5.0,5.0,null,5.0,4.0,4.0,null,null,5.0,null,null,null,null,5.0,null,4.0,5.0,null,null,3.0,null,3.0,null,3.0,5.0],\"xaxis\":\"x\",\"yaxis\":\"y\",\"type\":\"histogram\"},{\"alignmentgroup\":\"True\",\"bingroup\":\"x\",\"hovertemplate\":\"Participants=ssg<br>Mood=%{x}<br>count=%{y}<extra></extra>\",\"legendgroup\":\"ssg\",\"marker\":{\"color\":\"#00cc96\",\"pattern\":{\"shape\":\"\"}},\"name\":\"ssg\",\"offsetgroup\":\"ssg\",\"orientation\":\"v\",\"showlegend\":true,\"x\":[6.0,6.0,7.0,4.0,2.0,6.0,6.0,7.0,6.0,6.0,2.0,2.0,5.0,2.0,6.0,5.0,6.0,6.0,6.0,6.0,6.0,7.0,2.0,3.0,2.0,6.0,6.0,5.0,7.0,7.0,6.0,7.0,6.0,2.0,3.0,5.0,6.0,6.0,5.0,3.0,3.0,6.0],\"xaxis\":\"x\",\"yaxis\":\"y\",\"type\":\"histogram\"},{\"alignmentgroup\":\"True\",\"bingroup\":\"x\",\"hovertemplate\":\"Participants=vxx<br>Mood=%{x}<br>count=%{y}<extra></extra>\",\"legendgroup\":\"vxx\",\"marker\":{\"color\":\"#ab63fa\",\"pattern\":{\"shape\":\"\"}},\"name\":\"vxx\",\"offsetgroup\":\"vxx\",\"orientation\":\"v\",\"showlegend\":true,\"x\":[6.0,6.0,6.0,6.0,6.0,6.0,6.0,6.0,6.0,6.0,6.0,6.0,5.0,7.0,7.0,3.0,6.0,null,3.0,5.0,3.0,6.0,null,5.0,5.0,6.0,6.0,5.0,null,5.0,null,5.0,5.0,5.0,5.0,5.0,5.0,5.0,6.0,6.0,6.0,null,6.0,5.0,5.0,6.0,5.0,5.0,null,5.0],\"xaxis\":\"x\",\"yaxis\":\"y\",\"type\":\"histogram\"}],                        {\"template\":{\"data\":{\"histogram2dcontour\":[{\"type\":\"histogram2dcontour\",\"colorbar\":{\"outlinewidth\":0,\"ticks\":\"\"},\"colorscale\":[[0.0,\"#0d0887\"],[0.1111111111111111,\"#46039f\"],[0.2222222222222222,\"#7201a8\"],[0.3333333333333333,\"#9c179e\"],[0.4444444444444444,\"#bd3786\"],[0.5555555555555556,\"#d8576b\"],[0.6666666666666666,\"#ed7953\"],[0.7777777777777778,\"#fb9f3a\"],[0.8888888888888888,\"#fdca26\"],[1.0,\"#f0f921\"]]}],\"choropleth\":[{\"type\":\"choropleth\",\"colorbar\":{\"outlinewidth\":0,\"ticks\":\"\"}}],\"histogram2d\":[{\"type\":\"histogram2d\",\"colorbar\":{\"outlinewidth\":0,\"ticks\":\"\"},\"colorscale\":[[0.0,\"#0d0887\"],[0.1111111111111111,\"#46039f\"],[0.2222222222222222,\"#7201a8\"],[0.3333333333333333,\"#9c179e\"],[0.4444444444444444,\"#bd3786\"],[0.5555555555555556,\"#d8576b\"],[0.6666666666666666,\"#ed7953\"],[0.7777777777777778,\"#fb9f3a\"],[0.8888888888888888,\"#fdca26\"],[1.0,\"#f0f921\"]]}],\"heatmap\":[{\"type\":\"heatmap\",\"colorbar\":{\"outlinewidth\":0,\"ticks\":\"\"},\"colorscale\":[[0.0,\"#0d0887\"],[0.1111111111111111,\"#46039f\"],[0.2222222222222222,\"#7201a8\"],[0.3333333333333333,\"#9c179e\"],[0.4444444444444444,\"#bd3786\"],[0.5555555555555556,\"#d8576b\"],[0.6666666666666666,\"#ed7953\"],[0.7777777777777778,\"#fb9f3a\"],[0.8888888888888888,\"#fdca26\"],[1.0,\"#f0f921\"]]}],\"heatmapgl\":[{\"type\":\"heatmapgl\",\"colorbar\":{\"outlinewidth\":0,\"ticks\":\"\"},\"colorscale\":[[0.0,\"#0d0887\"],[0.1111111111111111,\"#46039f\"],[0.2222222222222222,\"#7201a8\"],[0.3333333333333333,\"#9c179e\"],[0.4444444444444444,\"#bd3786\"],[0.5555555555555556,\"#d8576b\"],[0.6666666666666666,\"#ed7953\"],[0.7777777777777778,\"#fb9f3a\"],[0.8888888888888888,\"#fdca26\"],[1.0,\"#f0f921\"]]}],\"contourcarpet\":[{\"type\":\"contourcarpet\",\"colorbar\":{\"outlinewidth\":0,\"ticks\":\"\"}}],\"contour\":[{\"type\":\"contour\",\"colorbar\":{\"outlinewidth\":0,\"ticks\":\"\"},\"colorscale\":[[0.0,\"#0d0887\"],[0.1111111111111111,\"#46039f\"],[0.2222222222222222,\"#7201a8\"],[0.3333333333333333,\"#9c179e\"],[0.4444444444444444,\"#bd3786\"],[0.5555555555555556,\"#d8576b\"],[0.6666666666666666,\"#ed7953\"],[0.7777777777777778,\"#fb9f3a\"],[0.8888888888888888,\"#fdca26\"],[1.0,\"#f0f921\"]]}],\"surface\":[{\"type\":\"surface\",\"colorbar\":{\"outlinewidth\":0,\"ticks\":\"\"},\"colorscale\":[[0.0,\"#0d0887\"],[0.1111111111111111,\"#46039f\"],[0.2222222222222222,\"#7201a8\"],[0.3333333333333333,\"#9c179e\"],[0.4444444444444444,\"#bd3786\"],[0.5555555555555556,\"#d8576b\"],[0.6666666666666666,\"#ed7953\"],[0.7777777777777778,\"#fb9f3a\"],[0.8888888888888888,\"#fdca26\"],[1.0,\"#f0f921\"]]}],\"mesh3d\":[{\"type\":\"mesh3d\",\"colorbar\":{\"outlinewidth\":0,\"ticks\":\"\"}}],\"scatter\":[{\"fillpattern\":{\"fillmode\":\"overlay\",\"size\":10,\"solidity\":0.2},\"type\":\"scatter\"}],\"parcoords\":[{\"type\":\"parcoords\",\"line\":{\"colorbar\":{\"outlinewidth\":0,\"ticks\":\"\"}}}],\"scatterpolargl\":[{\"type\":\"scatterpolargl\",\"marker\":{\"colorbar\":{\"outlinewidth\":0,\"ticks\":\"\"}}}],\"bar\":[{\"error_x\":{\"color\":\"#2a3f5f\"},\"error_y\":{\"color\":\"#2a3f5f\"},\"marker\":{\"line\":{\"color\":\"#E5ECF6\",\"width\":0.5},\"pattern\":{\"fillmode\":\"overlay\",\"size\":10,\"solidity\":0.2}},\"type\":\"bar\"}],\"scattergeo\":[{\"type\":\"scattergeo\",\"marker\":{\"colorbar\":{\"outlinewidth\":0,\"ticks\":\"\"}}}],\"scatterpolar\":[{\"type\":\"scatterpolar\",\"marker\":{\"colorbar\":{\"outlinewidth\":0,\"ticks\":\"\"}}}],\"histogram\":[{\"marker\":{\"pattern\":{\"fillmode\":\"overlay\",\"size\":10,\"solidity\":0.2}},\"type\":\"histogram\"}],\"scattergl\":[{\"type\":\"scattergl\",\"marker\":{\"colorbar\":{\"outlinewidth\":0,\"ticks\":\"\"}}}],\"scatter3d\":[{\"type\":\"scatter3d\",\"line\":{\"colorbar\":{\"outlinewidth\":0,\"ticks\":\"\"}},\"marker\":{\"colorbar\":{\"outlinewidth\":0,\"ticks\":\"\"}}}],\"scattermapbox\":[{\"type\":\"scattermapbox\",\"marker\":{\"colorbar\":{\"outlinewidth\":0,\"ticks\":\"\"}}}],\"scatterternary\":[{\"type\":\"scatterternary\",\"marker\":{\"colorbar\":{\"outlinewidth\":0,\"ticks\":\"\"}}}],\"scattercarpet\":[{\"type\":\"scattercarpet\",\"marker\":{\"colorbar\":{\"outlinewidth\":0,\"ticks\":\"\"}}}],\"carpet\":[{\"aaxis\":{\"endlinecolor\":\"#2a3f5f\",\"gridcolor\":\"white\",\"linecolor\":\"white\",\"minorgridcolor\":\"white\",\"startlinecolor\":\"#2a3f5f\"},\"baxis\":{\"endlinecolor\":\"#2a3f5f\",\"gridcolor\":\"white\",\"linecolor\":\"white\",\"minorgridcolor\":\"white\",\"startlinecolor\":\"#2a3f5f\"},\"type\":\"carpet\"}],\"table\":[{\"cells\":{\"fill\":{\"color\":\"#EBF0F8\"},\"line\":{\"color\":\"white\"}},\"header\":{\"fill\":{\"color\":\"#C8D4E3\"},\"line\":{\"color\":\"white\"}},\"type\":\"table\"}],\"barpolar\":[{\"marker\":{\"line\":{\"color\":\"#E5ECF6\",\"width\":0.5},\"pattern\":{\"fillmode\":\"overlay\",\"size\":10,\"solidity\":0.2}},\"type\":\"barpolar\"}],\"pie\":[{\"automargin\":true,\"type\":\"pie\"}]},\"layout\":{\"autotypenumbers\":\"strict\",\"colorway\":[\"#636efa\",\"#EF553B\",\"#00cc96\",\"#ab63fa\",\"#FFA15A\",\"#19d3f3\",\"#FF6692\",\"#B6E880\",\"#FF97FF\",\"#FECB52\"],\"font\":{\"color\":\"#2a3f5f\"},\"hovermode\":\"closest\",\"hoverlabel\":{\"align\":\"left\"},\"paper_bgcolor\":\"white\",\"plot_bgcolor\":\"#E5ECF6\",\"polar\":{\"bgcolor\":\"#E5ECF6\",\"angularaxis\":{\"gridcolor\":\"white\",\"linecolor\":\"white\",\"ticks\":\"\"},\"radialaxis\":{\"gridcolor\":\"white\",\"linecolor\":\"white\",\"ticks\":\"\"}},\"ternary\":{\"bgcolor\":\"#E5ECF6\",\"aaxis\":{\"gridcolor\":\"white\",\"linecolor\":\"white\",\"ticks\":\"\"},\"baxis\":{\"gridcolor\":\"white\",\"linecolor\":\"white\",\"ticks\":\"\"},\"caxis\":{\"gridcolor\":\"white\",\"linecolor\":\"white\",\"ticks\":\"\"}},\"coloraxis\":{\"colorbar\":{\"outlinewidth\":0,\"ticks\":\"\"}},\"colorscale\":{\"sequential\":[[0.0,\"#0d0887\"],[0.1111111111111111,\"#46039f\"],[0.2222222222222222,\"#7201a8\"],[0.3333333333333333,\"#9c179e\"],[0.4444444444444444,\"#bd3786\"],[0.5555555555555556,\"#d8576b\"],[0.6666666666666666,\"#ed7953\"],[0.7777777777777778,\"#fb9f3a\"],[0.8888888888888888,\"#fdca26\"],[1.0,\"#f0f921\"]],\"sequentialminus\":[[0.0,\"#0d0887\"],[0.1111111111111111,\"#46039f\"],[0.2222222222222222,\"#7201a8\"],[0.3333333333333333,\"#9c179e\"],[0.4444444444444444,\"#bd3786\"],[0.5555555555555556,\"#d8576b\"],[0.6666666666666666,\"#ed7953\"],[0.7777777777777778,\"#fb9f3a\"],[0.8888888888888888,\"#fdca26\"],[1.0,\"#f0f921\"]],\"diverging\":[[0,\"#8e0152\"],[0.1,\"#c51b7d\"],[0.2,\"#de77ae\"],[0.3,\"#f1b6da\"],[0.4,\"#fde0ef\"],[0.5,\"#f7f7f7\"],[0.6,\"#e6f5d0\"],[0.7,\"#b8e186\"],[0.8,\"#7fbc41\"],[0.9,\"#4d9221\"],[1,\"#276419\"]]},\"xaxis\":{\"gridcolor\":\"white\",\"linecolor\":\"white\",\"ticks\":\"\",\"title\":{\"standoff\":15},\"zerolinecolor\":\"white\",\"automargin\":true,\"zerolinewidth\":2},\"yaxis\":{\"gridcolor\":\"white\",\"linecolor\":\"white\",\"ticks\":\"\",\"title\":{\"standoff\":15},\"zerolinecolor\":\"white\",\"automargin\":true,\"zerolinewidth\":2},\"scene\":{\"xaxis\":{\"backgroundcolor\":\"#E5ECF6\",\"gridcolor\":\"white\",\"linecolor\":\"white\",\"showbackground\":true,\"ticks\":\"\",\"zerolinecolor\":\"white\",\"gridwidth\":2},\"yaxis\":{\"backgroundcolor\":\"#E5ECF6\",\"gridcolor\":\"white\",\"linecolor\":\"white\",\"showbackground\":true,\"ticks\":\"\",\"zerolinecolor\":\"white\",\"gridwidth\":2},\"zaxis\":{\"backgroundcolor\":\"#E5ECF6\",\"gridcolor\":\"white\",\"linecolor\":\"white\",\"showbackground\":true,\"ticks\":\"\",\"zerolinecolor\":\"white\",\"gridwidth\":2}},\"shapedefaults\":{\"line\":{\"color\":\"#2a3f5f\"}},\"annotationdefaults\":{\"arrowcolor\":\"#2a3f5f\",\"arrowhead\":0,\"arrowwidth\":1},\"geo\":{\"bgcolor\":\"white\",\"landcolor\":\"#E5ECF6\",\"subunitcolor\":\"white\",\"showland\":true,\"showlakes\":true,\"lakecolor\":\"white\"},\"title\":{\"x\":0.05},\"mapbox\":{\"style\":\"light\"}}},\"xaxis\":{\"anchor\":\"y\",\"domain\":[0.0,1.0],\"title\":{\"text\":\"Mood\"}},\"yaxis\":{\"anchor\":\"x\",\"domain\":[0.0,1.0],\"title\":{\"text\":\"count\"}},\"legend\":{\"title\":{\"text\":\"Participants\"},\"tracegroupgap\":0},\"margin\":{\"t\":60},\"barmode\":\"relative\"},                        {\"responsive\": true}                    ).then(function(){\n",
       "                            \n",
       "var gd = document.getElementById('6868699b-5869-4c2b-bff2-cf4acf1a305d');\n",
       "var x = new MutationObserver(function (mutations, observer) {{\n",
       "        var display = window.getComputedStyle(gd).display;\n",
       "        if (!display || display === 'none') {{\n",
       "            console.log([gd, 'removed!']);\n",
       "            Plotly.purge(gd);\n",
       "            observer.disconnect();\n",
       "        }}\n",
       "}});\n",
       "\n",
       "// Listen for the removal of the full notebook cells\n",
       "var notebookContainer = gd.closest('#notebook-container');\n",
       "if (notebookContainer) {{\n",
       "    x.observe(notebookContainer, {childList: true});\n",
       "}}\n",
       "\n",
       "// Listen for the clearing of the current output cell\n",
       "var outputEl = gd.closest('.output');\n",
       "if (outputEl) {{\n",
       "    x.observe(outputEl, {childList: true});\n",
       "}}\n",
       "\n",
       "                        })                };                });            </script>        </div>"
      ]
     },
     "metadata": {},
     "output_type": "display_data"
    }
   ],
   "source": [
    "# Q27_1\n",
    "fig = px.histogram(daily, x=\"Q27_1\", color=\"pid\",\n",
    "                labels={\n",
    "                    \"Q27_1\": \"Mood\",\n",
    "                    \"pid\": \"Participants\"\n",
    "                })\n",
    "fig.show()\n"
   ]
  }
 ],
 "metadata": {
  "kernelspec": {
   "display_name": "Python 3.9.13 ('wellbeing')",
   "language": "python",
   "name": "python3"
  },
  "language_info": {
   "codemirror_mode": {
    "name": "ipython",
    "version": 3
   },
   "file_extension": ".py",
   "mimetype": "text/x-python",
   "name": "python",
   "nbconvert_exporter": "python",
   "pygments_lexer": "ipython3",
   "version": "3.10.9"
  },
  "orig_nbformat": 4,
  "vscode": {
   "interpreter": {
    "hash": "a992618346a8e130fcbe2ff070910fe9bbee5642ddebe7e532c2312c241da8bd"
   }
  }
 },
 "nbformat": 4,
 "nbformat_minor": 2
}
